{
 "cells": [
  {
   "cell_type": "code",
   "execution_count": 1,
   "metadata": {},
   "outputs": [],
   "source": [
    "import tweepy\n",
    "import pickle\n",
    "from tweepy import OAuthHandler"
   ]
  },
  {
   "cell_type": "code",
   "execution_count": 2,
   "metadata": {},
   "outputs": [],
   "source": [
    "from twitter_creds import API_KEY, API_SECRET, ACCESS_TOKEN, ACCESS_SECRET\n",
    "api_key = API_KEY\n",
    "api_secret = API_SECRET\n",
    "access_token = ACCESS_TOKEN\n",
    "access_secret = ACCESS_SECRET"
   ]
  },
  {
   "cell_type": "code",
   "execution_count": 3,
   "metadata": {},
   "outputs": [],
   "source": [
    "# Initialize tokens\n",
    "auth = OAuthHandler(api_key, api_secret)\n",
    "auth.set_access_token(access_token, access_secret)\n",
    "args = ['covid']\n",
    "api = tweepy.API(auth, timeout=10)"
   ]
  },
  {
   "cell_type": "code",
   "execution_count": 4,
   "metadata": {},
   "outputs": [],
   "source": [
    "# Fetch tweets from a major hub radius\n",
    "# https://www.latlong.net/\n",
    "# Dallas = '32.777981,-96.796211,100mi'\n",
    "# Houston = '29.760427,-95.369804,100mi'\n",
    "# Chicago = '41.892822,-87.645954,100mi'\n",
    "# Los Angeles = '34.052235,-118.243683,100mi'\n",
    "# New York = '40.712776,-74.005974,100mi'\n",
    "\n",
    "list_tweets = []\n",
    "query = args[0]\n",
    "if len(args) == 1:\n",
    "#     for status in tweepy.Cursor(api.search, q=query+' -filter:retweets', \n",
    "#                                 lang='en', result_type='recent',\n",
    "#                                 geocode='29.760427,-95.369804,50mi').items(100):\n",
    "    for status in tweepy.Cursor(api.search, q=query, include_rts=False, include_entities=True, \n",
    "                            lang='en', result_type='recent',\n",
    "                            geocode='40.712776,-74.005974,50mi').items(500):\n",
    "        \n",
    "        list_tweets.append(status.text)\n",
    "        \n",
    "# print(list_tweets)"
   ]
  },
  {
   "cell_type": "code",
   "execution_count": 5,
   "metadata": {},
   "outputs": [],
   "source": [
    "with open('classifier.pickle', 'rb') as f:\n",
    "    classifier = pickle.load(f)\n",
    "    \n",
    "with open('tfidfmodel.pickle', 'rb') as f:\n",
    "    tfidf = pickle.load(f)"
   ]
  },
  {
   "cell_type": "code",
   "execution_count": 6,
   "metadata": {},
   "outputs": [],
   "source": [
    "import re\n",
    "from contractions import contractions\n",
    "\n",
    "def clean(s):\n",
    "    # Replace contractions\n",
    "    if True:\n",
    "        s = s.split()\n",
    "        clean_s = []\n",
    "        for word in s:\n",
    "            if word in contractions:\n",
    "                clean_s.append(contractions[word])\n",
    "            else:\n",
    "                clean_s.append(word)\n",
    "                \n",
    "        s = ' '.join(clean_s)\n",
    "        \n",
    "    s = re.sub(r'<.*?>|[^a-zA-Z. ]', '', s)\n",
    "    \n",
    "    return s"
   ]
  },
  {
   "cell_type": "code",
   "execution_count": 7,
   "metadata": {},
   "outputs": [
    {
     "data": {
      "text/html": [
       "<div>\n",
       "<style scoped>\n",
       "    .dataframe tbody tr th:only-of-type {\n",
       "        vertical-align: middle;\n",
       "    }\n",
       "\n",
       "    .dataframe tbody tr th {\n",
       "        vertical-align: top;\n",
       "    }\n",
       "\n",
       "    .dataframe thead th {\n",
       "        text-align: right;\n",
       "    }\n",
       "</style>\n",
       "<table border=\"1\" class=\"dataframe\">\n",
       "  <thead>\n",
       "    <tr style=\"text-align: right;\">\n",
       "      <th></th>\n",
       "      <th>Tweet</th>\n",
       "      <th>Label</th>\n",
       "    </tr>\n",
       "  </thead>\n",
       "  <tbody>\n",
       "    <tr>\n",
       "      <th>0</th>\n",
       "      <td>RT @SenSchumer: Wear a mask.\\nWear a mask.\\nWe...</td>\n",
       "      <td>[0]</td>\n",
       "    </tr>\n",
       "    <tr>\n",
       "      <th>1</th>\n",
       "      <td>RT @stengel: Please, don't get distracted by t...</td>\n",
       "      <td>[0]</td>\n",
       "    </tr>\n",
       "    <tr>\n",
       "      <th>2</th>\n",
       "      <td>RT @danielsgoldman: In other words, the politi...</td>\n",
       "      <td>[0]</td>\n",
       "    </tr>\n",
       "    <tr>\n",
       "      <th>3</th>\n",
       "      <td>RT @sarahcpr: White House releases guidance on...</td>\n",
       "      <td>[0]</td>\n",
       "    </tr>\n",
       "    <tr>\n",
       "      <th>4</th>\n",
       "      <td>RT @sarahcpr: White House releases guidance on...</td>\n",
       "      <td>[0]</td>\n",
       "    </tr>\n",
       "  </tbody>\n",
       "</table>\n",
       "</div>"
      ],
      "text/plain": [
       "                                               Tweet Label\n",
       "0  RT @SenSchumer: Wear a mask.\\nWear a mask.\\nWe...   [0]\n",
       "1  RT @stengel: Please, don't get distracted by t...   [0]\n",
       "2  RT @danielsgoldman: In other words, the politi...   [0]\n",
       "3  RT @sarahcpr: White House releases guidance on...   [0]\n",
       "4  RT @sarahcpr: White House releases guidance on...   [0]"
      ]
     },
     "execution_count": 7,
     "metadata": {},
     "output_type": "execute_result"
    }
   ],
   "source": [
    "import pandas as pd\n",
    "\n",
    "label_1 = label_0 = 0\n",
    "sentences = []\n",
    "\n",
    "for tweet in list_tweets:\n",
    "    tweet = clean(tweet)\n",
    "    sentence = classifier.predict(tfidf.transform([tweet]).toarray())\n",
    "    sentences.append(sentence)\n",
    "    if sentence[0] == 1:\n",
    "        label_1 += 1\n",
    "    else:\n",
    "        label_0 += 1\n",
    "        \n",
    "df = pd.DataFrame({'Tweet': list_tweets, 'Label': sentences})\n",
    "df.head()"
   ]
  },
  {
   "cell_type": "code",
   "execution_count": 8,
   "metadata": {},
   "outputs": [
    {
     "name": "stdout",
     "output_type": "stream",
     "text": [
      "Label 1 totals: 162, Label 0 totals: 338\n"
     ]
    },
    {
     "data": {
      "image/png": "[encoded data removed]",
      "text/plain": [
       "<Figure size 432x288 with 1 Axes>"
      ]
     },
     "metadata": {
      "needs_background": "light"
     },
     "output_type": "display_data"
    }
   ],
   "source": [
    "import matplotlib.pyplot as plt\n",
    "import numpy as np\n",
    "\n",
    "print(f'Label 1 totals: {label_1}, Label 0 totals: {label_0}')\n",
    "objects = ['Label 1', 'Label 0']\n",
    "y_1 = np.arange(len(objects))\n",
    "plt.bar(y_1, [label_1, label_0], alpha=0.5)\n",
    "plt.xticks(y_1, objects)\n",
    "plt.title('Label 1 and Label 0 Tweet Totals')\n",
    "plt.show()"
   ]
  },
  {
   "cell_type": "code",
   "execution_count": 9,
   "metadata": {},
   "outputs": [
    {
     "name": "stdout",
     "output_type": "stream",
     "text": [
      "Samples of Label 1\n",
      "[\"RT @DrTomFrieden: This is atrocious. What good is a test for Covid if it comes back after the patient's  infecious period AND likely infect…\", 'RT @WallStCopywrite: #Accelerating #digital #transformation in the #Covid19 era\\n\\n#finance #money #business #entrepreneur #investment #succe…', 'RT @ArmyBratt68: I watched a news story last night that showed several private FL labs were only reporting positive COVID-19 results and no…', \"RT @kimlockhartga: COVID is sneaky and cruel. My cousin's husband tested positive on Sat. He felt fine. Rushed to hospital on Sun. In coma…\", 'Tech expert, Jennifer Jolly, is here to share some apps, gadgets, and tips to help you travel as safely as possible… https://t.co/5brNcOmxiF']\n",
      "\n",
      "Samples of Label 0\n",
      "['RT @SenSchumer: Wear a mask.\\nWear a mask.\\nWear a mask.\\nWear a mask.\\nWear a mask.\\n\\nWe can get COVID-19 much more under control if we all wea…', \"RT @stengel: Please, don't get distracted by the White House soap opera. That's what they want. They want you to forget that Florida had th…\", 'RT @danielsgoldman: In other words, the politicization of covid data has begun. And the purpose can only be one thing: to lie to the Americ…', \"RT @sarahcpr: White House releases guidance on how to stay COVID-free:\\n\\n1. Don't get tested\", \"RT @sarahcpr: White House releases guidance on how to stay COVID-free:\\n\\n1. Don't get tested\"]\n"
     ]
    }
   ],
   "source": [
    "print('Samples of Label 1')\n",
    "print([t for t in df.Tweet[df.Label == 1].head()])\n",
    "print()\n",
    "print('Samples of Label 0')\n",
    "# print(df.Tweet[df.Label == 0].iloc[0])\n",
    "print([t for t in df.Tweet[df.Label == 0].head()])"
   ]
  }
 ],
 "metadata": {
  "kernelspec": {
   "display_name": "Python 3",
   "language": "python",
   "name": "python3"
  },
  "language_info": {
   "codemirror_mode": {
    "name": "ipython",
    "version": 3
   },
   "file_extension": ".py",
   "mimetype": "text/x-python",
   "name": "python",
   "nbconvert_exporter": "python",
   "pygments_lexer": "ipython3",
   "version": "3.6.7"
  }
 },
 "nbformat": 4,
 "nbformat_minor": 4
}
