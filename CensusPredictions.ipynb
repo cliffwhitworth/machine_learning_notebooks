{
 "cells": [
  {
   "cell_type": "code",
   "execution_count": 1,
   "metadata": {},
   "outputs": [],
   "source": [
    "# Import libraries\n",
    "import pandas as pd"
   ]
  },
  {
   "cell_type": "code",
   "execution_count": 2,
   "metadata": {},
   "outputs": [
    {
     "data": {
      "text/html": [
       "<div>\n",
       "<style scoped>\n",
       "    .dataframe tbody tr th:only-of-type {\n",
       "        vertical-align: middle;\n",
       "    }\n",
       "\n",
       "    .dataframe tbody tr th {\n",
       "        vertical-align: top;\n",
       "    }\n",
       "\n",
       "    .dataframe thead th {\n",
       "        text-align: right;\n",
       "    }\n",
       "</style>\n",
       "<table border=\"1\" class=\"dataframe\">\n",
       "  <thead>\n",
       "    <tr style=\"text-align: right;\">\n",
       "      <th></th>\n",
       "      <th>39</th>\n",
       "      <th>State-gov</th>\n",
       "      <th>77516</th>\n",
       "      <th>Bachelors</th>\n",
       "      <th>13</th>\n",
       "      <th>Never-married</th>\n",
       "      <th>Adm-clerical</th>\n",
       "      <th>Not-in-family</th>\n",
       "      <th>White</th>\n",
       "      <th>Male</th>\n",
       "      <th>2174</th>\n",
       "      <th>0</th>\n",
       "      <th>40</th>\n",
       "      <th>United-States</th>\n",
       "      <th>&lt;=50K</th>\n",
       "    </tr>\n",
       "  </thead>\n",
       "  <tbody>\n",
       "    <tr>\n",
       "      <th>0</th>\n",
       "      <td>50</td>\n",
       "      <td>Self-emp-not-inc</td>\n",
       "      <td>83311</td>\n",
       "      <td>Bachelors</td>\n",
       "      <td>13</td>\n",
       "      <td>Married-civ-spouse</td>\n",
       "      <td>Exec-managerial</td>\n",
       "      <td>Husband</td>\n",
       "      <td>White</td>\n",
       "      <td>Male</td>\n",
       "      <td>0</td>\n",
       "      <td>0</td>\n",
       "      <td>13</td>\n",
       "      <td>United-States</td>\n",
       "      <td>&lt;=50K</td>\n",
       "    </tr>\n",
       "    <tr>\n",
       "      <th>1</th>\n",
       "      <td>38</td>\n",
       "      <td>Private</td>\n",
       "      <td>215646</td>\n",
       "      <td>HS-grad</td>\n",
       "      <td>9</td>\n",
       "      <td>Divorced</td>\n",
       "      <td>Handlers-cleaners</td>\n",
       "      <td>Not-in-family</td>\n",
       "      <td>White</td>\n",
       "      <td>Male</td>\n",
       "      <td>0</td>\n",
       "      <td>0</td>\n",
       "      <td>40</td>\n",
       "      <td>United-States</td>\n",
       "      <td>&lt;=50K</td>\n",
       "    </tr>\n",
       "    <tr>\n",
       "      <th>2</th>\n",
       "      <td>53</td>\n",
       "      <td>Private</td>\n",
       "      <td>234721</td>\n",
       "      <td>11th</td>\n",
       "      <td>7</td>\n",
       "      <td>Married-civ-spouse</td>\n",
       "      <td>Handlers-cleaners</td>\n",
       "      <td>Husband</td>\n",
       "      <td>Black</td>\n",
       "      <td>Male</td>\n",
       "      <td>0</td>\n",
       "      <td>0</td>\n",
       "      <td>40</td>\n",
       "      <td>United-States</td>\n",
       "      <td>&lt;=50K</td>\n",
       "    </tr>\n",
       "    <tr>\n",
       "      <th>3</th>\n",
       "      <td>28</td>\n",
       "      <td>Private</td>\n",
       "      <td>338409</td>\n",
       "      <td>Bachelors</td>\n",
       "      <td>13</td>\n",
       "      <td>Married-civ-spouse</td>\n",
       "      <td>Prof-specialty</td>\n",
       "      <td>Wife</td>\n",
       "      <td>Black</td>\n",
       "      <td>Female</td>\n",
       "      <td>0</td>\n",
       "      <td>0</td>\n",
       "      <td>40</td>\n",
       "      <td>Cuba</td>\n",
       "      <td>&lt;=50K</td>\n",
       "    </tr>\n",
       "    <tr>\n",
       "      <th>4</th>\n",
       "      <td>37</td>\n",
       "      <td>Private</td>\n",
       "      <td>284582</td>\n",
       "      <td>Masters</td>\n",
       "      <td>14</td>\n",
       "      <td>Married-civ-spouse</td>\n",
       "      <td>Exec-managerial</td>\n",
       "      <td>Wife</td>\n",
       "      <td>White</td>\n",
       "      <td>Female</td>\n",
       "      <td>0</td>\n",
       "      <td>0</td>\n",
       "      <td>40</td>\n",
       "      <td>United-States</td>\n",
       "      <td>&lt;=50K</td>\n",
       "    </tr>\n",
       "  </tbody>\n",
       "</table>\n",
       "</div>"
      ],
      "text/plain": [
       "   39          State-gov   77516   Bachelors   13        Never-married  \\\n",
       "0  50   Self-emp-not-inc   83311   Bachelors   13   Married-civ-spouse   \n",
       "1  38            Private  215646     HS-grad    9             Divorced   \n",
       "2  53            Private  234721        11th    7   Married-civ-spouse   \n",
       "3  28            Private  338409   Bachelors   13   Married-civ-spouse   \n",
       "4  37            Private  284582     Masters   14   Married-civ-spouse   \n",
       "\n",
       "         Adm-clerical   Not-in-family   White     Male   2174   0   40  \\\n",
       "0     Exec-managerial         Husband   White     Male      0   0   13   \n",
       "1   Handlers-cleaners   Not-in-family   White     Male      0   0   40   \n",
       "2   Handlers-cleaners         Husband   Black     Male      0   0   40   \n",
       "3      Prof-specialty            Wife   Black   Female      0   0   40   \n",
       "4     Exec-managerial            Wife   White   Female      0   0   40   \n",
       "\n",
       "    United-States   <=50K  \n",
       "0   United-States   <=50K  \n",
       "1   United-States   <=50K  \n",
       "2   United-States   <=50K  \n",
       "3            Cuba   <=50K  \n",
       "4   United-States   <=50K  "
      ]
     },
     "execution_count": 2,
     "metadata": {},
     "output_type": "execute_result"
    }
   ],
   "source": [
    "# Get data\n",
    "file_name = 'https://raw.githubusercontent.com/rajeevratan84/datascienceforbusiness/master/adult.data'\n",
    "census = pd.read_csv(file_name)\n",
    "census.head()"
   ]
  },
  {
   "cell_type": "code",
   "execution_count": 3,
   "metadata": {},
   "outputs": [
    {
     "data": {
      "text/html": [
       "<div>\n",
       "<style scoped>\n",
       "    .dataframe tbody tr th:only-of-type {\n",
       "        vertical-align: middle;\n",
       "    }\n",
       "\n",
       "    .dataframe tbody tr th {\n",
       "        vertical-align: top;\n",
       "    }\n",
       "\n",
       "    .dataframe thead th {\n",
       "        text-align: right;\n",
       "    }\n",
       "</style>\n",
       "<table border=\"1\" class=\"dataframe\">\n",
       "  <thead>\n",
       "    <tr style=\"text-align: right;\">\n",
       "      <th></th>\n",
       "      <th>age</th>\n",
       "      <th>workclass</th>\n",
       "      <th>fnlwgt</th>\n",
       "      <th>education</th>\n",
       "      <th>education_num</th>\n",
       "      <th>marital_status</th>\n",
       "      <th>occupation</th>\n",
       "      <th>relationship</th>\n",
       "      <th>race</th>\n",
       "      <th>sex</th>\n",
       "      <th>capital_gain</th>\n",
       "      <th>capital_loss</th>\n",
       "      <th>hours_per_week</th>\n",
       "      <th>native_country</th>\n",
       "      <th>income</th>\n",
       "    </tr>\n",
       "  </thead>\n",
       "  <tbody>\n",
       "    <tr>\n",
       "      <th>0</th>\n",
       "      <td>50</td>\n",
       "      <td>Self-emp-not-inc</td>\n",
       "      <td>83311</td>\n",
       "      <td>Bachelors</td>\n",
       "      <td>13</td>\n",
       "      <td>Married-civ-spouse</td>\n",
       "      <td>Exec-managerial</td>\n",
       "      <td>Husband</td>\n",
       "      <td>White</td>\n",
       "      <td>Male</td>\n",
       "      <td>0</td>\n",
       "      <td>0</td>\n",
       "      <td>13</td>\n",
       "      <td>United-States</td>\n",
       "      <td>&lt;=50K</td>\n",
       "    </tr>\n",
       "    <tr>\n",
       "      <th>1</th>\n",
       "      <td>38</td>\n",
       "      <td>Private</td>\n",
       "      <td>215646</td>\n",
       "      <td>HS-grad</td>\n",
       "      <td>9</td>\n",
       "      <td>Divorced</td>\n",
       "      <td>Handlers-cleaners</td>\n",
       "      <td>Not-in-family</td>\n",
       "      <td>White</td>\n",
       "      <td>Male</td>\n",
       "      <td>0</td>\n",
       "      <td>0</td>\n",
       "      <td>40</td>\n",
       "      <td>United-States</td>\n",
       "      <td>&lt;=50K</td>\n",
       "    </tr>\n",
       "    <tr>\n",
       "      <th>2</th>\n",
       "      <td>53</td>\n",
       "      <td>Private</td>\n",
       "      <td>234721</td>\n",
       "      <td>11th</td>\n",
       "      <td>7</td>\n",
       "      <td>Married-civ-spouse</td>\n",
       "      <td>Handlers-cleaners</td>\n",
       "      <td>Husband</td>\n",
       "      <td>Black</td>\n",
       "      <td>Male</td>\n",
       "      <td>0</td>\n",
       "      <td>0</td>\n",
       "      <td>40</td>\n",
       "      <td>United-States</td>\n",
       "      <td>&lt;=50K</td>\n",
       "    </tr>\n",
       "    <tr>\n",
       "      <th>3</th>\n",
       "      <td>28</td>\n",
       "      <td>Private</td>\n",
       "      <td>338409</td>\n",
       "      <td>Bachelors</td>\n",
       "      <td>13</td>\n",
       "      <td>Married-civ-spouse</td>\n",
       "      <td>Prof-specialty</td>\n",
       "      <td>Wife</td>\n",
       "      <td>Black</td>\n",
       "      <td>Female</td>\n",
       "      <td>0</td>\n",
       "      <td>0</td>\n",
       "      <td>40</td>\n",
       "      <td>Cuba</td>\n",
       "      <td>&lt;=50K</td>\n",
       "    </tr>\n",
       "    <tr>\n",
       "      <th>4</th>\n",
       "      <td>37</td>\n",
       "      <td>Private</td>\n",
       "      <td>284582</td>\n",
       "      <td>Masters</td>\n",
       "      <td>14</td>\n",
       "      <td>Married-civ-spouse</td>\n",
       "      <td>Exec-managerial</td>\n",
       "      <td>Wife</td>\n",
       "      <td>White</td>\n",
       "      <td>Female</td>\n",
       "      <td>0</td>\n",
       "      <td>0</td>\n",
       "      <td>40</td>\n",
       "      <td>United-States</td>\n",
       "      <td>&lt;=50K</td>\n",
       "    </tr>\n",
       "  </tbody>\n",
       "</table>\n",
       "</div>"
      ],
      "text/plain": [
       "  age          workclass  fnlwgt   education education_num  \\\n",
       "0  50   Self-emp-not-inc   83311   Bachelors            13   \n",
       "1  38            Private  215646     HS-grad             9   \n",
       "2  53            Private  234721        11th             7   \n",
       "3  28            Private  338409   Bachelors            13   \n",
       "4  37            Private  284582     Masters            14   \n",
       "\n",
       "        marital_status          occupation    relationship    race      sex  \\\n",
       "0   Married-civ-spouse     Exec-managerial         Husband   White     Male   \n",
       "1             Divorced   Handlers-cleaners   Not-in-family   White     Male   \n",
       "2   Married-civ-spouse   Handlers-cleaners         Husband   Black     Male   \n",
       "3   Married-civ-spouse      Prof-specialty            Wife   Black   Female   \n",
       "4   Married-civ-spouse     Exec-managerial            Wife   White   Female   \n",
       "\n",
       "  capital_gain capital_loss hours_per_week  native_country  income  \n",
       "0            0            0             13   United-States   <=50K  \n",
       "1            0            0             40   United-States   <=50K  \n",
       "2            0            0             40   United-States   <=50K  \n",
       "3            0            0             40            Cuba   <=50K  \n",
       "4            0            0             40   United-States   <=50K  "
      ]
     },
     "execution_count": 3,
     "metadata": {},
     "output_type": "execute_result"
    }
   ],
   "source": [
    "# Create dataframe with modified columnames\n",
    "col_names = ['age', 'workclass', 'fnlwgt', 'education', 'education_num',\n",
    "            'marital_status', 'occupation', 'relationship', 'race', 'sex',\n",
    "            'capital_gain', 'capital_loss', 'hours_per_week', 'native_country', 'income']\n",
    "\n",
    "census = pd.DataFrame(census.values, columns = col_names)\n",
    "census.head()"
   ]
  },
  {
   "cell_type": "code",
   "execution_count": 4,
   "metadata": {},
   "outputs": [
    {
     "name": "stdout",
     "output_type": "stream",
     "text": [
      "Dataframe shape: (32560, 15)\n",
      "Missing Values:\n",
      " 0\n",
      "Unique Values:\n",
      "age                  73\n",
      "workclass             9\n",
      "fnlwgt            21647\n",
      "education            16\n",
      "education_num        16\n",
      "marital_status        7\n",
      "occupation           15\n",
      "relationship          6\n",
      "race                  5\n",
      "sex                   2\n",
      "capital_gain        119\n",
      "capital_loss         92\n",
      "hours_per_week       94\n",
      "native_country       42\n",
      "income                2\n",
      "dtype: int64\n"
     ]
    }
   ],
   "source": [
    "# Basic stats\n",
    "print(f'Dataframe shape: {census.shape}')\n",
    "print(f'Missing Values:\\n {census.isnull().values.sum()}')\n",
    "print(f'Unique Values:\\n{census.nunique()}')"
   ]
  },
  {
   "cell_type": "code",
   "execution_count": 5,
   "metadata": {},
   "outputs": [
    {
     "name": "stdout",
     "output_type": "stream",
     "text": [
      "<class 'pandas.core.frame.DataFrame'>\n",
      "RangeIndex: 32560 entries, 0 to 32559\n",
      "Data columns (total 15 columns):\n",
      "age               32560 non-null object\n",
      "workclass         32560 non-null object\n",
      "fnlwgt            32560 non-null object\n",
      "education         32560 non-null object\n",
      "education_num     32560 non-null object\n",
      "marital_status    32560 non-null object\n",
      "occupation        32560 non-null object\n",
      "relationship      32560 non-null object\n",
      "race              32560 non-null object\n",
      "sex               32560 non-null object\n",
      "capital_gain      32560 non-null object\n",
      "capital_loss      32560 non-null object\n",
      "hours_per_week    32560 non-null object\n",
      "native_country    32560 non-null object\n",
      "income            32560 non-null object\n",
      "dtypes: object(15)\n",
      "memory usage: 3.7+ MB\n",
      "<class 'pandas.core.frame.DataFrame'>\n",
      "RangeIndex: 32560 entries, 0 to 32559\n",
      "Data columns (total 15 columns):\n",
      "age               32560 non-null int64\n",
      "workclass         32560 non-null object\n",
      "fnlwgt            32560 non-null int64\n",
      "education         32560 non-null object\n",
      "education_num     32560 non-null int64\n",
      "marital_status    32560 non-null object\n",
      "occupation        32560 non-null object\n",
      "relationship      32560 non-null object\n",
      "race              32560 non-null object\n",
      "sex               32560 non-null object\n",
      "capital_gain      32560 non-null int64\n",
      "capital_loss      32560 non-null int64\n",
      "hours_per_week    32560 non-null int64\n",
      "native_country    32560 non-null object\n",
      "income            32560 non-null object\n",
      "dtypes: int64(6), object(9)\n",
      "memory usage: 3.7+ MB\n"
     ]
    }
   ],
   "source": [
    "# Infer objects\n",
    "census.info()\n",
    "census = census.infer_objects()\n",
    "census.info()"
   ]
  },
  {
   "cell_type": "code",
   "execution_count": 6,
   "metadata": {},
   "outputs": [
    {
     "name": "stdout",
     "output_type": "stream",
     "text": [
      "<class 'pandas.core.frame.DataFrame'>\n",
      "RangeIndex: 32560 entries, 0 to 32559\n",
      "Data columns (total 15 columns):\n",
      "age               32560 non-null int64\n",
      "workclass         32560 non-null object\n",
      "fnlwgt            32560 non-null int64\n",
      "education         32560 non-null object\n",
      "education_num     32560 non-null int64\n",
      "marital_status    32560 non-null object\n",
      "occupation        32560 non-null object\n",
      "relationship      32560 non-null object\n",
      "race              32560 non-null object\n",
      "sex               32560 non-null object\n",
      "capital_gain      32560 non-null int64\n",
      "capital_loss      32560 non-null int64\n",
      "hours_per_week    32560 non-null int64\n",
      "native_country    32560 non-null object\n",
      "income            32560 non-null object\n",
      "dtypes: int64(6), object(9)\n",
      "memory usage: 3.7+ MB\n"
     ]
    }
   ],
   "source": [
    "census.info()"
   ]
  },
  {
   "cell_type": "code",
   "execution_count": 7,
   "metadata": {},
   "outputs": [
    {
     "name": "stdout",
     "output_type": "stream",
     "text": [
      "Total number of records: 32560\n",
      "Making more than 50K: 7841\n",
      "Making less or equal to 50K: 24719\n",
      "Percentage making more than 50K: 24.08\n"
     ]
    }
   ],
   "source": [
    "# Explore Income\n",
    "census['income'] = census['income'].str.strip()\n",
    "n = census.shape[0]\n",
    "n_greater_50k = census.loc[census['income'] == '>50K'].shape[0]\n",
    "n_less_equal_50k = census.loc[census['income'] == '<=50K'].shape[0]\n",
    "greater_percent = (n_greater_50k / n) * 100\n",
    "\n",
    "print(f'Total number of records: {n}')\n",
    "print(f'Making more than 50K: {n_greater_50k}')\n",
    "print(f'Making less or equal to 50K: {n_less_equal_50k}')\n",
    "print(f'Percentage making more than 50K: {round(greater_percent, 2)}')"
   ]
  },
  {
   "cell_type": "code",
   "execution_count": 8,
   "metadata": {},
   "outputs": [
    {
     "data": {
      "text/plain": [
       "<seaborn.axisgrid.FacetGrid at 0x7f98e32c3f60>"
      ]
     },
     "execution_count": 8,
     "metadata": {},
     "output_type": "execute_result"
    },
    {
     "data": {
      "image/png": "[encoded data removed]",
      "text/plain": [
       "<Figure size 1519.22x1440 with 16 Axes>"
      ]
     },
     "metadata": {},
     "output_type": "display_data"
    }
   ],
   "source": [
    "import seaborn as sns\n",
    "import matplotlib.pyplot as plt\n",
    "\n",
    "sns.set(style='whitegrid', color_codes=True)\n",
    "sns.catplot('sex', col='education', data=census, hue='income', kind='count', col_wrap=4)"
   ]
  },
  {
   "cell_type": "code",
   "execution_count": 9,
   "metadata": {},
   "outputs": [
    {
     "data": {
      "text/plain": [
       "array([[<matplotlib.axes._subplots.AxesSubplot object at 0x7f98e04374e0>]],\n",
       "      dtype=object)"
      ]
     },
     "execution_count": 9,
     "metadata": {},
     "output_type": "execute_result"
    },
    {
     "data": {
      "image/png": "[encoded data removed]",
      "text/plain": [
       "<Figure size 432x288 with 1 Axes>"
      ]
     },
     "metadata": {},
     "output_type": "display_data"
    }
   ],
   "source": [
    "# Age histogram\n",
    "census.hist('age')"
   ]
  },
  {
   "cell_type": "code",
   "execution_count": 10,
   "metadata": {},
   "outputs": [
    {
     "data": {
      "image/png": "[encoded data removed]",
      "text/plain": [
       "<Figure size 432x288 with 2 Axes>"
      ]
     },
     "metadata": {},
     "output_type": "display_data"
    }
   ],
   "source": [
    "# Capital gain loss histogram comparisons\n",
    "import numpy as np\n",
    "\n",
    "fig, axes = plt.subplots(1, 2)\n",
    "census.hist('capital_gain', bins=20, ax=axes[0])\n",
    "census.hist('capital_loss', bins=20, ax=axes[1])\n",
    "plt.tight_layout()"
   ]
  },
  {
   "cell_type": "code",
   "execution_count": 11,
   "metadata": {},
   "outputs": [
    {
     "data": {
      "image/png": "[encoded data removed]",
      "text/plain": [
       "<Figure size 432x288 with 2 Axes>"
      ]
     },
     "metadata": {},
     "output_type": "display_data"
    }
   ],
   "source": [
    "# Apply log to capital gains losses\n",
    "skewed = ['capital_gain', 'capital_loss']\n",
    "census[skewed] = census[skewed].apply(lambda x: np.log(x + 1))\n",
    "\n",
    "fig, axes = plt.subplots(1, 2)\n",
    "census.hist('capital_gain', bins=20, ax=axes[0])\n",
    "census.hist('capital_loss', bins=20, ax=axes[1])\n",
    "plt.tight_layout()"
   ]
  },
  {
   "cell_type": "code",
   "execution_count": 12,
   "metadata": {},
   "outputs": [
    {
     "data": {
      "text/plain": [
       "age               False\n",
       "workclass          True\n",
       "fnlwgt            False\n",
       "education         False\n",
       "education_num     False\n",
       "marital_status    False\n",
       "occupation         True\n",
       "relationship      False\n",
       "race              False\n",
       "sex               False\n",
       "capital_gain      False\n",
       "capital_loss      False\n",
       "hours_per_week    False\n",
       "native_country     True\n",
       "income            False\n",
       "dtype: bool"
      ]
     },
     "execution_count": 12,
     "metadata": {},
     "output_type": "execute_result"
    }
   ],
   "source": [
    "census.isin([' ?']).any(axis='rows')"
   ]
  },
  {
   "cell_type": "code",
   "execution_count": 13,
   "metadata": {},
   "outputs": [],
   "source": [
    "census = census[census['workclass'] != ' ?']\n",
    "census = census[census['occupation'] != ' ?']\n",
    "census = census[census['native_country'] != ' ?']"
   ]
  },
  {
   "cell_type": "code",
   "execution_count": 14,
   "metadata": {},
   "outputs": [
    {
     "data": {
      "text/html": [
       "<div>\n",
       "<style scoped>\n",
       "    .dataframe tbody tr th:only-of-type {\n",
       "        vertical-align: middle;\n",
       "    }\n",
       "\n",
       "    .dataframe tbody tr th {\n",
       "        vertical-align: top;\n",
       "    }\n",
       "\n",
       "    .dataframe thead th {\n",
       "        text-align: right;\n",
       "    }\n",
       "</style>\n",
       "<table border=\"1\" class=\"dataframe\">\n",
       "  <thead>\n",
       "    <tr style=\"text-align: right;\">\n",
       "      <th></th>\n",
       "      <th>age</th>\n",
       "      <th>workclass</th>\n",
       "      <th>fnlwgt</th>\n",
       "      <th>education</th>\n",
       "      <th>education_num</th>\n",
       "      <th>marital_status</th>\n",
       "      <th>occupation</th>\n",
       "      <th>relationship</th>\n",
       "      <th>race</th>\n",
       "      <th>sex</th>\n",
       "      <th>capital_gain</th>\n",
       "      <th>capital_loss</th>\n",
       "      <th>hours_per_week</th>\n",
       "      <th>native_country</th>\n",
       "      <th>income</th>\n",
       "    </tr>\n",
       "  </thead>\n",
       "  <tbody>\n",
       "    <tr>\n",
       "      <th>0</th>\n",
       "      <td>0.452055</td>\n",
       "      <td>Self-emp-not-inc</td>\n",
       "      <td>83311</td>\n",
       "      <td>Bachelors</td>\n",
       "      <td>0.800000</td>\n",
       "      <td>Married-civ-spouse</td>\n",
       "      <td>Exec-managerial</td>\n",
       "      <td>Husband</td>\n",
       "      <td>White</td>\n",
       "      <td>Male</td>\n",
       "      <td>0.0</td>\n",
       "      <td>0.0</td>\n",
       "      <td>0.122449</td>\n",
       "      <td>United-States</td>\n",
       "      <td>&lt;=50K</td>\n",
       "    </tr>\n",
       "    <tr>\n",
       "      <th>1</th>\n",
       "      <td>0.287671</td>\n",
       "      <td>Private</td>\n",
       "      <td>215646</td>\n",
       "      <td>HS-grad</td>\n",
       "      <td>0.533333</td>\n",
       "      <td>Divorced</td>\n",
       "      <td>Handlers-cleaners</td>\n",
       "      <td>Not-in-family</td>\n",
       "      <td>White</td>\n",
       "      <td>Male</td>\n",
       "      <td>0.0</td>\n",
       "      <td>0.0</td>\n",
       "      <td>0.397959</td>\n",
       "      <td>United-States</td>\n",
       "      <td>&lt;=50K</td>\n",
       "    </tr>\n",
       "    <tr>\n",
       "      <th>2</th>\n",
       "      <td>0.493151</td>\n",
       "      <td>Private</td>\n",
       "      <td>234721</td>\n",
       "      <td>11th</td>\n",
       "      <td>0.400000</td>\n",
       "      <td>Married-civ-spouse</td>\n",
       "      <td>Handlers-cleaners</td>\n",
       "      <td>Husband</td>\n",
       "      <td>Black</td>\n",
       "      <td>Male</td>\n",
       "      <td>0.0</td>\n",
       "      <td>0.0</td>\n",
       "      <td>0.397959</td>\n",
       "      <td>United-States</td>\n",
       "      <td>&lt;=50K</td>\n",
       "    </tr>\n",
       "    <tr>\n",
       "      <th>3</th>\n",
       "      <td>0.150685</td>\n",
       "      <td>Private</td>\n",
       "      <td>338409</td>\n",
       "      <td>Bachelors</td>\n",
       "      <td>0.800000</td>\n",
       "      <td>Married-civ-spouse</td>\n",
       "      <td>Prof-specialty</td>\n",
       "      <td>Wife</td>\n",
       "      <td>Black</td>\n",
       "      <td>Female</td>\n",
       "      <td>0.0</td>\n",
       "      <td>0.0</td>\n",
       "      <td>0.397959</td>\n",
       "      <td>Cuba</td>\n",
       "      <td>&lt;=50K</td>\n",
       "    </tr>\n",
       "    <tr>\n",
       "      <th>4</th>\n",
       "      <td>0.273973</td>\n",
       "      <td>Private</td>\n",
       "      <td>284582</td>\n",
       "      <td>Masters</td>\n",
       "      <td>0.866667</td>\n",
       "      <td>Married-civ-spouse</td>\n",
       "      <td>Exec-managerial</td>\n",
       "      <td>Wife</td>\n",
       "      <td>White</td>\n",
       "      <td>Female</td>\n",
       "      <td>0.0</td>\n",
       "      <td>0.0</td>\n",
       "      <td>0.397959</td>\n",
       "      <td>United-States</td>\n",
       "      <td>&lt;=50K</td>\n",
       "    </tr>\n",
       "  </tbody>\n",
       "</table>\n",
       "</div>"
      ],
      "text/plain": [
       "        age          workclass  fnlwgt   education  education_num  \\\n",
       "0  0.452055   Self-emp-not-inc   83311   Bachelors       0.800000   \n",
       "1  0.287671            Private  215646     HS-grad       0.533333   \n",
       "2  0.493151            Private  234721        11th       0.400000   \n",
       "3  0.150685            Private  338409   Bachelors       0.800000   \n",
       "4  0.273973            Private  284582     Masters       0.866667   \n",
       "\n",
       "        marital_status          occupation    relationship    race      sex  \\\n",
       "0   Married-civ-spouse     Exec-managerial         Husband   White     Male   \n",
       "1             Divorced   Handlers-cleaners   Not-in-family   White     Male   \n",
       "2   Married-civ-spouse   Handlers-cleaners         Husband   Black     Male   \n",
       "3   Married-civ-spouse      Prof-specialty            Wife   Black   Female   \n",
       "4   Married-civ-spouse     Exec-managerial            Wife   White   Female   \n",
       "\n",
       "   capital_gain  capital_loss  hours_per_week  native_country income  \n",
       "0           0.0           0.0        0.122449   United-States  <=50K  \n",
       "1           0.0           0.0        0.397959   United-States  <=50K  \n",
       "2           0.0           0.0        0.397959   United-States  <=50K  \n",
       "3           0.0           0.0        0.397959            Cuba  <=50K  \n",
       "4           0.0           0.0        0.397959   United-States  <=50K  "
      ]
     },
     "execution_count": 14,
     "metadata": {},
     "output_type": "execute_result"
    }
   ],
   "source": [
    "# Prepare data for modelling\n",
    "from sklearn.preprocessing import MinMaxScaler\n",
    "\n",
    "scaler = MinMaxScaler()\n",
    "numerical = ['age', 'education_num', 'capital_gain', 'capital_loss', 'hours_per_week']\n",
    "census_minmax = pd.DataFrame(data=census)\n",
    "census_minmax[numerical] = scaler.fit_transform(census_minmax[numerical])\n",
    "census_minmax.head()"
   ]
  },
  {
   "cell_type": "code",
   "execution_count": 15,
   "metadata": {},
   "outputs": [],
   "source": [
    "# Set income as target and label 1 and 0 for <=50K\n",
    "from sklearn.preprocessing import LabelEncoder\n",
    "\n",
    "encoder = LabelEncoder()\n",
    "income = census_minmax['income'].apply(lambda x: 0 if x == '<=50K' else 1)\n",
    "target = pd.Series(encoder.fit_transform(income))"
   ]
  },
  {
   "cell_type": "code",
   "execution_count": 16,
   "metadata": {},
   "outputs": [
    {
     "name": "stdout",
     "output_type": "stream",
     "text": [
      "104 total features after get dummies\n"
     ]
    }
   ],
   "source": [
    "# Set features\n",
    "features = pd.get_dummies(census_minmax.drop('income', axis=1))\n",
    "features_list = list(features.columns)\n",
    "print(f'{len(features_list)} total features after get dummies')"
   ]
  },
  {
   "cell_type": "code",
   "execution_count": 17,
   "metadata": {},
   "outputs": [
    {
     "name": "stdout",
     "output_type": "stream",
     "text": [
      "X_train shape: (20207, 104)\n",
      "X_test shape: (9954, 104)\n"
     ]
    }
   ],
   "source": [
    "# Split data\n",
    "from sklearn.model_selection import train_test_split\n",
    "\n",
    "X_train, X_test, y_train, y_test = train_test_split(features, target, test_size=0.33)\n",
    "print(f'X_train shape: {X_train.shape}')\n",
    "print(f'X_test shape: {X_test.shape}')"
   ]
  },
  {
   "cell_type": "code",
   "execution_count": 18,
   "metadata": {},
   "outputs": [],
   "source": [
    "from sklearn.metrics import fbeta_score, accuracy_score\n",
    "from time import time\n",
    "\n",
    "def train_predict(learner, sample_size, X_train, y_train, X_test, y_test):\n",
    "    '''\n",
    "    inputs:\n",
    "    - learner: the learning algorithm\n",
    "    - sample_size: training set sample size\n",
    "    - X_train: training features\n",
    "    - y_train: training targets\n",
    "    - X_test: testing features\n",
    "    - y_test: testing targets\n",
    "    '''\n",
    "    \n",
    "    results = {}\n",
    "    # Fit the training data\n",
    "    start = time()\n",
    "    learner = learner.fit(X_train[:sample_size], y_train[:sample_size])\n",
    "    end = time()\n",
    "    results['training_time'] = end - start\n",
    "    \n",
    "    # Get predictions\n",
    "    start = time()\n",
    "    preds_train = learner.predict(X_train[:300])\n",
    "    preds_test = learner.predict(X_test)\n",
    "    end = time()\n",
    "    results['prediction_time'] = end - start\n",
    "    \n",
    "    results['training_accuracy'] = accuracy_score(y_train[:300], preds_train)\n",
    "    results['testing_accuracy'] = accuracy_score(y_test, preds_test)\n",
    "    results['training_fscore'] = fbeta_score(y_train[:300], preds_train, 0.5)\n",
    "    results['testing_fscore'] = fbeta_score(y_test, preds_test, 0.5)\n",
    "    \n",
    "    # Print algorithm used and sample size\n",
    "    print(f'{learner.__class__.__name__} trained on {sample_size} samples') \n",
    "    \n",
    "    return results"
   ]
  },
  {
   "cell_type": "code",
   "execution_count": 19,
   "metadata": {},
   "outputs": [
    {
     "name": "stdout",
     "output_type": "stream",
     "text": [
      "DecisionTreeClassifier trained on 202 samples\n",
      "DecisionTreeClassifier trained on 2021 samples\n",
      "DecisionTreeClassifier trained on 20207 samples\n",
      "SVC trained on 202 samples\n",
      "SVC trained on 2021 samples\n",
      "SVC trained on 20207 samples\n",
      "AdaBoostClassifier trained on 202 samples\n",
      "AdaBoostClassifier trained on 2021 samples\n",
      "AdaBoostClassifier trained on 20207 samples\n"
     ]
    }
   ],
   "source": [
    "# Compare DecisionTree, SVC, and AdaBoost\n",
    "from sklearn.tree import DecisionTreeClassifier\n",
    "from sklearn.svm import SVC\n",
    "from sklearn.ensemble import AdaBoostClassifier\n",
    "\n",
    "tree_clf = DecisionTreeClassifier()\n",
    "svc_clf = SVC(gamma='auto')\n",
    "adaboost_clf = AdaBoostClassifier()\n",
    "\n",
    "# Set sample sizes for 1%, 10%, and 100%\n",
    "one_percent = int(round(len(X_train) / 100))\n",
    "ten_percent = int(round(len(X_train) / 10))\n",
    "hundred_percent = int(round(len(X_train)))\n",
    "\n",
    "# Get results\n",
    "results = {}\n",
    "for clf in [tree_clf, svc_clf, adaboost_clf]:\n",
    "    clf_name = clf.__class__.__name__\n",
    "    results[clf_name] = {}\n",
    "    for i, samples in enumerate([one_percent, ten_percent, hundred_percent]):\n",
    "        results[clf_name][i] = train_predict(clf, samples, X_train, y_train, X_test, y_test)\n",
    "        "
   ]
  },
  {
   "cell_type": "code",
   "execution_count": 20,
   "metadata": {},
   "outputs": [
    {
     "name": "stdout",
     "output_type": "stream",
     "text": [
      "DecisionTreeClassifier\n"
     ]
    },
    {
     "data": {
      "text/html": [
       "<div>\n",
       "<style scoped>\n",
       "    .dataframe tbody tr th:only-of-type {\n",
       "        vertical-align: middle;\n",
       "    }\n",
       "\n",
       "    .dataframe tbody tr th {\n",
       "        vertical-align: top;\n",
       "    }\n",
       "\n",
       "    .dataframe thead th {\n",
       "        text-align: right;\n",
       "    }\n",
       "</style>\n",
       "<table border=\"1\" class=\"dataframe\">\n",
       "  <thead>\n",
       "    <tr style=\"text-align: right;\">\n",
       "      <th></th>\n",
       "      <th>1%</th>\n",
       "      <th>10%</th>\n",
       "      <th>100%</th>\n",
       "    </tr>\n",
       "  </thead>\n",
       "  <tbody>\n",
       "    <tr>\n",
       "      <th>training_time</th>\n",
       "      <td>0.002982</td>\n",
       "      <td>0.013061</td>\n",
       "      <td>0.178020</td>\n",
       "    </tr>\n",
       "    <tr>\n",
       "      <th>prediction_time</th>\n",
       "      <td>0.006228</td>\n",
       "      <td>0.005761</td>\n",
       "      <td>0.006910</td>\n",
       "    </tr>\n",
       "    <tr>\n",
       "      <th>training_accuracy</th>\n",
       "      <td>0.916667</td>\n",
       "      <td>1.000000</td>\n",
       "      <td>1.000000</td>\n",
       "    </tr>\n",
       "    <tr>\n",
       "      <th>testing_accuracy</th>\n",
       "      <td>0.764517</td>\n",
       "      <td>0.800482</td>\n",
       "      <td>0.814145</td>\n",
       "    </tr>\n",
       "    <tr>\n",
       "      <th>training_fscore</th>\n",
       "      <td>0.825359</td>\n",
       "      <td>1.000000</td>\n",
       "      <td>1.000000</td>\n",
       "    </tr>\n",
       "    <tr>\n",
       "      <th>testing_fscore</th>\n",
       "      <td>0.521513</td>\n",
       "      <td>0.596643</td>\n",
       "      <td>0.624900</td>\n",
       "    </tr>\n",
       "  </tbody>\n",
       "</table>\n",
       "</div>"
      ],
      "text/plain": [
       "                         1%       10%      100%\n",
       "training_time      0.002982  0.013061  0.178020\n",
       "prediction_time    0.006228  0.005761  0.006910\n",
       "training_accuracy  0.916667  1.000000  1.000000\n",
       "testing_accuracy   0.764517  0.800482  0.814145\n",
       "training_fscore    0.825359  1.000000  1.000000\n",
       "testing_fscore     0.521513  0.596643  0.624900"
      ]
     },
     "metadata": {},
     "output_type": "display_data"
    },
    {
     "name": "stdout",
     "output_type": "stream",
     "text": [
      "SVC\n"
     ]
    },
    {
     "data": {
      "text/html": [
       "<div>\n",
       "<style scoped>\n",
       "    .dataframe tbody tr th:only-of-type {\n",
       "        vertical-align: middle;\n",
       "    }\n",
       "\n",
       "    .dataframe tbody tr th {\n",
       "        vertical-align: top;\n",
       "    }\n",
       "\n",
       "    .dataframe thead th {\n",
       "        text-align: right;\n",
       "    }\n",
       "</style>\n",
       "<table border=\"1\" class=\"dataframe\">\n",
       "  <thead>\n",
       "    <tr style=\"text-align: right;\">\n",
       "      <th></th>\n",
       "      <th>1%</th>\n",
       "      <th>10%</th>\n",
       "      <th>100%</th>\n",
       "    </tr>\n",
       "  </thead>\n",
       "  <tbody>\n",
       "    <tr>\n",
       "      <th>training_time</th>\n",
       "      <td>0.006963</td>\n",
       "      <td>0.451302</td>\n",
       "      <td>134.150638</td>\n",
       "    </tr>\n",
       "    <tr>\n",
       "      <th>prediction_time</th>\n",
       "      <td>0.216252</td>\n",
       "      <td>2.096432</td>\n",
       "      <td>21.156849</td>\n",
       "    </tr>\n",
       "    <tr>\n",
       "      <th>training_accuracy</th>\n",
       "      <td>0.926667</td>\n",
       "      <td>0.950000</td>\n",
       "      <td>0.886667</td>\n",
       "    </tr>\n",
       "    <tr>\n",
       "      <th>testing_accuracy</th>\n",
       "      <td>0.750753</td>\n",
       "      <td>0.744424</td>\n",
       "      <td>0.734579</td>\n",
       "    </tr>\n",
       "    <tr>\n",
       "      <th>training_fscore</th>\n",
       "      <td>0.927152</td>\n",
       "      <td>0.954545</td>\n",
       "      <td>0.845324</td>\n",
       "    </tr>\n",
       "    <tr>\n",
       "      <th>testing_fscore</th>\n",
       "      <td>0.044150</td>\n",
       "      <td>0.161506</td>\n",
       "      <td>0.322704</td>\n",
       "    </tr>\n",
       "  </tbody>\n",
       "</table>\n",
       "</div>"
      ],
      "text/plain": [
       "                         1%       10%        100%\n",
       "training_time      0.006963  0.451302  134.150638\n",
       "prediction_time    0.216252  2.096432   21.156849\n",
       "training_accuracy  0.926667  0.950000    0.886667\n",
       "testing_accuracy   0.750753  0.744424    0.734579\n",
       "training_fscore    0.927152  0.954545    0.845324\n",
       "testing_fscore     0.044150  0.161506    0.322704"
      ]
     },
     "metadata": {},
     "output_type": "display_data"
    },
    {
     "name": "stdout",
     "output_type": "stream",
     "text": [
      "AdaBoostClassifier\n"
     ]
    },
    {
     "data": {
      "text/html": [
       "<div>\n",
       "<style scoped>\n",
       "    .dataframe tbody tr th:only-of-type {\n",
       "        vertical-align: middle;\n",
       "    }\n",
       "\n",
       "    .dataframe tbody tr th {\n",
       "        vertical-align: top;\n",
       "    }\n",
       "\n",
       "    .dataframe thead th {\n",
       "        text-align: right;\n",
       "    }\n",
       "</style>\n",
       "<table border=\"1\" class=\"dataframe\">\n",
       "  <thead>\n",
       "    <tr style=\"text-align: right;\">\n",
       "      <th></th>\n",
       "      <th>1%</th>\n",
       "      <th>10%</th>\n",
       "      <th>100%</th>\n",
       "    </tr>\n",
       "  </thead>\n",
       "  <tbody>\n",
       "    <tr>\n",
       "      <th>training_time</th>\n",
       "      <td>0.074498</td>\n",
       "      <td>0.159454</td>\n",
       "      <td>1.207389</td>\n",
       "    </tr>\n",
       "    <tr>\n",
       "      <th>prediction_time</th>\n",
       "      <td>0.161464</td>\n",
       "      <td>0.161568</td>\n",
       "      <td>0.163067</td>\n",
       "    </tr>\n",
       "    <tr>\n",
       "      <th>training_accuracy</th>\n",
       "      <td>0.926667</td>\n",
       "      <td>0.896667</td>\n",
       "      <td>0.863333</td>\n",
       "    </tr>\n",
       "    <tr>\n",
       "      <th>testing_accuracy</th>\n",
       "      <td>0.791340</td>\n",
       "      <td>0.844886</td>\n",
       "      <td>0.853727</td>\n",
       "    </tr>\n",
       "    <tr>\n",
       "      <th>training_fscore</th>\n",
       "      <td>0.837209</td>\n",
       "      <td>0.828402</td>\n",
       "      <td>0.748588</td>\n",
       "    </tr>\n",
       "    <tr>\n",
       "      <th>testing_fscore</th>\n",
       "      <td>0.578617</td>\n",
       "      <td>0.701116</td>\n",
       "      <td>0.717789</td>\n",
       "    </tr>\n",
       "  </tbody>\n",
       "</table>\n",
       "</div>"
      ],
      "text/plain": [
       "                         1%       10%      100%\n",
       "training_time      0.074498  0.159454  1.207389\n",
       "prediction_time    0.161464  0.161568  0.163067\n",
       "training_accuracy  0.926667  0.896667  0.863333\n",
       "testing_accuracy   0.791340  0.844886  0.853727\n",
       "training_fscore    0.837209  0.828402  0.748588\n",
       "testing_fscore     0.578617  0.701116  0.717789"
      ]
     },
     "metadata": {},
     "output_type": "display_data"
    }
   ],
   "source": [
    "for i in results.items():\n",
    "    print(i[0])\n",
    "    display(pd.DataFrame(i[1]).rename(columns={0:'1%', 1:'10%', 2:'100%'}))"
   ]
  },
  {
   "cell_type": "code",
   "execution_count": 21,
   "metadata": {},
   "outputs": [
    {
     "data": {
      "text/plain": [
       "<Figure size 432x288 with 0 Axes>"
      ]
     },
     "metadata": {},
     "output_type": "display_data"
    },
    {
     "data": {
      "image/png": "[encoded data removed]",
      "text/plain": [
       "<Figure size 432x288 with 2 Axes>"
      ]
     },
     "metadata": {},
     "output_type": "display_data"
    },
    {
     "data": {
      "image/png": "[encoded data removed]",
      "text/plain": [
       "<Figure size 432x288 with 2 Axes>"
      ]
     },
     "metadata": {},
     "output_type": "display_data"
    },
    {
     "data": {
      "image/png": "[encoded data removed]",
      "text/plain": [
       "<Figure size 432x288 with 2 Axes>"
      ]
     },
     "metadata": {},
     "output_type": "display_data"
    }
   ],
   "source": [
    "# Compare confusion matrix models\n",
    "from sklearn.metrics import confusion_matrix\n",
    "\n",
    "plt.figure()\n",
    "for i, clf in enumerate([tree_clf, svc_clf, adaboost_clf]):\n",
    "    cm = confusion_matrix(y_test, clf.predict(X_test))\n",
    "    cm = cm.astype('float') / cm.sum(axis=1)[:, np.newaxis]\n",
    "    plt.figure(i)\n",
    "    sns.heatmap(cm, annot=True)\n",
    "    plt.ylabel('Actual')\n",
    "    plt.xlabel('Predicted')\n",
    "    plt.title(clf.__class__.__name__)\n",
    "    plt.show()"
   ]
  },
  {
   "cell_type": "code",
   "execution_count": 22,
   "metadata": {},
   "outputs": [
    {
     "name": "stdout",
     "output_type": "stream",
     "text": [
      "Unoptimized model\n",
      "-----------------\n",
      "Accuracy: 0.8141\n",
      "F-score: 0.6249\n",
      "\n",
      "Optimized model\n",
      "---------------\n",
      "Accuracy: 0.8679\n",
      "F-score: 0.7500\n",
      "\n",
      "Model\n",
      "-----\n",
      "AdaBoostClassifier(algorithm='SAMME.R',\n",
      "                   base_estimator=DecisionTreeClassifier(ccp_alpha=0.0,\n",
      "                                                         class_weight=None,\n",
      "                                                         criterion='gini',\n",
      "                                                         max_depth=2,\n",
      "                                                         max_features=None,\n",
      "                                                         max_leaf_nodes=None,\n",
      "                                                         min_impurity_decrease=0.0,\n",
      "                                                         min_impurity_split=None,\n",
      "                                                         min_samples_leaf=1,\n",
      "                                                         min_samples_split=2,\n",
      "                                                         min_weight_fraction_leaf=0.0,\n",
      "                                                         presort='deprecated',\n",
      "                                                         random_state=None,\n",
      "                                                         splitter='best'),\n",
      "                   learning_rate=0.5, n_estimators=120, random_state=None)\n"
     ]
    }
   ],
   "source": [
    "# Optimize AdaBoostClassifier\n",
    "from sklearn.model_selection import GridSearchCV\n",
    "from sklearn.metrics import make_scorer\n",
    "\n",
    "clf = AdaBoostClassifier(base_estimator=DecisionTreeClassifier())\n",
    "\n",
    "# Provide hyperparameters\n",
    "h_params = {'n_estimators':[50,120],\n",
    "           'learning_rate':[0.1,0.5,1.],\n",
    "           'base_estimator__min_samples_split':np.arange(2,8,2),\n",
    "           'base_estimator__max_depth':np.arange(1,4,1)}\n",
    "\n",
    "scorer = make_scorer(fbeta_score,beta=0.5)\n",
    "grid_obj = GridSearchCV(clf, h_params, scorer)\n",
    "grid_fit = grid_obj.fit(X_train, y_train)\n",
    "best_clf = grid_fit.best_estimator_\n",
    "\n",
    "predictions = (clf.fit(X_train, y_train)).predict(X_test)\n",
    "best_predictions = best_clf.predict(X_test)\n",
    "\n",
    "print('Unoptimized model\\n-----------------')\n",
    "print(f'Accuracy: {accuracy_score(y_test, predictions):.4f}')\n",
    "print(f'F-score: {fbeta_score(y_test, predictions, 0.5):.4f}')\n",
    "print('\\nOptimized model\\n---------------')\n",
    "print(f'Accuracy: {accuracy_score(y_test, best_predictions):.4f}')\n",
    "print(f'F-score: {fbeta_score(y_test, best_predictions, 0.5):.4f}')\n",
    "print('\\nModel\\n-----')\n",
    "print(best_clf)"
   ]
  }
 ],
 "metadata": {
  "kernelspec": {
   "display_name": "Python 3",
   "language": "python",
   "name": "python3"
  },
  "language_info": {
   "codemirror_mode": {
    "name": "ipython",
    "version": 3
   },
   "file_extension": ".py",
   "mimetype": "text/x-python",
   "name": "python",
   "nbconvert_exporter": "python",
   "pygments_lexer": "ipython3",
   "version": "3.6.7"
  }
 },
 "nbformat": 4,
 "nbformat_minor": 4
}
