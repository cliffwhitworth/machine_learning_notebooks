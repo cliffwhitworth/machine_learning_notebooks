{
 "cells": [
  {
   "cell_type": "markdown",
   "metadata": {},
   "source": [
    "## TensorFlow 2.x"
   ]
  },
  {
   "cell_type": "code",
   "execution_count": 1,
   "metadata": {},
   "outputs": [],
   "source": [
    "import pandas as pd\n",
    "import numpy as np"
   ]
  },
  {
   "cell_type": "code",
   "execution_count": 2,
   "metadata": {},
   "outputs": [
    {
     "data": {
      "text/html": [
       "<div>\n",
       "<style scoped>\n",
       "    .dataframe tbody tr th:only-of-type {\n",
       "        vertical-align: middle;\n",
       "    }\n",
       "\n",
       "    .dataframe tbody tr th {\n",
       "        vertical-align: top;\n",
       "    }\n",
       "\n",
       "    .dataframe thead th {\n",
       "        text-align: right;\n",
       "    }\n",
       "</style>\n",
       "<table border=\"1\" class=\"dataframe\">\n",
       "  <thead>\n",
       "    <tr style=\"text-align: right;\">\n",
       "      <th></th>\n",
       "      <th>Time</th>\n",
       "      <th>V1</th>\n",
       "      <th>V2</th>\n",
       "      <th>V3</th>\n",
       "      <th>V4</th>\n",
       "      <th>V5</th>\n",
       "      <th>V6</th>\n",
       "      <th>V7</th>\n",
       "      <th>V8</th>\n",
       "      <th>V9</th>\n",
       "      <th>...</th>\n",
       "      <th>V21</th>\n",
       "      <th>V22</th>\n",
       "      <th>V23</th>\n",
       "      <th>V24</th>\n",
       "      <th>V25</th>\n",
       "      <th>V26</th>\n",
       "      <th>V27</th>\n",
       "      <th>V28</th>\n",
       "      <th>Amount</th>\n",
       "      <th>Class</th>\n",
       "    </tr>\n",
       "  </thead>\n",
       "  <tbody>\n",
       "    <tr>\n",
       "      <th>0</th>\n",
       "      <td>0.0</td>\n",
       "      <td>-1.359807</td>\n",
       "      <td>-0.072781</td>\n",
       "      <td>2.536347</td>\n",
       "      <td>1.378155</td>\n",
       "      <td>-0.338321</td>\n",
       "      <td>0.462388</td>\n",
       "      <td>0.239599</td>\n",
       "      <td>0.098698</td>\n",
       "      <td>0.363787</td>\n",
       "      <td>...</td>\n",
       "      <td>-0.018307</td>\n",
       "      <td>0.277838</td>\n",
       "      <td>-0.110474</td>\n",
       "      <td>0.066928</td>\n",
       "      <td>0.128539</td>\n",
       "      <td>-0.189115</td>\n",
       "      <td>0.133558</td>\n",
       "      <td>-0.021053</td>\n",
       "      <td>149.62</td>\n",
       "      <td>0</td>\n",
       "    </tr>\n",
       "    <tr>\n",
       "      <th>1</th>\n",
       "      <td>0.0</td>\n",
       "      <td>1.191857</td>\n",
       "      <td>0.266151</td>\n",
       "      <td>0.166480</td>\n",
       "      <td>0.448154</td>\n",
       "      <td>0.060018</td>\n",
       "      <td>-0.082361</td>\n",
       "      <td>-0.078803</td>\n",
       "      <td>0.085102</td>\n",
       "      <td>-0.255425</td>\n",
       "      <td>...</td>\n",
       "      <td>-0.225775</td>\n",
       "      <td>-0.638672</td>\n",
       "      <td>0.101288</td>\n",
       "      <td>-0.339846</td>\n",
       "      <td>0.167170</td>\n",
       "      <td>0.125895</td>\n",
       "      <td>-0.008983</td>\n",
       "      <td>0.014724</td>\n",
       "      <td>2.69</td>\n",
       "      <td>0</td>\n",
       "    </tr>\n",
       "    <tr>\n",
       "      <th>2</th>\n",
       "      <td>1.0</td>\n",
       "      <td>-1.358354</td>\n",
       "      <td>-1.340163</td>\n",
       "      <td>1.773209</td>\n",
       "      <td>0.379780</td>\n",
       "      <td>-0.503198</td>\n",
       "      <td>1.800499</td>\n",
       "      <td>0.791461</td>\n",
       "      <td>0.247676</td>\n",
       "      <td>-1.514654</td>\n",
       "      <td>...</td>\n",
       "      <td>0.247998</td>\n",
       "      <td>0.771679</td>\n",
       "      <td>0.909412</td>\n",
       "      <td>-0.689281</td>\n",
       "      <td>-0.327642</td>\n",
       "      <td>-0.139097</td>\n",
       "      <td>-0.055353</td>\n",
       "      <td>-0.059752</td>\n",
       "      <td>378.66</td>\n",
       "      <td>0</td>\n",
       "    </tr>\n",
       "    <tr>\n",
       "      <th>3</th>\n",
       "      <td>1.0</td>\n",
       "      <td>-0.966272</td>\n",
       "      <td>-0.185226</td>\n",
       "      <td>1.792993</td>\n",
       "      <td>-0.863291</td>\n",
       "      <td>-0.010309</td>\n",
       "      <td>1.247203</td>\n",
       "      <td>0.237609</td>\n",
       "      <td>0.377436</td>\n",
       "      <td>-1.387024</td>\n",
       "      <td>...</td>\n",
       "      <td>-0.108300</td>\n",
       "      <td>0.005274</td>\n",
       "      <td>-0.190321</td>\n",
       "      <td>-1.175575</td>\n",
       "      <td>0.647376</td>\n",
       "      <td>-0.221929</td>\n",
       "      <td>0.062723</td>\n",
       "      <td>0.061458</td>\n",
       "      <td>123.50</td>\n",
       "      <td>0</td>\n",
       "    </tr>\n",
       "    <tr>\n",
       "      <th>4</th>\n",
       "      <td>2.0</td>\n",
       "      <td>-1.158233</td>\n",
       "      <td>0.877737</td>\n",
       "      <td>1.548718</td>\n",
       "      <td>0.403034</td>\n",
       "      <td>-0.407193</td>\n",
       "      <td>0.095921</td>\n",
       "      <td>0.592941</td>\n",
       "      <td>-0.270533</td>\n",
       "      <td>0.817739</td>\n",
       "      <td>...</td>\n",
       "      <td>-0.009431</td>\n",
       "      <td>0.798278</td>\n",
       "      <td>-0.137458</td>\n",
       "      <td>0.141267</td>\n",
       "      <td>-0.206010</td>\n",
       "      <td>0.502292</td>\n",
       "      <td>0.219422</td>\n",
       "      <td>0.215153</td>\n",
       "      <td>69.99</td>\n",
       "      <td>0</td>\n",
       "    </tr>\n",
       "  </tbody>\n",
       "</table>\n",
       "<p>5 rows × 31 columns</p>\n",
       "</div>"
      ],
      "text/plain": [
       "   Time        V1        V2        V3        V4        V5        V6        V7  \\\n",
       "0   0.0 -1.359807 -0.072781  2.536347  1.378155 -0.338321  0.462388  0.239599   \n",
       "1   0.0  1.191857  0.266151  0.166480  0.448154  0.060018 -0.082361 -0.078803   \n",
       "2   1.0 -1.358354 -1.340163  1.773209  0.379780 -0.503198  1.800499  0.791461   \n",
       "3   1.0 -0.966272 -0.185226  1.792993 -0.863291 -0.010309  1.247203  0.237609   \n",
       "4   2.0 -1.158233  0.877737  1.548718  0.403034 -0.407193  0.095921  0.592941   \n",
       "\n",
       "         V8        V9  ...       V21       V22       V23       V24       V25  \\\n",
       "0  0.098698  0.363787  ... -0.018307  0.277838 -0.110474  0.066928  0.128539   \n",
       "1  0.085102 -0.255425  ... -0.225775 -0.638672  0.101288 -0.339846  0.167170   \n",
       "2  0.247676 -1.514654  ...  0.247998  0.771679  0.909412 -0.689281 -0.327642   \n",
       "3  0.377436 -1.387024  ... -0.108300  0.005274 -0.190321 -1.175575  0.647376   \n",
       "4 -0.270533  0.817739  ... -0.009431  0.798278 -0.137458  0.141267 -0.206010   \n",
       "\n",
       "        V26       V27       V28  Amount  Class  \n",
       "0 -0.189115  0.133558 -0.021053  149.62      0  \n",
       "1  0.125895 -0.008983  0.014724    2.69      0  \n",
       "2 -0.139097 -0.055353 -0.059752  378.66      0  \n",
       "3 -0.221929  0.062723  0.061458  123.50      0  \n",
       "4  0.502292  0.219422  0.215153   69.99      0  \n",
       "\n",
       "[5 rows x 31 columns]"
      ]
     },
     "execution_count": 2,
     "metadata": {},
     "output_type": "execute_result"
    }
   ],
   "source": [
    "data = pd.read_csv('creditcard.csv')\n",
    "data.head()"
   ]
  },
  {
   "cell_type": "code",
   "execution_count": 3,
   "metadata": {},
   "outputs": [
    {
     "data": {
      "text/html": [
       "<div>\n",
       "<style scoped>\n",
       "    .dataframe tbody tr th:only-of-type {\n",
       "        vertical-align: middle;\n",
       "    }\n",
       "\n",
       "    .dataframe tbody tr th {\n",
       "        vertical-align: top;\n",
       "    }\n",
       "\n",
       "    .dataframe thead th {\n",
       "        text-align: right;\n",
       "    }\n",
       "</style>\n",
       "<table border=\"1\" class=\"dataframe\">\n",
       "  <thead>\n",
       "    <tr style=\"text-align: right;\">\n",
       "      <th></th>\n",
       "      <th>normalizedAmount</th>\n",
       "      <th>Amount</th>\n",
       "    </tr>\n",
       "  </thead>\n",
       "  <tbody>\n",
       "    <tr>\n",
       "      <th>0</th>\n",
       "      <td>0.244964</td>\n",
       "      <td>149.62</td>\n",
       "    </tr>\n",
       "    <tr>\n",
       "      <th>1</th>\n",
       "      <td>-0.342475</td>\n",
       "      <td>2.69</td>\n",
       "    </tr>\n",
       "    <tr>\n",
       "      <th>2</th>\n",
       "      <td>1.160686</td>\n",
       "      <td>378.66</td>\n",
       "    </tr>\n",
       "    <tr>\n",
       "      <th>3</th>\n",
       "      <td>0.140534</td>\n",
       "      <td>123.50</td>\n",
       "    </tr>\n",
       "    <tr>\n",
       "      <th>4</th>\n",
       "      <td>-0.073403</td>\n",
       "      <td>69.99</td>\n",
       "    </tr>\n",
       "  </tbody>\n",
       "</table>\n",
       "</div>"
      ],
      "text/plain": [
       "   normalizedAmount  Amount\n",
       "0          0.244964  149.62\n",
       "1         -0.342475    2.69\n",
       "2          1.160686  378.66\n",
       "3          0.140534  123.50\n",
       "4         -0.073403   69.99"
      ]
     },
     "execution_count": 3,
     "metadata": {},
     "output_type": "execute_result"
    }
   ],
   "source": [
    "from sklearn.preprocessing import StandardScaler\n",
    "data['normalizedAmount'] = StandardScaler().fit_transform(data['Amount'].values.reshape(-1, 1))\n",
    "data[['normalizedAmount', 'Amount']].head()"
   ]
  },
  {
   "cell_type": "code",
   "execution_count": 4,
   "metadata": {},
   "outputs": [
    {
     "data": {
      "text/plain": [
       "0    284315\n",
       "1       492\n",
       "Name: Class, dtype: int64"
      ]
     },
     "execution_count": 4,
     "metadata": {},
     "output_type": "execute_result"
    }
   ],
   "source": [
    "# Examine the Class values\n",
    "data['Class'].value_counts()"
   ]
  },
  {
   "cell_type": "code",
   "execution_count": 5,
   "metadata": {},
   "outputs": [],
   "source": [
    "X = data.drop(['Time', 'Amount', 'Class'], axis=1)\n",
    "y = data['Class']"
   ]
  },
  {
   "cell_type": "code",
   "execution_count": 6,
   "metadata": {},
   "outputs": [
    {
     "name": "stdout",
     "output_type": "stream",
     "text": [
      "(199364, 29)\n",
      "(85443, 29)\n"
     ]
    }
   ],
   "source": [
    "from sklearn.model_selection import train_test_split\n",
    "X_train, X_test, y_train, y_test = train_test_split(X, y, test_size = 0.3)\n",
    "print(X_train.shape)\n",
    "print(X_test.shape)"
   ]
  },
  {
   "cell_type": "markdown",
   "metadata": {},
   "source": [
    "## Undersampling"
   ]
  },
  {
   "cell_type": "code",
   "execution_count": 7,
   "metadata": {},
   "outputs": [
    {
     "name": "stdout",
     "output_type": "stream",
     "text": [
      "(686, 30)\n",
      "1    343\n",
      "0    343\n",
      "Name: Class, dtype: int64\n"
     ]
    }
   ],
   "source": [
    "# Undersample data\n",
    "# https://pandas.pydata.org/pandas-docs/stable/reference/api/pandas.DataFrame.sample.html\n",
    "temp = X_train.sample(frac=1)\n",
    "temp['Class'] = y_train\n",
    "class1 = temp.loc[temp['Class'] == 1]\n",
    "class0 = temp.loc[temp['Class'] == 0][:class1.shape[0]]\n",
    "\n",
    "# udf = undersample dataframe\n",
    "udf = pd.concat([class1, class0]).sample(frac=1)\n",
    "print(udf.shape)\n",
    "print(udf['Class'].value_counts())"
   ]
  },
  {
   "cell_type": "code",
   "execution_count": 8,
   "metadata": {},
   "outputs": [],
   "source": [
    "# Create the model\n",
    "import tensorflow as tf\n",
    "import tensorflow.keras\n",
    "from tensorflow.keras.models import Sequential\n",
    "from tensorflow.keras.layers import Dense\n",
    "from tensorflow.keras.callbacks import EarlyStopping"
   ]
  },
  {
   "cell_type": "code",
   "execution_count": 9,
   "metadata": {},
   "outputs": [],
   "source": [
    "uX = udf.drop(['Class'], axis=1)\n",
    "uy = udf['Class']"
   ]
  },
  {
   "cell_type": "code",
   "execution_count": 10,
   "metadata": {},
   "outputs": [
    {
     "name": "stdout",
     "output_type": "stream",
     "text": [
      "(480, 29)\n",
      "(206, 29)\n"
     ]
    }
   ],
   "source": [
    "uX_train, uX_test, uy_train, uy_test = train_test_split(uX, uy, test_size = 0.3)\n",
    "print(uX_train.shape)\n",
    "print(uX_test.shape)"
   ]
  },
  {
   "cell_type": "code",
   "execution_count": 11,
   "metadata": {},
   "outputs": [
    {
     "name": "stdout",
     "output_type": "stream",
     "text": [
      "Model: \"sequential\"\n",
      "_________________________________________________________________\n",
      "Layer (type)                 Output Shape              Param #   \n",
      "=================================================================\n",
      "dense (Dense)                (None, 58)                1740      \n",
      "_________________________________________________________________\n",
      "dense_1 (Dense)              (None, 29)                1711      \n",
      "_________________________________________________________________\n",
      "dense_2 (Dense)              (None, 1)                 30        \n",
      "=================================================================\n",
      "Total params: 3,481\n",
      "Trainable params: 3,481\n",
      "Non-trainable params: 0\n",
      "_________________________________________________________________\n",
      "None\n"
     ]
    }
   ],
   "source": [
    "inputs = uX_train.shape[1]\n",
    "layers = inputs * 2\n",
    "\n",
    "# umodel = model for undersampled data\n",
    "umodel = Sequential()\n",
    "umodel.add(Dense(layers, kernel_initializer='uniform', activation='relu', input_dim=inputs))\n",
    "umodel.add(Dense(inputs, activation='relu'))\n",
    "umodel.add(Dense(1, activation='sigmoid'))\n",
    "opt = tf.keras.optimizers.Adam(0.01)\n",
    "umodel.compile(optimizer=opt, loss='binary_crossentropy', metrics=['accuracy'])\n",
    "print(umodel.summary())"
   ]
  },
  {
   "cell_type": "code",
   "execution_count": 12,
   "metadata": {},
   "outputs": [
    {
     "name": "stdout",
     "output_type": "stream",
     "text": [
      "WARNING:tensorflow:Falling back from v2 loop because of error: Failed to find data adapter that can handle input: <class 'pandas.core.frame.DataFrame'>, <class 'NoneType'>\n",
      "Train on 480 samples, validate on 206 samples\n",
      "Epoch 1/25\n",
      "480/480 [==============================] - 0s 342us/sample - loss: 0.3303 - accuracy: 0.8396 - val_loss: 0.1250 - val_accuracy: 0.9563\n",
      "Epoch 2/25\n",
      "480/480 [==============================] - 0s 61us/sample - loss: 0.1379 - accuracy: 0.9417 - val_loss: 0.1208 - val_accuracy: 0.9563\n",
      "Epoch 3/25\n",
      "480/480 [==============================] - 0s 56us/sample - loss: 0.1136 - accuracy: 0.9417 - val_loss: 0.1226 - val_accuracy: 0.9660\n",
      "Epoch 4/25\n",
      "480/480 [==============================] - 0s 51us/sample - loss: 0.0937 - accuracy: 0.9563 - val_loss: 0.1461 - val_accuracy: 0.9563\n",
      "Epoch 5/25\n",
      "480/480 [==============================] - 0s 50us/sample - loss: 0.0808 - accuracy: 0.9625 - val_loss: 0.1255 - val_accuracy: 0.9612\n",
      "Epoch 6/25\n",
      "480/480 [==============================] - 0s 51us/sample - loss: 0.0615 - accuracy: 0.9688 - val_loss: 0.1456 - val_accuracy: 0.9515\n",
      "Epoch 7/25\n",
      " 32/480 [=>............................] - ETA: 0s - loss: 0.0217 - accuracy: 1.0000Restoring model weights from the end of the best epoch.\n",
      "480/480 [==============================] - 0s 65us/sample - loss: 0.0526 - accuracy: 0.9812 - val_loss: 0.1569 - val_accuracy: 0.9612\n",
      "Epoch 00007: early stopping\n"
     ]
    }
   ],
   "source": [
    "# Create earlystopping callback\n",
    "earlystopping = EarlyStopping(monitor = 'val_loss',\n",
    "                             min_delta = 0,\n",
    "                             patience = 5,\n",
    "                             verbose = 1,\n",
    "                             restore_best_weights = True)\n",
    "\n",
    "callbacks = [earlystopping]\n",
    "uhistory = umodel.fit(uX_train,\n",
    "                     uy_train,\n",
    "                     epochs = 25,\n",
    "                     verbose = 1,\n",
    "                     validation_data = (uX_test, uy_test),\n",
    "                     callbacks = callbacks)"
   ]
  },
  {
   "cell_type": "code",
   "execution_count": 13,
   "metadata": {},
   "outputs": [
    {
     "name": "stdout",
     "output_type": "stream",
     "text": [
      "WARNING:tensorflow:Falling back from v2 loop because of error: Failed to find data adapter that can handle input: <class 'pandas.core.frame.DataFrame'>, <class 'NoneType'>\n",
      "206/206 [==============================] - 0s 34us/sample - loss: 0.1208 - accuracy: 0.9563\n",
      "Test loss:  0.12084446876373106\n",
      "Test accuracy:  0.9563107\n"
     ]
    }
   ],
   "source": [
    "uscore = umodel.evaluate(uX_test, uy_test)\n",
    "print('Test loss: ', uscore[0])\n",
    "print('Test accuracy: ', uscore[1])"
   ]
  },
  {
   "cell_type": "code",
   "execution_count": 14,
   "metadata": {},
   "outputs": [
    {
     "name": "stdout",
     "output_type": "stream",
     "text": [
      "WARNING:tensorflow:Falling back from v2 loop because of error: Failed to find data adapter that can handle input: <class 'pandas.core.frame.DataFrame'>, <class 'NoneType'>\n"
     ]
    }
   ],
   "source": [
    "# Get predictions\n",
    "upredictions = umodel.predict(uX_test).round()"
   ]
  },
  {
   "cell_type": "code",
   "execution_count": 15,
   "metadata": {},
   "outputs": [
    {
     "name": "stdout",
     "output_type": "stream",
     "text": [
      "[[101   3]\n",
      " [  6  96]]\n",
      "\n",
      "              precision    recall  f1-score   support\n",
      "\n",
      "           0       0.94      0.97      0.96       104\n",
      "           1       0.97      0.94      0.96       102\n",
      "\n",
      "    accuracy                           0.96       206\n",
      "   macro avg       0.96      0.96      0.96       206\n",
      "weighted avg       0.96      0.96      0.96       206\n",
      "\n"
     ]
    },
    {
     "data": {
      "image/png": "[encoded data removed]",
      "text/plain": [
       "<Figure size 432x288 with 2 Axes>"
      ]
     },
     "metadata": {
      "needs_background": "light"
     },
     "output_type": "display_data"
    }
   ],
   "source": [
    "from sklearn.metrics import confusion_matrix, classification_report\n",
    "import matplotlib.pyplot as plt\n",
    "import seaborn as sn\n",
    "\n",
    "cm = confusion_matrix(uy_test, upredictions)\n",
    "print(cm)\n",
    "print()\n",
    "cr = classification_report(uy_test, upredictions)\n",
    "print(cr)\n",
    "sn.heatmap(cm, annot=True, cmap='BuPu', fmt='d')\n",
    "plt.title('Confusion Matrix')\n",
    "plt.xlabel('Predicted')\n",
    "plt.ylabel('Actual')\n",
    "plt.show()"
   ]
  },
  {
   "cell_type": "markdown",
   "metadata": {},
   "source": [
    "## Oversampling"
   ]
  },
  {
   "cell_type": "code",
   "execution_count": 16,
   "metadata": {},
   "outputs": [
    {
     "name": "stderr",
     "output_type": "stream",
     "text": [
      "Using TensorFlow backend.\n"
     ]
    },
    {
     "name": "stdout",
     "output_type": "stream",
     "text": [
      "1    199021\n",
      "0    199021\n",
      "Name: Class, dtype: int64\n"
     ]
    }
   ],
   "source": [
    "from imblearn.over_sampling import SMOTE\n",
    "\n",
    "# o = oversample\n",
    "oX = temp.drop(['Class'], axis=1)\n",
    "oy = temp['Class']\n",
    "oversample = SMOTE()\n",
    "oX, oy = oversample.fit_resample(oX, oy)\n",
    "print(oy.value_counts())"
   ]
  },
  {
   "cell_type": "code",
   "execution_count": 17,
   "metadata": {},
   "outputs": [
    {
     "name": "stdout",
     "output_type": "stream",
     "text": [
      "(278629, 29)\n",
      "(119413, 29)\n"
     ]
    }
   ],
   "source": [
    "oX_train, oX_test, oy_train, oy_test = train_test_split(oX, oy, test_size = 0.3)\n",
    "print(oX_train.shape)\n",
    "print(oX_test.shape)"
   ]
  },
  {
   "cell_type": "code",
   "execution_count": 18,
   "metadata": {},
   "outputs": [
    {
     "name": "stdout",
     "output_type": "stream",
     "text": [
      "Model: \"sequential_1\"\n",
      "_________________________________________________________________\n",
      "Layer (type)                 Output Shape              Param #   \n",
      "=================================================================\n",
      "dense_3 (Dense)              (None, 58)                1740      \n",
      "_________________________________________________________________\n",
      "dense_4 (Dense)              (None, 29)                1711      \n",
      "_________________________________________________________________\n",
      "dense_5 (Dense)              (None, 1)                 30        \n",
      "=================================================================\n",
      "Total params: 3,481\n",
      "Trainable params: 3,481\n",
      "Non-trainable params: 0\n",
      "_________________________________________________________________\n",
      "None\n"
     ]
    }
   ],
   "source": [
    "# Create the model\n",
    "inputs = oX_train.shape[1]\n",
    "layers = inputs * 2\n",
    "\n",
    "omodel = Sequential()\n",
    "omodel.add(Dense(layers, kernel_initializer='uniform', activation='relu', input_dim=inputs))\n",
    "omodel.add(Dense(inputs, activation='relu'))\n",
    "omodel.add(Dense(1, activation='sigmoid'))\n",
    "opt = tf.keras.optimizers.Adam(0.01)\n",
    "omodel.compile(optimizer=opt, loss='binary_crossentropy', metrics=['accuracy'])\n",
    "print(omodel.summary())"
   ]
  },
  {
   "cell_type": "code",
   "execution_count": 19,
   "metadata": {},
   "outputs": [
    {
     "name": "stdout",
     "output_type": "stream",
     "text": [
      "WARNING:tensorflow:Falling back from v2 loop because of error: Failed to find data adapter that can handle input: <class 'pandas.core.frame.DataFrame'>, <class 'NoneType'>\n",
      "Train on 278629 samples, validate on 119413 samples\n",
      "Epoch 1/25\n",
      "278629/278629 [==============================] - 16s 56us/sample - loss: 0.0197 - accuracy: 0.9941 - val_loss: 0.0109 - val_accuracy: 0.9973\n",
      "Epoch 2/25\n",
      "278629/278629 [==============================] - 16s 56us/sample - loss: 0.0111 - accuracy: 0.9978 - val_loss: 0.0061 - val_accuracy: 0.9988\n",
      "Epoch 3/25\n",
      "278629/278629 [==============================] - 16s 56us/sample - loss: 0.0080 - accuracy: 0.9985 - val_loss: 0.0075 - val_accuracy: 0.9985\n",
      "Epoch 4/25\n",
      "278629/278629 [==============================] - 16s 56us/sample - loss: 0.0073 - accuracy: 0.9987 - val_loss: 0.0047 - val_accuracy: 0.9993\n",
      "Epoch 5/25\n",
      "278629/278629 [==============================] - 16s 56us/sample - loss: 0.0064 - accuracy: 0.9989 - val_loss: 0.0051 - val_accuracy: 0.9993\n",
      "Epoch 6/25\n",
      "278629/278629 [==============================] - 16s 56us/sample - loss: 0.0062 - accuracy: 0.9990 - val_loss: 0.0095 - val_accuracy: 0.9984\n",
      "Epoch 7/25\n",
      "278629/278629 [==============================] - 16s 56us/sample - loss: 0.0071 - accuracy: 0.9990 - val_loss: 0.0054 - val_accuracy: 0.9992\n",
      "Epoch 8/25\n",
      "278629/278629 [==============================] - 16s 56us/sample - loss: 0.0072 - accuracy: 0.9990 - val_loss: 0.0081 - val_accuracy: 0.9991\n",
      "Epoch 9/25\n",
      "278629/278629 [==============================] - 16s 56us/sample - loss: 0.0069 - accuracy: 0.9991 - val_loss: 0.0041 - val_accuracy: 0.9995\n",
      "Epoch 10/25\n",
      "278629/278629 [==============================] - 15s 56us/sample - loss: 0.0051 - accuracy: 0.9993 - val_loss: 0.0054 - val_accuracy: 0.9993\n",
      "Epoch 11/25\n",
      "278629/278629 [==============================] - 16s 56us/sample - loss: 0.0071 - accuracy: 0.9991 - val_loss: 0.0065 - val_accuracy: 0.9992\n",
      "Epoch 12/25\n",
      "278629/278629 [==============================] - 16s 56us/sample - loss: 0.0058 - accuracy: 0.9992 - val_loss: 0.0041 - val_accuracy: 0.9995\n",
      "Epoch 13/25\n",
      "278629/278629 [==============================] - 16s 56us/sample - loss: 0.0059 - accuracy: 0.9993 - val_loss: 0.0056 - val_accuracy: 0.9994\n",
      "Epoch 14/25\n",
      "278629/278629 [==============================] - 16s 56us/sample - loss: 0.0063 - accuracy: 0.9993 - val_loss: 0.0345 - val_accuracy: 0.9963\n",
      "Epoch 15/25\n",
      "278629/278629 [==============================] - 16s 56us/sample - loss: 0.0090 - accuracy: 0.9991 - val_loss: 0.0149 - val_accuracy: 0.9986\n",
      "Epoch 16/25\n",
      "278629/278629 [==============================] - 16s 56us/sample - loss: 0.0056 - accuracy: 0.9993 - val_loss: 0.0066 - val_accuracy: 0.9991\n",
      "Epoch 17/25\n",
      "277664/278629 [============================>.] - ETA: 0s - loss: 0.0081 - accuracy: 0.9991Restoring model weights from the end of the best epoch.\n",
      "278629/278629 [==============================] - 16s 56us/sample - loss: 0.0081 - accuracy: 0.9991 - val_loss: 0.0068 - val_accuracy: 0.9993\n",
      "Epoch 00017: early stopping\n"
     ]
    }
   ],
   "source": [
    "ohistory = omodel.fit(oX_train,\n",
    "                     oy_train,\n",
    "                     epochs=25,\n",
    "                     verbose=1,\n",
    "                     validation_data=(oX_test, oy_test),\n",
    "                     callbacks=callbacks)"
   ]
  },
  {
   "cell_type": "code",
   "execution_count": 20,
   "metadata": {},
   "outputs": [
    {
     "name": "stdout",
     "output_type": "stream",
     "text": [
      "WARNING:tensorflow:Falling back from v2 loop because of error: Failed to find data adapter that can handle input: <class 'pandas.core.frame.DataFrame'>, <class 'NoneType'>\n",
      "119413/119413 [==============================] - 3s 27us/sample - loss: 0.0041 - accuracy: 0.9995\n",
      "Oversampled test loss:  0.99953103\n",
      "Oversampled test accuracy:  0.004088886245122444\n",
      "Compared with\n",
      "Undersampled test loss:  0.9563107\n",
      "Undersampled test accuracy:  0.12084446876373106\n"
     ]
    }
   ],
   "source": [
    "oscore = omodel.evaluate(oX_test, oy_test)\n",
    "print('Oversampled test loss: ', oscore[1])\n",
    "print('Oversampled test accuracy: ', oscore[0])\n",
    "print('Compared with')\n",
    "print('Undersampled test loss: ', uscore[1])\n",
    "print('Undersampled test accuracy: ', uscore[0])"
   ]
  },
  {
   "cell_type": "code",
   "execution_count": 21,
   "metadata": {},
   "outputs": [
    {
     "name": "stdout",
     "output_type": "stream",
     "text": [
      "WARNING:tensorflow:Falling back from v2 loop because of error: Failed to find data adapter that can handle input: <class 'pandas.core.frame.DataFrame'>, <class 'NoneType'>\n"
     ]
    }
   ],
   "source": [
    "# Get predictions\n",
    "opredictions = omodel.predict(oX_test).round()"
   ]
  },
  {
   "cell_type": "code",
   "execution_count": 22,
   "metadata": {},
   "outputs": [
    {
     "name": "stdout",
     "output_type": "stream",
     "text": [
      "Undersampled Confusion Matrix\n",
      "[[101   3]\n",
      " [  6  96]]\n",
      "Oversampled Confusion Matrix\n",
      "[[59680    56]\n",
      " [    0 59677]]\n",
      "\n",
      "Undersampled Classification Report\n",
      "              precision    recall  f1-score   support\n",
      "\n",
      "           0       0.94      0.97      0.96       104\n",
      "           1       0.97      0.94      0.96       102\n",
      "\n",
      "    accuracy                           0.96       206\n",
      "   macro avg       0.96      0.96      0.96       206\n",
      "weighted avg       0.96      0.96      0.96       206\n",
      "\n",
      "Oversampled Classification Report\n",
      "              precision    recall  f1-score   support\n",
      "\n",
      "           0       1.00      1.00      1.00     59736\n",
      "           1       1.00      1.00      1.00     59677\n",
      "\n",
      "    accuracy                           1.00    119413\n",
      "   macro avg       1.00      1.00      1.00    119413\n",
      "weighted avg       1.00      1.00      1.00    119413\n",
      "\n"
     ]
    }
   ],
   "source": [
    "# Compare confusion matrix and classification reports\n",
    "ocm = confusion_matrix(oy_test, opredictions)\n",
    "ocr = classification_report(oy_test, opredictions)\n",
    "print('Undersampled Confusion Matrix')\n",
    "print(cm)\n",
    "print('Oversampled Confusion Matrix')\n",
    "print(ocm)\n",
    "print()\n",
    "print('Undersampled Classification Report')\n",
    "print(cr)\n",
    "print('Oversampled Classification Report')\n",
    "print(ocr)"
   ]
  }
 ],
 "metadata": {
  "kernelspec": {
   "display_name": "Python 3",
   "language": "python",
   "name": "python3"
  },
  "language_info": {
   "codemirror_mode": {
    "name": "ipython",
    "version": 3
   },
   "file_extension": ".py",
   "mimetype": "text/x-python",
   "name": "python",
   "nbconvert_exporter": "python",
   "pygments_lexer": "ipython3",
   "version": "3.6.7"
  }
 },
 "nbformat": 4,
 "nbformat_minor": 4
}
