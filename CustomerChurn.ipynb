{
 "cells": [
  {
   "cell_type": "markdown",
   "metadata": {},
   "source": [
    "# Customer Churn\n",
    "A comparison of logistic regression, random forests, and deep learning models."
   ]
  },
  {
   "cell_type": "markdown",
   "metadata": {},
   "source": [
    "## The Data\n",
    "https://www.kaggle.com/blastchar/telco-customer-churn\n",
    "\n",
    "Each row represents a customer, each column contains customer’s attributes described on the column Metadata. The raw data contains 7043 rows (customers) and 21 columns (features). The “Churn” column is our target."
   ]
  },
  {
   "cell_type": "code",
   "execution_count": 1,
   "metadata": {},
   "outputs": [],
   "source": [
    "# import libraries \n",
    "import pandas as pd \n",
    "import numpy as np \n",
    "import matplotlib.pyplot as plt \n",
    "import seaborn as sns\n",
    "\n",
    "%matplotlib inline"
   ]
  },
  {
   "cell_type": "code",
   "execution_count": 2,
   "metadata": {},
   "outputs": [
    {
     "data": {
      "text/html": [
       "<div>\n",
       "<style scoped>\n",
       "    .dataframe tbody tr th:only-of-type {\n",
       "        vertical-align: middle;\n",
       "    }\n",
       "\n",
       "    .dataframe tbody tr th {\n",
       "        vertical-align: top;\n",
       "    }\n",
       "\n",
       "    .dataframe thead th {\n",
       "        text-align: right;\n",
       "    }\n",
       "</style>\n",
       "<table border=\"1\" class=\"dataframe\">\n",
       "  <thead>\n",
       "    <tr style=\"text-align: right;\">\n",
       "      <th></th>\n",
       "      <th>customerID</th>\n",
       "      <th>gender</th>\n",
       "      <th>SeniorCitizen</th>\n",
       "      <th>Partner</th>\n",
       "      <th>Dependents</th>\n",
       "      <th>tenure</th>\n",
       "      <th>PhoneService</th>\n",
       "      <th>MultipleLines</th>\n",
       "      <th>InternetService</th>\n",
       "      <th>OnlineSecurity</th>\n",
       "      <th>...</th>\n",
       "      <th>DeviceProtection</th>\n",
       "      <th>TechSupport</th>\n",
       "      <th>StreamingTV</th>\n",
       "      <th>StreamingMovies</th>\n",
       "      <th>Contract</th>\n",
       "      <th>PaperlessBilling</th>\n",
       "      <th>PaymentMethod</th>\n",
       "      <th>MonthlyCharges</th>\n",
       "      <th>TotalCharges</th>\n",
       "      <th>Churn</th>\n",
       "    </tr>\n",
       "  </thead>\n",
       "  <tbody>\n",
       "    <tr>\n",
       "      <th>0</th>\n",
       "      <td>7590-VHVEG</td>\n",
       "      <td>Female</td>\n",
       "      <td>0</td>\n",
       "      <td>Yes</td>\n",
       "      <td>No</td>\n",
       "      <td>1</td>\n",
       "      <td>No</td>\n",
       "      <td>No phone service</td>\n",
       "      <td>DSL</td>\n",
       "      <td>No</td>\n",
       "      <td>...</td>\n",
       "      <td>No</td>\n",
       "      <td>No</td>\n",
       "      <td>No</td>\n",
       "      <td>No</td>\n",
       "      <td>Month-to-month</td>\n",
       "      <td>Yes</td>\n",
       "      <td>Electronic check</td>\n",
       "      <td>29.85</td>\n",
       "      <td>29.85</td>\n",
       "      <td>No</td>\n",
       "    </tr>\n",
       "    <tr>\n",
       "      <th>1</th>\n",
       "      <td>5575-GNVDE</td>\n",
       "      <td>Male</td>\n",
       "      <td>0</td>\n",
       "      <td>No</td>\n",
       "      <td>No</td>\n",
       "      <td>34</td>\n",
       "      <td>Yes</td>\n",
       "      <td>No</td>\n",
       "      <td>DSL</td>\n",
       "      <td>Yes</td>\n",
       "      <td>...</td>\n",
       "      <td>Yes</td>\n",
       "      <td>No</td>\n",
       "      <td>No</td>\n",
       "      <td>No</td>\n",
       "      <td>One year</td>\n",
       "      <td>No</td>\n",
       "      <td>Mailed check</td>\n",
       "      <td>56.95</td>\n",
       "      <td>1889.5</td>\n",
       "      <td>No</td>\n",
       "    </tr>\n",
       "    <tr>\n",
       "      <th>2</th>\n",
       "      <td>3668-QPYBK</td>\n",
       "      <td>Male</td>\n",
       "      <td>0</td>\n",
       "      <td>No</td>\n",
       "      <td>No</td>\n",
       "      <td>2</td>\n",
       "      <td>Yes</td>\n",
       "      <td>No</td>\n",
       "      <td>DSL</td>\n",
       "      <td>Yes</td>\n",
       "      <td>...</td>\n",
       "      <td>No</td>\n",
       "      <td>No</td>\n",
       "      <td>No</td>\n",
       "      <td>No</td>\n",
       "      <td>Month-to-month</td>\n",
       "      <td>Yes</td>\n",
       "      <td>Mailed check</td>\n",
       "      <td>53.85</td>\n",
       "      <td>108.15</td>\n",
       "      <td>Yes</td>\n",
       "    </tr>\n",
       "    <tr>\n",
       "      <th>3</th>\n",
       "      <td>7795-CFOCW</td>\n",
       "      <td>Male</td>\n",
       "      <td>0</td>\n",
       "      <td>No</td>\n",
       "      <td>No</td>\n",
       "      <td>45</td>\n",
       "      <td>No</td>\n",
       "      <td>No phone service</td>\n",
       "      <td>DSL</td>\n",
       "      <td>Yes</td>\n",
       "      <td>...</td>\n",
       "      <td>Yes</td>\n",
       "      <td>Yes</td>\n",
       "      <td>No</td>\n",
       "      <td>No</td>\n",
       "      <td>One year</td>\n",
       "      <td>No</td>\n",
       "      <td>Bank transfer (automatic)</td>\n",
       "      <td>42.30</td>\n",
       "      <td>1840.75</td>\n",
       "      <td>No</td>\n",
       "    </tr>\n",
       "    <tr>\n",
       "      <th>4</th>\n",
       "      <td>9237-HQITU</td>\n",
       "      <td>Female</td>\n",
       "      <td>0</td>\n",
       "      <td>No</td>\n",
       "      <td>No</td>\n",
       "      <td>2</td>\n",
       "      <td>Yes</td>\n",
       "      <td>No</td>\n",
       "      <td>Fiber optic</td>\n",
       "      <td>No</td>\n",
       "      <td>...</td>\n",
       "      <td>No</td>\n",
       "      <td>No</td>\n",
       "      <td>No</td>\n",
       "      <td>No</td>\n",
       "      <td>Month-to-month</td>\n",
       "      <td>Yes</td>\n",
       "      <td>Electronic check</td>\n",
       "      <td>70.70</td>\n",
       "      <td>151.65</td>\n",
       "      <td>Yes</td>\n",
       "    </tr>\n",
       "  </tbody>\n",
       "</table>\n",
       "<p>5 rows × 21 columns</p>\n",
       "</div>"
      ],
      "text/plain": [
       "   customerID  gender  SeniorCitizen Partner Dependents  tenure PhoneService  \\\n",
       "0  7590-VHVEG  Female              0     Yes         No       1           No   \n",
       "1  5575-GNVDE    Male              0      No         No      34          Yes   \n",
       "2  3668-QPYBK    Male              0      No         No       2          Yes   \n",
       "3  7795-CFOCW    Male              0      No         No      45           No   \n",
       "4  9237-HQITU  Female              0      No         No       2          Yes   \n",
       "\n",
       "      MultipleLines InternetService OnlineSecurity  ... DeviceProtection  \\\n",
       "0  No phone service             DSL             No  ...               No   \n",
       "1                No             DSL            Yes  ...              Yes   \n",
       "2                No             DSL            Yes  ...               No   \n",
       "3  No phone service             DSL            Yes  ...              Yes   \n",
       "4                No     Fiber optic             No  ...               No   \n",
       "\n",
       "  TechSupport StreamingTV StreamingMovies        Contract PaperlessBilling  \\\n",
       "0          No          No              No  Month-to-month              Yes   \n",
       "1          No          No              No        One year               No   \n",
       "2          No          No              No  Month-to-month              Yes   \n",
       "3         Yes          No              No        One year               No   \n",
       "4          No          No              No  Month-to-month              Yes   \n",
       "\n",
       "               PaymentMethod MonthlyCharges  TotalCharges Churn  \n",
       "0           Electronic check          29.85         29.85    No  \n",
       "1               Mailed check          56.95        1889.5    No  \n",
       "2               Mailed check          53.85        108.15   Yes  \n",
       "3  Bank transfer (automatic)          42.30       1840.75    No  \n",
       "4           Electronic check          70.70        151.65   Yes  \n",
       "\n",
       "[5 rows x 21 columns]"
      ]
     },
     "execution_count": 2,
     "metadata": {},
     "output_type": "execute_result"
    }
   ],
   "source": [
    "# Load and read data\n",
    "data = pd.read_csv('WA_Fn-UseC_-Telco-Customer-Churn.csv') \n",
    "data.head()"
   ]
  },
  {
   "cell_type": "code",
   "execution_count": 3,
   "metadata": {},
   "outputs": [
    {
     "name": "stdout",
     "output_type": "stream",
     "text": [
      "<class 'pandas.core.frame.DataFrame'>\n",
      "RangeIndex: 7043 entries, 0 to 7042\n",
      "Data columns (total 21 columns):\n",
      "customerID          7043 non-null object\n",
      "gender              7043 non-null object\n",
      "SeniorCitizen       7043 non-null int64\n",
      "Partner             7043 non-null object\n",
      "Dependents          7043 non-null object\n",
      "tenure              7043 non-null int64\n",
      "PhoneService        7043 non-null object\n",
      "MultipleLines       7043 non-null object\n",
      "InternetService     7043 non-null object\n",
      "OnlineSecurity      7043 non-null object\n",
      "OnlineBackup        7043 non-null object\n",
      "DeviceProtection    7043 non-null object\n",
      "TechSupport         7043 non-null object\n",
      "StreamingTV         7043 non-null object\n",
      "StreamingMovies     7043 non-null object\n",
      "Contract            7043 non-null object\n",
      "PaperlessBilling    7043 non-null object\n",
      "PaymentMethod       7043 non-null object\n",
      "MonthlyCharges      7043 non-null float64\n",
      "TotalCharges        7043 non-null object\n",
      "Churn               7043 non-null object\n",
      "dtypes: float64(1), int64(2), object(18)\n",
      "memory usage: 1.1+ MB\n"
     ]
    }
   ],
   "source": [
    "# See the data-types and count\n",
    "data.info()"
   ]
  },
  {
   "cell_type": "code",
   "execution_count": 4,
   "metadata": {
    "scrolled": true
   },
   "outputs": [
    {
     "name": "stdout",
     "output_type": "stream",
     "text": [
      "Rows     :  7043\n",
      "Columns  :  21\n",
      "\n",
      "3 Numerical Features: ['SeniorCitizen', 'tenure', 'MonthlyCharges']\n",
      "\n",
      "18 Categorical Features: ['customerID', 'gender', 'Partner', 'Dependents', 'PhoneService', 'MultipleLines', 'InternetService', 'OnlineSecurity', 'OnlineBackup', 'DeviceProtection', 'TechSupport', 'StreamingTV', 'StreamingMovies', 'Contract', 'PaperlessBilling', 'PaymentMethod', 'TotalCharges', 'Churn']\n"
     ]
    }
   ],
   "source": [
    "# Summarize dataset \n",
    "print('Rows     : ', data.shape[0])\n",
    "print('Columns  : ' ,data.shape[1])\n",
    "print('\\n{} Numerical Features: {}'.format(len(data._get_numeric_data().columns), \n",
    "                                         data._get_numeric_data().columns.tolist()))\n",
    "print ('\\n{} Categorical Features: {}'.format(len(data.select_dtypes(exclude=['int', 'float']).columns),\n",
    "                                                                      data.select_dtypes(exclude=['int', 'float']).columns.tolist()))"
   ]
  },
  {
   "cell_type": "code",
   "execution_count": 5,
   "metadata": {},
   "outputs": [
    {
     "name": "stdout",
     "output_type": "stream",
     "text": [
      "\n",
      "Unique values per column:\n",
      "customerID          7043\n",
      "gender                 2\n",
      "SeniorCitizen          2\n",
      "Partner                2\n",
      "Dependents             2\n",
      "tenure                73\n",
      "PhoneService           2\n",
      "MultipleLines          3\n",
      "InternetService        3\n",
      "OnlineSecurity         3\n",
      "OnlineBackup           3\n",
      "DeviceProtection       3\n",
      "TechSupport            3\n",
      "StreamingTV            3\n",
      "StreamingMovies        3\n",
      "Contract               3\n",
      "PaperlessBilling       2\n",
      "PaymentMethod          4\n",
      "MonthlyCharges      1585\n",
      "TotalCharges        6531\n",
      "Churn                  2\n",
      "dtype: int64\n"
     ]
    }
   ],
   "source": [
    "# Look at unique values, labels vs continuous\n",
    "# ukeys = 5\n",
    "# print ('\\n{} Unique values < 5 : {}'.format(len(data.nunique()[data.nunique() < ukeys ].keys()), \n",
    "#                                             data.nunique()[data.nunique() < ukeys].keys().tolist()))\n",
    "print('\\nUnique values per column:')\n",
    "print(data.nunique())"
   ]
  },
  {
   "cell_type": "code",
   "execution_count": 6,
   "metadata": {},
   "outputs": [
    {
     "data": {
      "text/plain": [
       "No     5174\n",
       "Yes    1869\n",
       "Name: Churn, dtype: int64"
      ]
     },
     "execution_count": 6,
     "metadata": {},
     "output_type": "execute_result"
    }
   ],
   "source": [
    "# Examine target\n",
    "data['Churn'].value_counts()"
   ]
  },
  {
   "cell_type": "markdown",
   "metadata": {},
   "source": [
    "## Check Null / Constant / Duplicate Values\n",
    "We want to delete columns and rows that have no values. Features with one constant value or features with duplicate values need to be deleted."
   ]
  },
  {
   "cell_type": "code",
   "execution_count": 7,
   "metadata": {},
   "outputs": [
    {
     "data": {
      "text/plain": [
       "customerID           0\n",
       "gender               0\n",
       "SeniorCitizen        0\n",
       "Partner              0\n",
       "Dependents           0\n",
       "tenure               0\n",
       "PhoneService         0\n",
       "MultipleLines        0\n",
       "InternetService      0\n",
       "OnlineSecurity       0\n",
       "OnlineBackup         0\n",
       "DeviceProtection     0\n",
       "TechSupport          0\n",
       "StreamingTV          0\n",
       "StreamingMovies      0\n",
       "Contract             0\n",
       "PaperlessBilling     0\n",
       "PaymentMethod        0\n",
       "MonthlyCharges       0\n",
       "TotalCharges        11\n",
       "Churn                0\n",
       "dtype: int64"
      ]
     },
     "execution_count": 7,
     "metadata": {},
     "output_type": "execute_result"
    }
   ],
   "source": [
    "# Check rows with spaces\n",
    "data = data.replace(' ', np.nan)\n",
    "data.isnull().sum()"
   ]
  },
  {
   "cell_type": "code",
   "execution_count": 8,
   "metadata": {
    "scrolled": true
   },
   "outputs": [
    {
     "name": "stdout",
     "output_type": "stream",
     "text": [
      "Columns where all values are null: 0\n",
      "Columns with values: 21\n",
      "Columns with no null values: 20\n"
     ]
    }
   ],
   "source": [
    "# Find columns where all values are null\n",
    "print('Columns where all values are null:', len(data.columns[data.isnull().all()]))\n",
    "print('Columns with values:', len(data.columns) - len(data.columns[data.isnull().all()]))\n",
    "print('Columns with no null values:', len(data.columns[data.notnull().all()]))"
   ]
  },
  {
   "cell_type": "code",
   "execution_count": 9,
   "metadata": {},
   "outputs": [
    {
     "name": "stdout",
     "output_type": "stream",
     "text": [
      "Row index where all values are null: []\n"
     ]
    }
   ],
   "source": [
    "# Show null rows\n",
    "all_null_rows = data[data.drop(['customerID'], axis=1).isnull().all(1)].index.values\n",
    "print('Row index where all values are null:', all_null_rows)"
   ]
  },
  {
   "cell_type": "code",
   "execution_count": 10,
   "metadata": {},
   "outputs": [
    {
     "name": "stdout",
     "output_type": "stream",
     "text": [
      "[ 488  753  936 1082 1340 3331 3826 4380 5218 6670 6754]\n"
     ]
    }
   ],
   "source": [
    "# Show row index with null values\n",
    "with_null = data[data.drop(['customerID'], axis=1).isnull().any(1)].index.values\n",
    "print(with_null)"
   ]
  },
  {
   "cell_type": "code",
   "execution_count": 11,
   "metadata": {},
   "outputs": [
    {
     "name": "stdout",
     "output_type": "stream",
     "text": [
      "Original shape:  (7043, 21)\n",
      "Shape after deletion:  (7032, 21)\n"
     ]
    }
   ],
   "source": [
    "# Since only 11 rows let's delete them\n",
    "print('Original shape: ', data.shape)\n",
    "data.drop(data.index[with_null], inplace=True)\n",
    "print('Shape after deletion: ', data.shape)"
   ]
  },
  {
   "cell_type": "code",
   "execution_count": 12,
   "metadata": {},
   "outputs": [
    {
     "name": "stdout",
     "output_type": "stream",
     "text": [
      "Features with 0 unique values: 0\n",
      "Features with 1 unique values: 0\n",
      "Features with 2 unique values: 7\n",
      "Features with 3 unique values: 9\n",
      "Features with 4 unique values: 1\n"
     ]
    }
   ],
   "source": [
    "# Check for features that have i value\n",
    "for i in range(5):\n",
    "    constant_features = [\n",
    "        feat for feat in data.columns if len(data[feat].unique()) == i\n",
    "    ]\n",
    "\n",
    "    print('Features with {} unique values: {}'.format(i, len(constant_features)))\n"
   ]
  },
  {
   "cell_type": "code",
   "execution_count": 13,
   "metadata": {},
   "outputs": [
    {
     "name": "stdout",
     "output_type": "stream",
     "text": [
      "No     5163\n",
      "Yes    1869\n",
      "Name: Churn, dtype: int64\n",
      "\n",
      "Month-to-month    3875\n",
      "Two year          1685\n",
      "One year          1472\n",
      "Name: Contract, dtype: int64\n",
      "\n",
      "No     4933\n",
      "Yes    2099\n",
      "Name: Dependents, dtype: int64\n",
      "\n",
      "No                     3094\n",
      "Yes                    2418\n",
      "No internet service    1520\n",
      "Name: DeviceProtection, dtype: int64\n",
      "\n",
      "Fiber optic    3096\n",
      "DSL            2416\n",
      "No             1520\n",
      "Name: InternetService, dtype: int64\n",
      "\n",
      "No                  3385\n",
      "Yes                 2967\n",
      "No phone service     680\n",
      "Name: MultipleLines, dtype: int64\n",
      "\n",
      "No                     3087\n",
      "Yes                    2425\n",
      "No internet service    1520\n",
      "Name: OnlineBackup, dtype: int64\n",
      "\n",
      "No                     3497\n",
      "Yes                    2015\n",
      "No internet service    1520\n",
      "Name: OnlineSecurity, dtype: int64\n",
      "\n",
      "Yes    4168\n",
      "No     2864\n",
      "Name: PaperlessBilling, dtype: int64\n",
      "\n",
      "No     3639\n",
      "Yes    3393\n",
      "Name: Partner, dtype: int64\n",
      "\n",
      "Electronic check             2365\n",
      "Mailed check                 1604\n",
      "Bank transfer (automatic)    1542\n",
      "Credit card (automatic)      1521\n",
      "Name: PaymentMethod, dtype: int64\n",
      "\n",
      "Yes    6352\n",
      "No      680\n",
      "Name: PhoneService, dtype: int64\n",
      "\n",
      "0    5890\n",
      "1    1142\n",
      "Name: SeniorCitizen, dtype: int64\n",
      "\n",
      "No                     2781\n",
      "Yes                    2731\n",
      "No internet service    1520\n",
      "Name: StreamingMovies, dtype: int64\n",
      "\n",
      "No                     2809\n",
      "Yes                    2703\n",
      "No internet service    1520\n",
      "Name: StreamingTV, dtype: int64\n",
      "\n",
      "No                     3472\n",
      "Yes                    2040\n",
      "No internet service    1520\n",
      "Name: TechSupport, dtype: int64\n",
      "\n",
      "Male      3549\n",
      "Female    3483\n",
      "Name: gender, dtype: int64\n",
      "\n"
     ]
    }
   ],
   "source": [
    "# Check  for Quasi Constant Values, does not count null values\n",
    "for col in data.columns.sort_values():\n",
    "    if (len(data[col].unique()) < 5):\n",
    "        print(data[col].value_counts())\n",
    "        print()"
   ]
  },
  {
   "cell_type": "code",
   "execution_count": 14,
   "metadata": {},
   "outputs": [
    {
     "name": "stdout",
     "output_type": "stream",
     "text": [
      "loop tracker 0\n",
      "loop tracker 10\n",
      "loop tracker 20\n",
      "Number of duplicated features 0\n"
     ]
    }
   ],
   "source": [
    "# Check for columns with duplicate values\n",
    "duplicated_feat = []\n",
    "for i in range(0, len(data.columns)):\n",
    "    if i % 10 == 0:  # Keep track of the loop\n",
    "        print('loop tracker', i)\n",
    "\n",
    "    col_1 = data.columns[i]\n",
    "\n",
    "    for col_2 in data.columns[i + 1:]:\n",
    "        if data[col_1].equals(data[col_2]):\n",
    "            duplicated_feat.append(col_2)\n",
    "            \n",
    "# Number of duplicated features\n",
    "print('Number of duplicated features', len(set(duplicated_feat)))"
   ]
  },
  {
   "cell_type": "code",
   "execution_count": 15,
   "metadata": {},
   "outputs": [],
   "source": [
    "# Drop customerID\n",
    "data.drop(['customerID'], axis=1, inplace=True)"
   ]
  },
  {
   "cell_type": "markdown",
   "metadata": {},
   "source": [
    "## Check Outliers"
   ]
  },
  {
   "cell_type": "code",
   "execution_count": 16,
   "metadata": {},
   "outputs": [
    {
     "data": {
      "text/html": [
       "<div>\n",
       "<style scoped>\n",
       "    .dataframe tbody tr th:only-of-type {\n",
       "        vertical-align: middle;\n",
       "    }\n",
       "\n",
       "    .dataframe tbody tr th {\n",
       "        vertical-align: top;\n",
       "    }\n",
       "\n",
       "    .dataframe thead th {\n",
       "        text-align: right;\n",
       "    }\n",
       "</style>\n",
       "<table border=\"1\" class=\"dataframe\">\n",
       "  <thead>\n",
       "    <tr style=\"text-align: right;\">\n",
       "      <th></th>\n",
       "      <th>SeniorCitizen</th>\n",
       "      <th>tenure</th>\n",
       "      <th>MonthlyCharges</th>\n",
       "    </tr>\n",
       "  </thead>\n",
       "  <tbody>\n",
       "    <tr>\n",
       "      <th>count</th>\n",
       "      <td>7032.000000</td>\n",
       "      <td>7032.000000</td>\n",
       "      <td>7032.000000</td>\n",
       "    </tr>\n",
       "    <tr>\n",
       "      <th>mean</th>\n",
       "      <td>0.162400</td>\n",
       "      <td>32.421786</td>\n",
       "      <td>64.798208</td>\n",
       "    </tr>\n",
       "    <tr>\n",
       "      <th>std</th>\n",
       "      <td>0.368844</td>\n",
       "      <td>24.545260</td>\n",
       "      <td>30.085974</td>\n",
       "    </tr>\n",
       "    <tr>\n",
       "      <th>min</th>\n",
       "      <td>0.000000</td>\n",
       "      <td>1.000000</td>\n",
       "      <td>18.250000</td>\n",
       "    </tr>\n",
       "    <tr>\n",
       "      <th>25%</th>\n",
       "      <td>0.000000</td>\n",
       "      <td>9.000000</td>\n",
       "      <td>35.587500</td>\n",
       "    </tr>\n",
       "    <tr>\n",
       "      <th>50%</th>\n",
       "      <td>0.000000</td>\n",
       "      <td>29.000000</td>\n",
       "      <td>70.350000</td>\n",
       "    </tr>\n",
       "    <tr>\n",
       "      <th>75%</th>\n",
       "      <td>0.000000</td>\n",
       "      <td>55.000000</td>\n",
       "      <td>89.862500</td>\n",
       "    </tr>\n",
       "    <tr>\n",
       "      <th>max</th>\n",
       "      <td>1.000000</td>\n",
       "      <td>72.000000</td>\n",
       "      <td>118.750000</td>\n",
       "    </tr>\n",
       "  </tbody>\n",
       "</table>\n",
       "</div>"
      ],
      "text/plain": [
       "       SeniorCitizen       tenure  MonthlyCharges\n",
       "count    7032.000000  7032.000000     7032.000000\n",
       "mean        0.162400    32.421786       64.798208\n",
       "std         0.368844    24.545260       30.085974\n",
       "min         0.000000     1.000000       18.250000\n",
       "25%         0.000000     9.000000       35.587500\n",
       "50%         0.000000    29.000000       70.350000\n",
       "75%         0.000000    55.000000       89.862500\n",
       "max         1.000000    72.000000      118.750000"
      ]
     },
     "execution_count": 16,
     "metadata": {},
     "output_type": "execute_result"
    }
   ],
   "source": [
    "data.describe()"
   ]
  },
  {
   "cell_type": "code",
   "execution_count": 17,
   "metadata": {},
   "outputs": [
    {
     "name": "stdout",
     "output_type": "stream",
     "text": [
      "(7032, 3)\n",
      "                 SeniorCitizen: 1142\n",
      "                        tenure: 0\n",
      "                MonthlyCharges: 0\n"
     ]
    }
   ],
   "source": [
    "#Check for outliers\n",
    "outliers = pd.DataFrame()\n",
    "for feat in data._get_numeric_data().columns:\n",
    "#     q1, q3= np.percentile(outliers[feat],[25,75])\n",
    "#     iqr = q3 - q1\n",
    "#     Lower_fence = q1 -(1.5 * iqr) \n",
    "#     Upper_fence = q3 +(1.5 * iqr) \n",
    "\n",
    "    IQR = data[feat].quantile(0.75) - data[feat].quantile(0.25)\n",
    "    Lower_fence = data[feat].quantile(0.25) - (IQR * 1.5)\n",
    "    Upper_fence = data[feat].quantile(0.75) + (IQR * 1.5)\n",
    "\n",
    "    outliers[feat] = data[feat].apply(lambda x: x if x >= Lower_fence and x <= Upper_fence else np.nan)\n",
    "\n",
    "print(outliers.shape)\n",
    "for feat in outliers.columns:\n",
    "    print('{: >30}: {}'.format(feat, outliers[feat].isnull().sum()-data[feat].isnull().sum()))"
   ]
  },
  {
   "cell_type": "markdown",
   "metadata": {},
   "source": [
    "## Convert Object Data to Numeric"
   ]
  },
  {
   "cell_type": "code",
   "execution_count": 18,
   "metadata": {},
   "outputs": [
    {
     "name": "stdout",
     "output_type": "stream",
     "text": [
      "<class 'pandas.core.frame.DataFrame'>\n",
      "Int64Index: 7032 entries, 0 to 7042\n",
      "Data columns (total 20 columns):\n",
      "gender              7032 non-null object\n",
      "SeniorCitizen       7032 non-null int64\n",
      "Partner             7032 non-null object\n",
      "Dependents          7032 non-null object\n",
      "tenure              7032 non-null int64\n",
      "PhoneService        7032 non-null object\n",
      "MultipleLines       7032 non-null object\n",
      "InternetService     7032 non-null object\n",
      "OnlineSecurity      7032 non-null object\n",
      "OnlineBackup        7032 non-null object\n",
      "DeviceProtection    7032 non-null object\n",
      "TechSupport         7032 non-null object\n",
      "StreamingTV         7032 non-null object\n",
      "StreamingMovies     7032 non-null object\n",
      "Contract            7032 non-null object\n",
      "PaperlessBilling    7032 non-null object\n",
      "PaymentMethod       7032 non-null object\n",
      "MonthlyCharges      7032 non-null float64\n",
      "TotalCharges        7032 non-null float64\n",
      "Churn               7032 non-null object\n",
      "dtypes: float64(2), int64(2), object(16)\n",
      "memory usage: 1.1+ MB\n"
     ]
    }
   ],
   "source": [
    "# Convert TotalCharges str to numeric\n",
    "data.TotalCharges = pd.to_numeric(data.TotalCharges)\n",
    "data.info()"
   ]
  },
  {
   "cell_type": "markdown",
   "metadata": {},
   "source": [
    "## Normalize Data"
   ]
  },
  {
   "cell_type": "code",
   "execution_count": 19,
   "metadata": {
    "scrolled": true
   },
   "outputs": [
    {
     "data": {
      "text/plain": [
       "gender              0\n",
       "SeniorCitizen       0\n",
       "Partner             0\n",
       "Dependents          0\n",
       "tenure              0\n",
       "PhoneService        0\n",
       "MultipleLines       0\n",
       "InternetService     0\n",
       "OnlineSecurity      0\n",
       "OnlineBackup        0\n",
       "DeviceProtection    0\n",
       "TechSupport         0\n",
       "StreamingTV         0\n",
       "StreamingMovies     0\n",
       "Contract            0\n",
       "PaperlessBilling    0\n",
       "PaymentMethod       0\n",
       "MonthlyCharges      0\n",
       "TotalCharges        0\n",
       "Churn               0\n",
       "dtype: int64"
      ]
     },
     "execution_count": 19,
     "metadata": {},
     "output_type": "execute_result"
    }
   ],
   "source": [
    "# Scale features\n",
    "from sklearn.preprocessing import StandardScaler\n",
    "\n",
    "cols_to_scale = ['tenure', 'MonthlyCharges', 'TotalCharges']\n",
    "\n",
    "sc = StandardScaler()\n",
    "data[cols_to_scale] = sc.fit_transform(data[cols_to_scale])\n",
    "# scaled = sc.fit_transform(data[cols_to_scale])\n",
    "# scaled = pd.DataFrame(scaled, columns=cols_to_scale)\n",
    "# print(scaled.shape)\n",
    "# df_scaled = data.drop(columns = cols_to_scale, axis = 1)\n",
    "# df_scaled = scaled.merge(df_scaled, left_on=right_index=True, how = \"left\")\n",
    "\n",
    "data.isnull().sum()"
   ]
  },
  {
   "cell_type": "code",
   "execution_count": 20,
   "metadata": {},
   "outputs": [
    {
     "name": "stdout",
     "output_type": "stream",
     "text": [
      "Unique values per categorical feature:\n",
      "gender              2\n",
      "Partner             2\n",
      "Dependents          2\n",
      "PhoneService        2\n",
      "MultipleLines       3\n",
      "InternetService     3\n",
      "OnlineSecurity      3\n",
      "OnlineBackup        3\n",
      "DeviceProtection    3\n",
      "TechSupport         3\n",
      "StreamingTV         3\n",
      "StreamingMovies     3\n",
      "Contract            3\n",
      "PaperlessBilling    2\n",
      "PaymentMethod       4\n",
      "Churn               2\n",
      "dtype: int64\n",
      "(7032, 20)\n"
     ]
    }
   ],
   "source": [
    "# Dbl check categorical data for one hot encoding\n",
    "print('Unique values per categorical feature:')\n",
    "print(data.select_dtypes(include=['object']).nunique())\n",
    "print(data.shape)"
   ]
  },
  {
   "cell_type": "markdown",
   "metadata": {},
   "source": [
    "## One Hot Encoding"
   ]
  },
  {
   "cell_type": "code",
   "execution_count": 21,
   "metadata": {
    "scrolled": true
   },
   "outputs": [
    {
     "name": "stdout",
     "output_type": "stream",
     "text": [
      "<class 'pandas.core.frame.DataFrame'>\n",
      "Int64Index: 7032 entries, 0 to 7042\n",
      "Data columns (total 31 columns):\n",
      "seniorcitizen                           7032 non-null int64\n",
      "tenure                                  7032 non-null float64\n",
      "monthlycharges                          7032 non-null float64\n",
      "totalcharges                            7032 non-null float64\n",
      "churn                                   7032 non-null int64\n",
      "gender_male                             7032 non-null uint8\n",
      "partner_yes                             7032 non-null uint8\n",
      "dependents_yes                          7032 non-null uint8\n",
      "phoneservice_yes                        7032 non-null uint8\n",
      "multiplelines_no_phone_service          7032 non-null uint8\n",
      "multiplelines_yes                       7032 non-null uint8\n",
      "internetservice_fiber_optic             7032 non-null uint8\n",
      "internetservice_no                      7032 non-null uint8\n",
      "onlinesecurity_no_internet_service      7032 non-null uint8\n",
      "onlinesecurity_yes                      7032 non-null uint8\n",
      "onlinebackup_no_internet_service        7032 non-null uint8\n",
      "onlinebackup_yes                        7032 non-null uint8\n",
      "deviceprotection_no_internet_service    7032 non-null uint8\n",
      "deviceprotection_yes                    7032 non-null uint8\n",
      "techsupport_no_internet_service         7032 non-null uint8\n",
      "techsupport_yes                         7032 non-null uint8\n",
      "streamingtv_no_internet_service         7032 non-null uint8\n",
      "streamingtv_yes                         7032 non-null uint8\n",
      "streamingmovies_no_internet_service     7032 non-null uint8\n",
      "streamingmovies_yes                     7032 non-null uint8\n",
      "contract_one_year                       7032 non-null uint8\n",
      "contract_two_year                       7032 non-null uint8\n",
      "paperlessbilling_yes                    7032 non-null uint8\n",
      "paymentmethod_credit_card_automatic     7032 non-null uint8\n",
      "paymentmethod_electronic_check          7032 non-null uint8\n",
      "paymentmethod_mailed_check              7032 non-null uint8\n",
      "dtypes: float64(3), int64(2), uint8(26)\n",
      "memory usage: 508.2 KB\n"
     ]
    }
   ],
   "source": [
    "# One hot categorical data\n",
    "df = pd.get_dummies(data, \n",
    "                    columns=data.drop(['Churn'], axis=1).select_dtypes(include=['object']).columns.values, \n",
    "                    drop_first=True)\n",
    "\n",
    "# Fix column names\n",
    "df.columns = df.columns.str.lower().str.replace(' ', '_')\n",
    "df.rename(columns={'paymentmethod_credit_card_(automatic)':'paymentmethod_credit_card_automatic'}, inplace=True)\n",
    "\n",
    "# Make Churn 1 and 0\n",
    "churn_map = {\n",
    "    'No': 0,\n",
    "    'Yes': 1\n",
    "}\n",
    "\n",
    "df.churn = df.churn.map(churn_map)\n",
    "df.info()"
   ]
  },
  {
   "cell_type": "code",
   "execution_count": 22,
   "metadata": {},
   "outputs": [
    {
     "name": "stdout",
     "output_type": "stream",
     "text": [
      "loop tracker 0\n",
      "loop tracker 10\n",
      "loop tracker 20\n",
      "loop tracker 30\n",
      "Number of duplicated features 6\n",
      "Duplicated features:  {'onlinebackup_no_internet_service', 'onlinesecurity_no_internet_service', 'streamingtv_no_internet_service', 'streamingmovies_no_internet_service', 'techsupport_no_internet_service', 'deviceprotection_no_internet_service'}\n"
     ]
    }
   ],
   "source": [
    "# Check duplicate values again after one hot encoding\n",
    "duplicated_feat = []\n",
    "for i in range(0, len(df.columns)):\n",
    "    if i % 10 == 0:  # Keep track of the loop\n",
    "        print('loop tracker', i)\n",
    "\n",
    "    col_1 = df.columns[i]\n",
    "\n",
    "    for col_2 in df.columns[i + 1:]:\n",
    "        if df[col_1].equals(df[col_2]):\n",
    "            duplicated_feat.append(col_2)\n",
    "            \n",
    "# Number of duplicated features\n",
    "print('Number of duplicated features', len(set(duplicated_feat)))\n",
    "print('Duplicated features: ', set(duplicated_feat))"
   ]
  },
  {
   "cell_type": "code",
   "execution_count": 23,
   "metadata": {},
   "outputs": [
    {
     "name": "stdout",
     "output_type": "stream",
     "text": [
      "(7032, 31)\n",
      "(7032, 25)\n"
     ]
    }
   ],
   "source": [
    "# Delete duplicate features\n",
    "print(df.shape)\n",
    "df.drop(labels=duplicated_feat, axis=1, inplace=True)\n",
    "print(df.shape)"
   ]
  },
  {
   "cell_type": "markdown",
   "metadata": {},
   "source": [
    "## Split Data Into Train Test Sets\n",
    "It is good practice to do feature selection on training data to address overfitting and leakage. Data leakage is when information from outside the training dataset is used to create the model."
   ]
  },
  {
   "cell_type": "code",
   "execution_count": 24,
   "metadata": {},
   "outputs": [
    {
     "name": "stdout",
     "output_type": "stream",
     "text": [
      "X_train shape:  (4922, 24)\n",
      "X_test shape:  (2110, 24)\n",
      "y_train shape:  (4922,)\n",
      "y_test shape:  (2110,)\n"
     ]
    }
   ],
   "source": [
    "# Separate dataset into train, validate, and test\n",
    "from sklearn.model_selection import train_test_split\n",
    "\n",
    "features = df.drop(['churn'], axis=1)\n",
    "target = df.churn\n",
    "\n",
    "X_train, X_test, y_train, y_test = train_test_split(\n",
    "    features,\n",
    "    target,\n",
    "    test_size=0.3,\n",
    "    random_state=1)\n",
    "\n",
    "print('X_train shape: ', X_train.shape)\n",
    "print('X_test shape: ', X_test.shape)\n",
    "print('y_train shape: ', y_train.shape)\n",
    "print('y_test shape: ', y_test.shape)"
   ]
  },
  {
   "cell_type": "markdown",
   "metadata": {},
   "source": [
    "## Feature Awareness\n",
    "Explore features for correlation, collinearity, feature importance"
   ]
  },
  {
   "cell_type": "code",
   "execution_count": 25,
   "metadata": {},
   "outputs": [
    {
     "data": {
      "text/plain": [
       "<matplotlib.axes._subplots.AxesSubplot at 0x7f69a40244a8>"
      ]
     },
     "execution_count": 25,
     "metadata": {},
     "output_type": "execute_result"
    },
    {
     "data": {
      "image/png": "[encoded data removed]",
      "text/plain": [
       "<Figure size 2592x1440 with 2 Axes>"
      ]
     },
     "metadata": {},
     "output_type": "display_data"
    }
   ],
   "source": [
    "# Correlation Matrix\n",
    "sns.set(style=\"white\")\n",
    "\n",
    "# Compute the correlation matrix\n",
    "corr = X_train.corr()\n",
    "\n",
    "# Generate a mask for the upper triangle\n",
    "mask = np.zeros_like(corr, dtype=np.bool)\n",
    "mask[np.triu_indices_from(mask)] = True\n",
    "\n",
    "# Set up the matplotlib figure\n",
    "f, ax = plt.subplots(figsize=(36,20))\n",
    "\n",
    "# Generate a custom diverging colormap\n",
    "cmap = sns.diverging_palette(220, 10, as_cmap=True)\n",
    "\n",
    "# Draw the heatmap with the mask and correct aspect ratio\n",
    "sns.heatmap(corr, mask=mask, cmap=cmap, annot=True)"
   ]
  },
  {
   "cell_type": "code",
   "execution_count": 26,
   "metadata": {},
   "outputs": [
    {
     "data": {
      "text/html": [
       "<div>\n",
       "<style scoped>\n",
       "    .dataframe tbody tr th:only-of-type {\n",
       "        vertical-align: middle;\n",
       "    }\n",
       "\n",
       "    .dataframe tbody tr th {\n",
       "        vertical-align: top;\n",
       "    }\n",
       "\n",
       "    .dataframe thead th {\n",
       "        text-align: right;\n",
       "    }\n",
       "</style>\n",
       "<table border=\"1\" class=\"dataframe\">\n",
       "  <thead>\n",
       "    <tr style=\"text-align: right;\">\n",
       "      <th></th>\n",
       "      <th>feature1</th>\n",
       "      <th>feature2</th>\n",
       "      <th>corr</th>\n",
       "    </tr>\n",
       "  </thead>\n",
       "  <tbody>\n",
       "    <tr>\n",
       "      <th>0</th>\n",
       "      <td>paymentmethod_mailed_check</td>\n",
       "      <td>paymentmethod_mailed_check</td>\n",
       "      <td>1.0</td>\n",
       "    </tr>\n",
       "    <tr>\n",
       "      <th>1</th>\n",
       "      <td>internetservice_fiber_optic</td>\n",
       "      <td>internetservice_fiber_optic</td>\n",
       "      <td>1.0</td>\n",
       "    </tr>\n",
       "    <tr>\n",
       "      <th>2</th>\n",
       "      <td>paperlessbilling_yes</td>\n",
       "      <td>paperlessbilling_yes</td>\n",
       "      <td>1.0</td>\n",
       "    </tr>\n",
       "    <tr>\n",
       "      <th>3</th>\n",
       "      <td>contract_two_year</td>\n",
       "      <td>contract_two_year</td>\n",
       "      <td>1.0</td>\n",
       "    </tr>\n",
       "    <tr>\n",
       "      <th>4</th>\n",
       "      <td>contract_one_year</td>\n",
       "      <td>contract_one_year</td>\n",
       "      <td>1.0</td>\n",
       "    </tr>\n",
       "  </tbody>\n",
       "</table>\n",
       "</div>"
      ],
      "text/plain": [
       "                      feature1                     feature2  corr\n",
       "0   paymentmethod_mailed_check   paymentmethod_mailed_check   1.0\n",
       "1  internetservice_fiber_optic  internetservice_fiber_optic   1.0\n",
       "2         paperlessbilling_yes         paperlessbilling_yes   1.0\n",
       "3            contract_two_year            contract_two_year   1.0\n",
       "4            contract_one_year            contract_one_year   1.0"
      ]
     },
     "execution_count": 26,
     "metadata": {},
     "output_type": "execute_result"
    }
   ],
   "source": [
    "# Create function to identify highly correlated features\n",
    "corrmat = X_train.corr()\n",
    "corrmat = corrmat.abs().unstack()\n",
    "corrmat = corrmat.sort_values(ascending=False)\n",
    "corrmat = corrmat[corrmat >= 0.8]\n",
    "corrmat = corrmat[corrmat <= 1]\n",
    "corrmat = pd.DataFrame(corrmat).reset_index()\n",
    "corrmat.columns = ['feature1', 'feature2', 'corr']\n",
    "corrmat.head()"
   ]
  },
  {
   "cell_type": "code",
   "execution_count": 27,
   "metadata": {},
   "outputs": [
    {
     "name": "stdout",
     "output_type": "stream",
     "text": [
      "{'phoneservice_yes', 'tenure', 'totalcharges', 'multiplelines_no_phone_service'}\n",
      "Found 2 correlated groups\n",
      "out of 24 total features\n"
     ]
    }
   ],
   "source": [
    "# Find groups of correlated features\n",
    "\n",
    "grouped_feature_ls = []\n",
    "correlated_groups = []\n",
    "correlated_list = set()\n",
    "\n",
    "for feature in corrmat.feature1.unique():\n",
    "    if feature not in grouped_feature_ls:\n",
    "\n",
    "        # find all features correlated to a single feature\n",
    "        correlated_block = corrmat[corrmat.feature1 == feature]\n",
    "        grouped_feature_ls = grouped_feature_ls + list(correlated_block.feature2.unique()) + [feature]\n",
    "        \n",
    "        # append the block of features to the list\n",
    "        if len(correlated_block) > 1:\n",
    "            correlated_groups.append(correlated_block)\n",
    "            for block in correlated_block.feature1.append(correlated_block.feature2):\n",
    "                correlated_list.add(block)\n",
    "\n",
    "print(correlated_list)\n",
    "print('Found {} correlated groups'.format(len(correlated_groups)))\n",
    "print('out of {} total features'.format(features.shape[1]))"
   ]
  },
  {
   "cell_type": "code",
   "execution_count": 28,
   "metadata": {},
   "outputs": [
    {
     "name": "stdout",
     "output_type": "stream",
     "text": [
      "                          feature1                        feature2  corr\n",
      "14  multiplelines_no_phone_service  multiplelines_no_phone_service   1.0\n",
      "15  multiplelines_no_phone_service                phoneservice_yes   1.0\n",
      "\n",
      "        feature1      feature2      corr\n",
      "21  totalcharges  totalcharges  1.000000\n",
      "27  totalcharges        tenure  0.828701\n",
      "\n"
     ]
    }
   ],
   "source": [
    "# Examine the groups\n",
    "for group in correlated_groups:\n",
    "    print(group)\n",
    "    print()"
   ]
  },
  {
   "cell_type": "code",
   "execution_count": 29,
   "metadata": {},
   "outputs": [
    {
     "data": {
      "text/plain": [
       "RandomForestClassifier(bootstrap=True, ccp_alpha=0.0, class_weight=None,\n",
       "                       criterion='gini', max_depth=4, max_features='auto',\n",
       "                       max_leaf_nodes=None, max_samples=None,\n",
       "                       min_impurity_decrease=0.0, min_impurity_split=None,\n",
       "                       min_samples_leaf=1, min_samples_split=2,\n",
       "                       min_weight_fraction_leaf=0.0, n_estimators=200,\n",
       "                       n_jobs=None, oob_score=False, random_state=None,\n",
       "                       verbose=0, warm_start=False)"
      ]
     },
     "execution_count": 29,
     "metadata": {},
     "output_type": "execute_result"
    }
   ],
   "source": [
    "# Use RandomForest for reature importance\n",
    "from sklearn.ensemble import RandomForestClassifier\n",
    "\n",
    "# features = list(group.feature1.unique())\n",
    "rf_features = list(correlated_list)\n",
    "rf = RandomForestClassifier(n_estimators=200, max_depth=4)\n",
    "rf.fit(X_train[rf_features], y_train)"
   ]
  },
  {
   "cell_type": "code",
   "execution_count": 30,
   "metadata": {},
   "outputs": [
    {
     "name": "stdout",
     "output_type": "stream",
     "text": [
      "                          feature  importance\n",
      "1                          tenure    0.617383\n",
      "2                    totalcharges    0.363873\n",
      "3  multiplelines_no_phone_service    0.010880\n",
      "0                phoneservice_yes    0.007863\n"
     ]
    }
   ],
   "source": [
    "# This is our first test for feature selection. \n",
    "# Initiate possible_drop_features to store groups of possible feature to drop\n",
    "# Random Forest feature importance\n",
    "possible_drop_features = {}\n",
    "\n",
    "importance = pd.concat(\n",
    "    [pd.Series(rf_features),\n",
    "     pd.Series(rf.feature_importances_)], axis=1)\n",
    "\n",
    "importance.columns = ['feature', 'importance']\n",
    "rf_importance = importance.sort_values(by='importance', ascending=False).feature.values\n",
    "possible_drop_features['rf_non_importance'] = list(rf_importance)\n",
    "print(importance.sort_values(by='importance', ascending=False))\n",
    "# print(possible_drop_features)"
   ]
  },
  {
   "cell_type": "markdown",
   "metadata": {},
   "source": [
    "## Collinearity"
   ]
  },
  {
   "cell_type": "code",
   "execution_count": 31,
   "metadata": {},
   "outputs": [
    {
     "data": {
      "text/html": [
       "<div>\n",
       "<style scoped>\n",
       "    .dataframe tbody tr th:only-of-type {\n",
       "        vertical-align: middle;\n",
       "    }\n",
       "\n",
       "    .dataframe tbody tr th {\n",
       "        vertical-align: top;\n",
       "    }\n",
       "\n",
       "    .dataframe thead th {\n",
       "        text-align: right;\n",
       "    }\n",
       "</style>\n",
       "<table border=\"1\" class=\"dataframe\">\n",
       "  <thead>\n",
       "    <tr style=\"text-align: right;\">\n",
       "      <th></th>\n",
       "      <th>seniorcitizen</th>\n",
       "      <th>tenure</th>\n",
       "      <th>monthlycharges</th>\n",
       "      <th>totalcharges</th>\n",
       "      <th>gender_male</th>\n",
       "      <th>partner_yes</th>\n",
       "      <th>dependents_yes</th>\n",
       "      <th>phoneservice_yes</th>\n",
       "      <th>multiplelines_no_phone_service</th>\n",
       "      <th>multiplelines_yes</th>\n",
       "      <th>...</th>\n",
       "      <th>techsupport_yes</th>\n",
       "      <th>streamingtv_yes</th>\n",
       "      <th>streamingmovies_yes</th>\n",
       "      <th>contract_one_year</th>\n",
       "      <th>contract_two_year</th>\n",
       "      <th>paperlessbilling_yes</th>\n",
       "      <th>paymentmethod_credit_card_automatic</th>\n",
       "      <th>paymentmethod_electronic_check</th>\n",
       "      <th>paymentmethod_mailed_check</th>\n",
       "      <th>target</th>\n",
       "    </tr>\n",
       "  </thead>\n",
       "  <tbody>\n",
       "    <tr>\n",
       "      <th>1584</th>\n",
       "      <td>1</td>\n",
       "      <td>1.327365</td>\n",
       "      <td>-0.375557</td>\n",
       "      <td>0.544690</td>\n",
       "      <td>0</td>\n",
       "      <td>0</td>\n",
       "      <td>0</td>\n",
       "      <td>0</td>\n",
       "      <td>1</td>\n",
       "      <td>0</td>\n",
       "      <td>...</td>\n",
       "      <td>0</td>\n",
       "      <td>1</td>\n",
       "      <td>1</td>\n",
       "      <td>0</td>\n",
       "      <td>1</td>\n",
       "      <td>1</td>\n",
       "      <td>0</td>\n",
       "      <td>0</td>\n",
       "      <td>0</td>\n",
       "      <td>0</td>\n",
       "    </tr>\n",
       "    <tr>\n",
       "      <th>1043</th>\n",
       "      <td>0</td>\n",
       "      <td>-0.017185</td>\n",
       "      <td>0.164600</td>\n",
       "      <td>0.028501</td>\n",
       "      <td>1</td>\n",
       "      <td>1</td>\n",
       "      <td>1</td>\n",
       "      <td>1</td>\n",
       "      <td>0</td>\n",
       "      <td>0</td>\n",
       "      <td>...</td>\n",
       "      <td>0</td>\n",
       "      <td>0</td>\n",
       "      <td>0</td>\n",
       "      <td>0</td>\n",
       "      <td>0</td>\n",
       "      <td>1</td>\n",
       "      <td>0</td>\n",
       "      <td>0</td>\n",
       "      <td>0</td>\n",
       "      <td>1</td>\n",
       "    </tr>\n",
       "    <tr>\n",
       "      <th>1077</th>\n",
       "      <td>0</td>\n",
       "      <td>0.349510</td>\n",
       "      <td>1.652110</td>\n",
       "      <td>0.990091</td>\n",
       "      <td>0</td>\n",
       "      <td>0</td>\n",
       "      <td>0</td>\n",
       "      <td>1</td>\n",
       "      <td>0</td>\n",
       "      <td>1</td>\n",
       "      <td>...</td>\n",
       "      <td>1</td>\n",
       "      <td>1</td>\n",
       "      <td>1</td>\n",
       "      <td>0</td>\n",
       "      <td>0</td>\n",
       "      <td>1</td>\n",
       "      <td>0</td>\n",
       "      <td>0</td>\n",
       "      <td>0</td>\n",
       "      <td>1</td>\n",
       "    </tr>\n",
       "    <tr>\n",
       "      <th>2478</th>\n",
       "      <td>0</td>\n",
       "      <td>-1.158016</td>\n",
       "      <td>-0.673059</td>\n",
       "      <td>-0.909971</td>\n",
       "      <td>1</td>\n",
       "      <td>0</td>\n",
       "      <td>0</td>\n",
       "      <td>1</td>\n",
       "      <td>0</td>\n",
       "      <td>0</td>\n",
       "      <td>...</td>\n",
       "      <td>0</td>\n",
       "      <td>0</td>\n",
       "      <td>0</td>\n",
       "      <td>0</td>\n",
       "      <td>0</td>\n",
       "      <td>0</td>\n",
       "      <td>0</td>\n",
       "      <td>0</td>\n",
       "      <td>1</td>\n",
       "      <td>0</td>\n",
       "    </tr>\n",
       "    <tr>\n",
       "      <th>6908</th>\n",
       "      <td>0</td>\n",
       "      <td>-0.954296</td>\n",
       "      <td>-0.314063</td>\n",
       "      <td>-0.808939</td>\n",
       "      <td>1</td>\n",
       "      <td>0</td>\n",
       "      <td>1</td>\n",
       "      <td>1</td>\n",
       "      <td>0</td>\n",
       "      <td>0</td>\n",
       "      <td>...</td>\n",
       "      <td>0</td>\n",
       "      <td>1</td>\n",
       "      <td>0</td>\n",
       "      <td>0</td>\n",
       "      <td>0</td>\n",
       "      <td>0</td>\n",
       "      <td>0</td>\n",
       "      <td>1</td>\n",
       "      <td>0</td>\n",
       "      <td>1</td>\n",
       "    </tr>\n",
       "  </tbody>\n",
       "</table>\n",
       "<p>5 rows × 25 columns</p>\n",
       "</div>"
      ],
      "text/plain": [
       "      seniorcitizen    tenure  monthlycharges  totalcharges  gender_male  \\\n",
       "1584              1  1.327365       -0.375557      0.544690            0   \n",
       "1043              0 -0.017185        0.164600      0.028501            1   \n",
       "1077              0  0.349510        1.652110      0.990091            0   \n",
       "2478              0 -1.158016       -0.673059     -0.909971            1   \n",
       "6908              0 -0.954296       -0.314063     -0.808939            1   \n",
       "\n",
       "      partner_yes  dependents_yes  phoneservice_yes  \\\n",
       "1584            0               0                 0   \n",
       "1043            1               1                 1   \n",
       "1077            0               0                 1   \n",
       "2478            0               0                 1   \n",
       "6908            0               1                 1   \n",
       "\n",
       "      multiplelines_no_phone_service  multiplelines_yes  ...  techsupport_yes  \\\n",
       "1584                               1                  0  ...                0   \n",
       "1043                               0                  0  ...                0   \n",
       "1077                               0                  1  ...                1   \n",
       "2478                               0                  0  ...                0   \n",
       "6908                               0                  0  ...                0   \n",
       "\n",
       "      streamingtv_yes  streamingmovies_yes  contract_one_year  \\\n",
       "1584                1                    1                  0   \n",
       "1043                0                    0                  0   \n",
       "1077                1                    1                  0   \n",
       "2478                0                    0                  0   \n",
       "6908                1                    0                  0   \n",
       "\n",
       "      contract_two_year  paperlessbilling_yes  \\\n",
       "1584                  1                     1   \n",
       "1043                  0                     1   \n",
       "1077                  0                     1   \n",
       "2478                  0                     0   \n",
       "6908                  0                     0   \n",
       "\n",
       "      paymentmethod_credit_card_automatic  paymentmethod_electronic_check  \\\n",
       "1584                                    0                               0   \n",
       "1043                                    0                               0   \n",
       "1077                                    0                               0   \n",
       "2478                                    0                               0   \n",
       "6908                                    0                               1   \n",
       "\n",
       "      paymentmethod_mailed_check  target  \n",
       "1584                           0       0  \n",
       "1043                           0       1  \n",
       "1077                           0       1  \n",
       "2478                           1       0  \n",
       "6908                           0       1  \n",
       "\n",
       "[5 rows x 25 columns]"
      ]
     },
     "execution_count": 31,
     "metadata": {},
     "output_type": "execute_result"
    }
   ],
   "source": [
    "df_collinearity = pd.DataFrame(X_train.copy(), columns=features.columns)\n",
    "df_collinearity['target'] = target\n",
    "df_collinearity.head()"
   ]
  },
  {
   "cell_type": "code",
   "execution_count": 32,
   "metadata": {},
   "outputs": [
    {
     "name": "stderr",
     "output_type": "stream",
     "text": [
      "/home/cliffo/anaconda3/envs/tf2/lib/python3.6/site-packages/statsmodels/regression/linear_model.py:1685: RuntimeWarning: divide by zero encountered in double_scalars\n",
      "  return 1 - self.ssr/self.centered_tss\n",
      "/home/cliffo/anaconda3/envs/tf2/lib/python3.6/site-packages/statsmodels/stats/outliers_influence.py:193: RuntimeWarning: divide by zero encountered in double_scalars\n",
      "  vif = 1. / (1. - r_squared_i)\n"
     ]
    },
    {
     "data": {
      "text/html": [
       "<div>\n",
       "<style scoped>\n",
       "    .dataframe tbody tr th:only-of-type {\n",
       "        vertical-align: middle;\n",
       "    }\n",
       "\n",
       "    .dataframe tbody tr th {\n",
       "        vertical-align: top;\n",
       "    }\n",
       "\n",
       "    .dataframe thead th {\n",
       "        text-align: right;\n",
       "    }\n",
       "</style>\n",
       "<table border=\"1\" class=\"dataframe\">\n",
       "  <thead>\n",
       "    <tr style=\"text-align: right;\">\n",
       "      <th></th>\n",
       "      <th>VIF Factor</th>\n",
       "      <th>features</th>\n",
       "    </tr>\n",
       "  </thead>\n",
       "  <tbody>\n",
       "    <tr>\n",
       "      <th>8</th>\n",
       "      <td>inf</td>\n",
       "      <td>phoneservice_yes</td>\n",
       "    </tr>\n",
       "    <tr>\n",
       "      <th>9</th>\n",
       "      <td>inf</td>\n",
       "      <td>multiplelines_no_phone_service</td>\n",
       "    </tr>\n",
       "    <tr>\n",
       "      <th>3</th>\n",
       "      <td>865.58</td>\n",
       "      <td>monthlycharges</td>\n",
       "    </tr>\n",
       "    <tr>\n",
       "      <th>11</th>\n",
       "      <td>147.79</td>\n",
       "      <td>internetservice_fiber_optic</td>\n",
       "    </tr>\n",
       "    <tr>\n",
       "      <th>12</th>\n",
       "      <td>102.51</td>\n",
       "      <td>internetservice_no</td>\n",
       "    </tr>\n",
       "    <tr>\n",
       "      <th>18</th>\n",
       "      <td>24.02</td>\n",
       "      <td>streamingmovies_yes</td>\n",
       "    </tr>\n",
       "    <tr>\n",
       "      <th>17</th>\n",
       "      <td>23.92</td>\n",
       "      <td>streamingtv_yes</td>\n",
       "    </tr>\n",
       "    <tr>\n",
       "      <th>4</th>\n",
       "      <td>10.90</td>\n",
       "      <td>totalcharges</td>\n",
       "    </tr>\n",
       "    <tr>\n",
       "      <th>2</th>\n",
       "      <td>7.55</td>\n",
       "      <td>tenure</td>\n",
       "    </tr>\n",
       "    <tr>\n",
       "      <th>10</th>\n",
       "      <td>7.25</td>\n",
       "      <td>multiplelines_yes</td>\n",
       "    </tr>\n",
       "    <tr>\n",
       "      <th>15</th>\n",
       "      <td>6.95</td>\n",
       "      <td>deviceprotection_yes</td>\n",
       "    </tr>\n",
       "    <tr>\n",
       "      <th>14</th>\n",
       "      <td>6.79</td>\n",
       "      <td>onlinebackup_yes</td>\n",
       "    </tr>\n",
       "    <tr>\n",
       "      <th>16</th>\n",
       "      <td>6.56</td>\n",
       "      <td>techsupport_yes</td>\n",
       "    </tr>\n",
       "    <tr>\n",
       "      <th>13</th>\n",
       "      <td>6.28</td>\n",
       "      <td>onlinesecurity_yes</td>\n",
       "    </tr>\n",
       "    <tr>\n",
       "      <th>20</th>\n",
       "      <td>2.65</td>\n",
       "      <td>contract_two_year</td>\n",
       "    </tr>\n",
       "    <tr>\n",
       "      <th>23</th>\n",
       "      <td>1.99</td>\n",
       "      <td>paymentmethod_electronic_check</td>\n",
       "    </tr>\n",
       "    <tr>\n",
       "      <th>24</th>\n",
       "      <td>1.90</td>\n",
       "      <td>paymentmethod_mailed_check</td>\n",
       "    </tr>\n",
       "    <tr>\n",
       "      <th>19</th>\n",
       "      <td>1.63</td>\n",
       "      <td>contract_one_year</td>\n",
       "    </tr>\n",
       "    <tr>\n",
       "      <th>22</th>\n",
       "      <td>1.58</td>\n",
       "      <td>paymentmethod_credit_card_automatic</td>\n",
       "    </tr>\n",
       "    <tr>\n",
       "      <th>6</th>\n",
       "      <td>1.46</td>\n",
       "      <td>partner_yes</td>\n",
       "    </tr>\n",
       "    <tr>\n",
       "      <th>7</th>\n",
       "      <td>1.39</td>\n",
       "      <td>dependents_yes</td>\n",
       "    </tr>\n",
       "    <tr>\n",
       "      <th>21</th>\n",
       "      <td>1.21</td>\n",
       "      <td>paperlessbilling_yes</td>\n",
       "    </tr>\n",
       "    <tr>\n",
       "      <th>1</th>\n",
       "      <td>1.16</td>\n",
       "      <td>seniorcitizen</td>\n",
       "    </tr>\n",
       "    <tr>\n",
       "      <th>5</th>\n",
       "      <td>1.00</td>\n",
       "      <td>gender_male</td>\n",
       "    </tr>\n",
       "    <tr>\n",
       "      <th>0</th>\n",
       "      <td>0.00</td>\n",
       "      <td>Intercept</td>\n",
       "    </tr>\n",
       "  </tbody>\n",
       "</table>\n",
       "</div>"
      ],
      "text/plain": [
       "    VIF Factor                             features\n",
       "8          inf                     phoneservice_yes\n",
       "9          inf       multiplelines_no_phone_service\n",
       "3       865.58                       monthlycharges\n",
       "11      147.79          internetservice_fiber_optic\n",
       "12      102.51                   internetservice_no\n",
       "18       24.02                  streamingmovies_yes\n",
       "17       23.92                      streamingtv_yes\n",
       "4        10.90                         totalcharges\n",
       "2         7.55                               tenure\n",
       "10        7.25                    multiplelines_yes\n",
       "15        6.95                 deviceprotection_yes\n",
       "14        6.79                     onlinebackup_yes\n",
       "16        6.56                      techsupport_yes\n",
       "13        6.28                   onlinesecurity_yes\n",
       "20        2.65                    contract_two_year\n",
       "23        1.99       paymentmethod_electronic_check\n",
       "24        1.90           paymentmethod_mailed_check\n",
       "19        1.63                    contract_one_year\n",
       "22        1.58  paymentmethod_credit_card_automatic\n",
       "6         1.46                          partner_yes\n",
       "7         1.39                       dependents_yes\n",
       "21        1.21                 paperlessbilling_yes\n",
       "1         1.16                        seniorcitizen\n",
       "5         1.00                          gender_male\n",
       "0         0.00                            Intercept"
      ]
     },
     "execution_count": 32,
     "metadata": {},
     "output_type": "execute_result"
    }
   ],
   "source": [
    "# VIF\n",
    "from patsy import dmatrices\n",
    "import statsmodels.api as sm\n",
    "from statsmodels.stats.outliers_influence import variance_inflation_factor\n",
    "\n",
    "coll_feats = '+'.join(df_collinearity.drop(['target'], axis=1).columns)\n",
    "y, X = dmatrices('target ~' + coll_feats, df_collinearity, return_type='dataframe')\n",
    "\n",
    "# For each X, calculate VIF and save in dataframe\n",
    "vif = pd.DataFrame()\n",
    "vif[\"VIF Factor\"] = [variance_inflation_factor(X.values, i) for i in range(X.shape[1])]\n",
    "vif[\"features\"] = X.columns\n",
    "vif.round(2).sort_values(by='VIF Factor', ascending=False)"
   ]
  },
  {
   "cell_type": "code",
   "execution_count": 33,
   "metadata": {},
   "outputs": [],
   "source": [
    "high_vif = vif['VIF Factor'] > 7\n",
    "possible_drop_features['high_vif'] = list(vif[high_vif].features.values)\n",
    "# print(possible_drop_features)\n",
    "# X_train.drop(['target'], axis=1, inplace=True)"
   ]
  },
  {
   "cell_type": "code",
   "execution_count": 34,
   "metadata": {},
   "outputs": [
    {
     "name": "stdout",
     "output_type": "stream",
     "text": [
      "tenure                                 0.068004\n",
      "contract_two_year                      0.062200\n",
      "monthlycharges                         0.049678\n",
      "totalcharges                           0.043226\n",
      "paymentmethod_electronic_check         0.036423\n",
      "internetservice_fiber_optic            0.034869\n",
      "internetservice_no                     0.029511\n",
      "seniorcitizen                          0.023979\n",
      "contract_one_year                      0.019336\n",
      "paperlessbilling_yes                   0.018918\n",
      "paymentmethod_mailed_check             0.017720\n",
      "phoneservice_yes                       0.013967\n",
      "streamingtv_yes                        0.011243\n",
      "partner_yes                            0.011105\n",
      "onlinesecurity_yes                     0.010558\n",
      "paymentmethod_credit_card_automatic    0.005305\n",
      "multiplelines_no_phone_service         0.004542\n",
      "streamingmovies_yes                    0.003632\n",
      "gender_male                            0.003496\n",
      "dependents_yes                         0.003449\n",
      "deviceprotection_yes                   0.002881\n",
      "techsupport_yes                        0.002815\n",
      "onlinebackup_yes                       0.000000\n",
      "multiplelines_yes                      0.000000\n",
      "dtype: float64\n",
      "{'rf_non_importance': ['tenure', 'totalcharges', 'multiplelines_no_phone_service', 'phoneservice_yes'], 'high_vif': ['tenure', 'monthlycharges', 'totalcharges', 'phoneservice_yes', 'multiplelines_no_phone_service', 'multiplelines_yes', 'internetservice_fiber_optic', 'internetservice_no', 'streamingtv_yes', 'streamingmovies_yes'], 'mutual_info': ['dependents_yes', 'deviceprotection_yes', 'techsupport_yes', 'onlinebackup_yes', 'multiplelines_yes']}\n"
     ]
    }
   ],
   "source": [
    "# Calculate the mutual information between the variables and the target.\n",
    "# The smaller the value the less information the feature has about the target\n",
    "from sklearn.feature_selection import mutual_info_classif, mutual_info_regression\n",
    "\n",
    "mi = mutual_info_classif(X_train, y_train)\n",
    "mi = pd.Series(mi)\n",
    "mi.index = features.columns.values\n",
    "mutual_info = mi.sort_values(ascending=False)\n",
    "print(mi.sort_values(ascending=False))\n",
    "possible_drop_features['mutual_info'] = list(mi.sort_values(ascending=False).tail().index)\n",
    "print(possible_drop_features)"
   ]
  },
  {
   "cell_type": "code",
   "execution_count": 35,
   "metadata": {
    "scrolled": true
   },
   "outputs": [],
   "source": [
    "# SelectKBest allows you to determine how many features, and SelectPercentile the features within a certain percentile.\n",
    "from sklearn.feature_selection import SelectKBest, SelectPercentile\n",
    "\n",
    "selK_ = SelectKBest(mutual_info_classif, k=20).fit(X_train, y_train)\n",
    "selP_ = SelectPercentile(mutual_info_regression, percentile=80).fit(X_train, y_train)"
   ]
  },
  {
   "cell_type": "code",
   "execution_count": 36,
   "metadata": {},
   "outputs": [
    {
     "name": "stdout",
     "output_type": "stream",
     "text": [
      "Columns to drop according to SelectKBest ['gender_male', 'phoneservice_yes', 'multiplelines_yes', 'streamingtv_yes']\n"
     ]
    }
   ],
   "source": [
    "# Get SelectKBest and drop the rest\n",
    "drop_features = list(features.drop(features.columns[selK_.get_support()], axis=1).columns)\n",
    "print('Columns to drop according to SelectKBest', drop_features)\n",
    "possible_drop_features['SelectKBest'] = drop_features "
   ]
  },
  {
   "cell_type": "code",
   "execution_count": 37,
   "metadata": {},
   "outputs": [
    {
     "name": "stdout",
     "output_type": "stream",
     "text": [
      "Columns to drop according to SelectPercentile ['multiplelines_no_phone_service', 'onlinebackup_yes', 'deviceprotection_yes', 'streamingmovies_yes', 'paymentmethod_mailed_check']\n"
     ]
    }
   ],
   "source": [
    "# Get SelectPercentile and drop the rest\n",
    "drop_features = list(features.drop(features.columns[selP_.get_support()], axis=1).columns)\n",
    "print('Columns to drop according to SelectPercentile', drop_features)\n",
    "possible_drop_features['SelectPercentile'] = drop_features "
   ]
  },
  {
   "cell_type": "markdown",
   "metadata": {},
   "source": [
    "## Examine Target"
   ]
  },
  {
   "cell_type": "code",
   "execution_count": 38,
   "metadata": {},
   "outputs": [
    {
     "data": {
      "text/plain": [
       "Text(0.5, 1.0, 'Percentage')"
      ]
     },
     "execution_count": 38,
     "metadata": {},
     "output_type": "execute_result"
    },
    {
     "data": {
      "image/png": "[encoded data removed]",
      "text/plain": [
       "<Figure size 432x216 with 2 Axes>"
      ]
     },
     "metadata": {},
     "output_type": "display_data"
    }
   ],
   "source": [
    "# Compare target values\n",
    "fig, axs = plt.subplots(1,2,figsize=(6,3))\n",
    "sns.countplot(target,ax=axs[0])\n",
    "axs[0].set_title('Frequency')\n",
    "target.value_counts().plot(x=None,y=None, kind='pie', ax=axs[1], autopct='%1.2f%%')\n",
    "axs[1].set_title('Percentage')"
   ]
  },
  {
   "cell_type": "markdown",
   "metadata": {},
   "source": [
    "## Summary of Features"
   ]
  },
  {
   "cell_type": "code",
   "execution_count": 39,
   "metadata": {},
   "outputs": [
    {
     "data": {
      "text/plain": [
       "index                             10\n",
       "phoneservice_yes                   3\n",
       "multiplelines_no_phone_service     3\n",
       "multiplelines_yes                  3\n",
       "onlinebackup_yes                   2\n",
       "totalcharges                       2\n",
       "streamingtv_yes                    2\n",
       "streamingmovies_yes                2\n",
       "tenure                             2\n",
       "deviceprotection_yes               2\n",
       "paymentmethod_mailed_check         1\n",
       "techsupport_yes                    1\n",
       "monthlycharges                     1\n",
       "gender_male                        1\n",
       "dependents_yes                     1\n",
       "internetservice_fiber_optic        1\n",
       "internetservice_no                 1\n",
       "dtype: int64"
      ]
     },
     "execution_count": 39,
     "metadata": {},
     "output_type": "execute_result"
    }
   ],
   "source": [
    "# Possible features to drop\n",
    "drop_feat_analysis = pd.DataFrame(dict([ (k, pd.Series(v).sort_values()) for k, v in possible_drop_features.items() ], orient='index'))\n",
    "pd.value_counts(drop_feat_analysis.values.flatten())"
   ]
  },
  {
   "cell_type": "code",
   "execution_count": 40,
   "metadata": {
    "scrolled": true
   },
   "outputs": [
    {
     "name": "stdout",
     "output_type": "stream",
     "text": [
      "13\n",
      "['tenure' 'dependents_yes' 'gender_male' 'multiplelines_no_phone_service'\n",
      " 'totalcharges' 'monthlycharges' 'deviceprotection_yes' 'phoneservice_yes'\n",
      " 'onlinebackup_yes' 'techsupport_yes' 'multiplelines_yes'\n",
      " 'streamingtv_yes' 'streamingmovies_yes']\n",
      "<class 'pandas.core.frame.DataFrame'>\n",
      "Int64Index: 7032 entries, 0 to 7042\n",
      "Data columns (total 13 columns):\n",
      "tenure                            7032 non-null float64\n",
      "dependents_yes                    7032 non-null uint8\n",
      "gender_male                       7032 non-null uint8\n",
      "multiplelines_no_phone_service    7032 non-null uint8\n",
      "totalcharges                      7032 non-null float64\n",
      "monthlycharges                    7032 non-null float64\n",
      "deviceprotection_yes              7032 non-null uint8\n",
      "phoneservice_yes                  7032 non-null uint8\n",
      "onlinebackup_yes                  7032 non-null uint8\n",
      "techsupport_yes                   7032 non-null uint8\n",
      "multiplelines_yes                 7032 non-null uint8\n",
      "streamingtv_yes                   7032 non-null uint8\n",
      "streamingmovies_yes               7032 non-null uint8\n",
      "dtypes: float64(3), uint8(10)\n",
      "memory usage: 608.4 KB\n",
      "None\n"
     ]
    }
   ],
   "source": [
    "unique_drop_feat = pd.unique(drop_feat_analysis.dropna().drop(['orient'], axis=1).values.flatten())\n",
    "print(len(unique_drop_feat))\n",
    "print(unique_drop_feat)\n",
    "print(features[unique_drop_feat].info())"
   ]
  },
  {
   "cell_type": "code",
   "execution_count": 41,
   "metadata": {
    "scrolled": true
   },
   "outputs": [
    {
     "data": {
      "image/png": "[encoded data removed]",
      "text/plain": [
       "<Figure size 1080x864 with 10 Axes>"
      ]
     },
     "metadata": {},
     "output_type": "display_data"
    }
   ],
   "source": [
    "# Show distributions of features to possible drop\n",
    "fig = plt.figure(figsize=(15, 12))\n",
    "i = 0\n",
    "for feat in unique_drop_feat:        \n",
    "    if len(X_train[feat].unique()) < 5:\n",
    "        i = i + 1\n",
    "        plt.subplot(4, 3, i)\n",
    "        f = plt.gca()\n",
    "        f.set_title(feat)\n",
    "        X_train[feat].value_counts().sort_values(ascending=False).plot.bar()\n",
    "           \n",
    "plt.tight_layout()"
   ]
  },
  {
   "cell_type": "code",
   "execution_count": 42,
   "metadata": {
    "scrolled": true
   },
   "outputs": [
    {
     "name": "stdout",
     "output_type": "stream",
     "text": [
      "<class 'pandas.core.frame.DataFrame'>\n",
      "Int64Index: 7032 entries, 0 to 7042\n",
      "Data columns (total 11 columns):\n",
      "seniorcitizen                          7032 non-null int64\n",
      "partner_yes                            7032 non-null uint8\n",
      "internetservice_fiber_optic            7032 non-null uint8\n",
      "internetservice_no                     7032 non-null uint8\n",
      "onlinesecurity_yes                     7032 non-null uint8\n",
      "contract_one_year                      7032 non-null uint8\n",
      "contract_two_year                      7032 non-null uint8\n",
      "paperlessbilling_yes                   7032 non-null uint8\n",
      "paymentmethod_credit_card_automatic    7032 non-null uint8\n",
      "paymentmethod_electronic_check         7032 non-null uint8\n",
      "paymentmethod_mailed_check             7032 non-null uint8\n",
      "dtypes: int64(1), uint8(10)\n",
      "memory usage: 498.5 KB\n"
     ]
    }
   ],
   "source": [
    "# Explore Features not marked for deletion\n",
    "features.drop(unique_drop_feat, axis=1).info()"
   ]
  },
  {
   "cell_type": "code",
   "execution_count": 43,
   "metadata": {},
   "outputs": [
    {
     "name": "stdout",
     "output_type": "stream",
     "text": [
      "['seniorcitizen' 'partner_yes' 'internetservice_fiber_optic'\n",
      " 'internetservice_no' 'onlinesecurity_yes' 'contract_one_year'\n",
      " 'contract_two_year' 'paperlessbilling_yes'\n",
      " 'paymentmethod_credit_card_automatic' 'paymentmethod_electronic_check'\n",
      " 'paymentmethod_mailed_check']\n",
      "<class 'pandas.core.frame.DataFrame'>\n"
     ]
    }
   ],
   "source": [
    "print(features.drop(unique_drop_feat, axis=1).columns.values)\n",
    "print(type(X_train))"
   ]
  },
  {
   "cell_type": "code",
   "execution_count": 44,
   "metadata": {},
   "outputs": [
    {
     "data": {
      "image/png": "[encoded data removed]",
      "text/plain": [
       "<Figure size 1080x864 with 11 Axes>"
      ]
     },
     "metadata": {},
     "output_type": "display_data"
    }
   ],
   "source": [
    "# Show distributions of features not marked for deletion\n",
    "unique_keep_feat = features.drop(unique_drop_feat, axis=1).columns.values\n",
    "fig = plt.figure(figsize=(15, 12))\n",
    "i = 0\n",
    "for feat in unique_keep_feat:        \n",
    "    if len(X_train[feat].unique()) < 5:\n",
    "        i = i + 1\n",
    "        plt.subplot(5, 3, i)\n",
    "        f = plt.gca()\n",
    "        f.set_title(feat)\n",
    "        X_train[feat].value_counts().sort_values(ascending=False).plot.bar()\n",
    "           \n",
    "plt.tight_layout()"
   ]
  },
  {
   "cell_type": "code",
   "execution_count": 45,
   "metadata": {},
   "outputs": [
    {
     "data": {
      "text/plain": [
       "seniorcitizen                          0\n",
       "tenure                                 0\n",
       "monthlycharges                         0\n",
       "totalcharges                           0\n",
       "gender_male                            0\n",
       "partner_yes                            0\n",
       "dependents_yes                         0\n",
       "phoneservice_yes                       0\n",
       "multiplelines_no_phone_service         0\n",
       "multiplelines_yes                      0\n",
       "internetservice_fiber_optic            0\n",
       "internetservice_no                     0\n",
       "onlinesecurity_yes                     0\n",
       "onlinebackup_yes                       0\n",
       "deviceprotection_yes                   0\n",
       "techsupport_yes                        0\n",
       "streamingtv_yes                        0\n",
       "streamingmovies_yes                    0\n",
       "contract_one_year                      0\n",
       "contract_two_year                      0\n",
       "paperlessbilling_yes                   0\n",
       "paymentmethod_credit_card_automatic    0\n",
       "paymentmethod_electronic_check         0\n",
       "paymentmethod_mailed_check             0\n",
       "dtype: int64"
      ]
     },
     "execution_count": 45,
     "metadata": {},
     "output_type": "execute_result"
    }
   ],
   "source": [
    "X_train.isnull().sum()"
   ]
  },
  {
   "cell_type": "markdown",
   "metadata": {},
   "source": [
    "## Models"
   ]
  },
  {
   "cell_type": "markdown",
   "metadata": {},
   "source": [
    "### Balance the Target"
   ]
  },
  {
   "cell_type": "code",
   "execution_count": 46,
   "metadata": {},
   "outputs": [
    {
     "name": "stderr",
     "output_type": "stream",
     "text": [
      "Using TensorFlow backend.\n"
     ]
    },
    {
     "name": "stdout",
     "output_type": "stream",
     "text": [
      "Before SMOTE:\n",
      " 0    3608\n",
      "1    1314\n",
      "Name: churn, dtype: int64\n",
      "After SMOTE:\n",
      " 1    3608\n",
      "0    3608\n",
      "Name: churn, dtype: int64\n"
     ]
    }
   ],
   "source": [
    "from imblearn.over_sampling import SMOTE\n",
    "\n",
    "X_train_smote, y_train_smote = SMOTE().fit_sample(X_train,y_train)\n",
    "X_train_smote_df = pd.DataFrame(X_train_smote, columns=X_train.columns)\n",
    "y_train_smote_df = pd.DataFrame(y_train_smote)\n",
    "\n",
    "X_test_smote, y_test_smote = SMOTE().fit_sample(X_test,y_test)\n",
    "X_test_smote_df = pd.DataFrame(X_test_smote, columns=X_test.columns)\n",
    "y_test_smote_df = pd.DataFrame(y_test_smote)\n",
    "\n",
    "print('Before SMOTE:\\n', y_train.value_counts())\n",
    "print('After SMOTE:\\n', y_train_smote_df['churn'].value_counts())"
   ]
  },
  {
   "cell_type": "markdown",
   "metadata": {},
   "source": [
    "### Logistic Regression"
   ]
  },
  {
   "cell_type": "code",
   "execution_count": 47,
   "metadata": {},
   "outputs": [
    {
     "name": "stdout",
     "output_type": "stream",
     "text": [
      "Accuracy =  0.8122186495176849\n",
      "[[1184  371]\n",
      " [ 213 1342]]\n",
      "              precision    recall  f1-score   support\n",
      "\n",
      "           0       0.85      0.76      0.80      1555\n",
      "           1       0.78      0.86      0.82      1555\n",
      "\n",
      "    accuracy                           0.81      3110\n",
      "   macro avg       0.82      0.81      0.81      3110\n",
      "weighted avg       0.82      0.81      0.81      3110\n",
      "\n"
     ]
    }
   ],
   "source": [
    "from sklearn.linear_model import LogisticRegression\n",
    "from sklearn.metrics import confusion_matrix\n",
    "from sklearn.metrics import classification_report\n",
    "\n",
    "model = LogisticRegression(solver='liblinear')\n",
    "model.fit(X_train_smote, y_train_smote)\n",
    "\n",
    "predictions = model.predict(X_test_smote)\n",
    "score = model.score(X_test_smote, y_test_smote)\n",
    "\n",
    "print('Accuracy = ', str(score))\n",
    "print(confusion_matrix(y_test_smote, predictions))\n",
    "print(classification_report(y_test_smote, predictions))"
   ]
  },
  {
   "cell_type": "markdown",
   "metadata": {},
   "source": [
    "### Feature Importance using Logistic Regression"
   ]
  },
  {
   "cell_type": "code",
   "execution_count": 48,
   "metadata": {
    "scrolled": true
   },
   "outputs": [
    {
     "name": "stdout",
     "output_type": "stream",
     "text": [
      "[0.18023445839502472, 1.8080662141236754, 5.356288181386385, 1.2766485892621149, 0.1274086760867608, 0.1302203243893921, 0.2967630360159817, 0.8151123046648159, 3.4436040980879157, 0.727502406472141, 3.8353151373930077, 3.6349882832796516, 1.5939171912790546, 1.2367430209049384, 1.195336429141869, 1.5346329821840048, 1.5981862696386544, 1.5209746309575825, 1.0435770341992987, 1.8513270620195978, 0.1349793656563408, 0.5682603008868392, 0.10510567307852411, 0.6955103134004652]\n"
     ]
    }
   ],
   "source": [
    "# Let's see what features mattered most i.e. Feature Importance\n",
    "# We sort on the co-efficients with the largest weights as those impact the resulting output the most \n",
    "coef = model.coef_[0]\n",
    "coef = [abs(number) for number in coef]\n",
    "print(coef)"
   ]
  },
  {
   "cell_type": "code",
   "execution_count": 49,
   "metadata": {},
   "outputs": [
    {
     "name": "stdout",
     "output_type": "stream",
     "text": [
      "monthlycharges\n",
      "internetservice_fiber_optic\n",
      "internetservice_no\n",
      "multiplelines_no_phone_service\n",
      "contract_two_year\n",
      "tenure\n",
      "streamingtv_yes\n",
      "onlinesecurity_yes\n",
      "techsupport_yes\n",
      "streamingmovies_yes\n",
      "totalcharges\n",
      "onlinebackup_yes\n",
      "deviceprotection_yes\n",
      "contract_one_year\n",
      "phoneservice_yes\n",
      "multiplelines_yes\n",
      "paymentmethod_mailed_check\n",
      "paymentmethod_credit_card_automatic\n",
      "dependents_yes\n",
      "seniorcitizen\n",
      "paperlessbilling_yes\n",
      "partner_yes\n",
      "gender_male\n",
      "paymentmethod_electronic_check\n"
     ]
    }
   ],
   "source": [
    "# Sorting on Feature Importance\n",
    "sorted_index = sorted(range(len(coef)), key = lambda k: coef[k], reverse = True)\n",
    "for idx in sorted_index:\n",
    "    print(X_train.columns[idx])"
   ]
  },
  {
   "cell_type": "markdown",
   "metadata": {},
   "source": [
    "### Random Forests`"
   ]
  },
  {
   "cell_type": "code",
   "execution_count": 50,
   "metadata": {},
   "outputs": [
    {
     "name": "stdout",
     "output_type": "stream",
     "text": [
      "Accuracy = 0.7556270096463023\n",
      "[[1260  295]\n",
      " [ 465 1090]]\n",
      "              precision    recall  f1-score   support\n",
      "\n",
      "           0       0.73      0.81      0.77      1555\n",
      "           1       0.79      0.70      0.74      1555\n",
      "\n",
      "    accuracy                           0.76      3110\n",
      "   macro avg       0.76      0.76      0.75      3110\n",
      "weighted avg       0.76      0.76      0.75      3110\n",
      "\n"
     ]
    }
   ],
   "source": [
    "# Let's try Random Forests now to see if our resutls get better\n",
    "from sklearn.ensemble import RandomForestClassifier\n",
    "\n",
    "model_rf = RandomForestClassifier()\n",
    "model_rf.fit(X_train_smote, y_train_smote)\n",
    "\n",
    "predictions = model_rf.predict(X_test_smote)\n",
    "score = model_rf.score(X_test_smote, y_test_smote)\n",
    "\n",
    "print('Accuracy = ' + str(score))\n",
    "print(confusion_matrix(y_test_smote, predictions))\n",
    "print(classification_report(y_test_smote, predictions))"
   ]
  },
  {
   "cell_type": "code",
   "execution_count": 51,
   "metadata": {},
   "outputs": [
    {
     "name": "stdout",
     "output_type": "stream",
     "text": [
      "                          feature  importance\n",
      "1                          tenure    0.617383\n",
      "2                    totalcharges    0.363873\n",
      "3  multiplelines_no_phone_service    0.010880\n",
      "0                phoneservice_yes    0.007863\n"
     ]
    }
   ],
   "source": [
    "importance = pd.concat(\n",
    "    [pd.Series(rf_features),\n",
    "     pd.Series(rf.feature_importances_)], axis=1)\n",
    "\n",
    "importance.columns = ['feature', 'importance']\n",
    "print(importance.sort_values(by='importance', ascending=False))"
   ]
  },
  {
   "cell_type": "markdown",
   "metadata": {},
   "source": [
    "### Neural Net"
   ]
  },
  {
   "cell_type": "code",
   "execution_count": 52,
   "metadata": {},
   "outputs": [],
   "source": [
    "# Uncomment next line for Collab\n",
    "# %tensorflow_version 2.x "
   ]
  },
  {
   "cell_type": "code",
   "execution_count": 53,
   "metadata": {},
   "outputs": [
    {
     "name": "stdout",
     "output_type": "stream",
     "text": [
      "2.0.0\n"
     ]
    }
   ],
   "source": [
    "# Check version and GPU\n",
    "import tensorflow as tf\n",
    "print(tf.__version__)\n",
    "# tf.test.gpu_device_name()"
   ]
  },
  {
   "cell_type": "code",
   "execution_count": 54,
   "metadata": {},
   "outputs": [],
   "source": [
    "# Create a simple model\n",
    "import tensorflow.keras\n",
    "from tensorflow.keras.models import Sequential\n",
    "from tensorflow.keras.layers import Dense\n",
    "\n",
    "inputs = X_train_smote.shape[1]\n",
    "layers = inputs * 2\n",
    "model = Sequential()\n",
    "model.add(Dense(layers, kernel_initializer = 'uniform', activation = 'relu', input_dim=inputs))\n",
    "model.add(Dense(inputs, activation='relu'))\n",
    "model.add(Dense(1, activation = 'sigmoid'))\n",
    "opt = tf.keras.optimizers.Adam(0.01)\n",
    "model.compile(optimizer=opt, \n",
    "             loss='binary_crossentropy',\n",
    "             metrics=['accuracy'])"
   ]
  },
  {
   "cell_type": "code",
   "execution_count": 55,
   "metadata": {},
   "outputs": [
    {
     "name": "stdout",
     "output_type": "stream",
     "text": [
      "Model: \"sequential\"\n",
      "_________________________________________________________________\n",
      "Layer (type)                 Output Shape              Param #   \n",
      "=================================================================\n",
      "dense (Dense)                (None, 48)                1200      \n",
      "_________________________________________________________________\n",
      "dense_1 (Dense)              (None, 24)                1176      \n",
      "_________________________________________________________________\n",
      "dense_2 (Dense)              (None, 1)                 25        \n",
      "=================================================================\n",
      "Total params: 2,401\n",
      "Trainable params: 2,401\n",
      "Non-trainable params: 0\n",
      "_________________________________________________________________\n"
     ]
    }
   ],
   "source": [
    "# Display Model Summary and Show Parameters\n",
    "model.summary()"
   ]
  },
  {
   "cell_type": "code",
   "execution_count": 56,
   "metadata": {},
   "outputs": [
    {
     "name": "stdout",
     "output_type": "stream",
     "text": [
      "WARNING:tensorflow:Falling back from v2 loop because of error: Failed to find data adapter that can handle input: <class 'pandas.core.frame.DataFrame'>, <class 'NoneType'>\n",
      "Train on 7216 samples, validate on 3110 samples\n",
      "Epoch 1/100\n",
      "7216/7216 [==============================] - 1s 156us/sample - loss: 0.4708 - accuracy: 0.7740 - val_loss: 0.4400 - val_accuracy: 0.8071\n",
      "Epoch 2/100\n",
      "7216/7216 [==============================] - 0s 56us/sample - loss: 0.4490 - accuracy: 0.7884 - val_loss: 0.4390 - val_accuracy: 0.8003\n",
      "Epoch 3/100\n",
      "7216/7216 [==============================] - 0s 53us/sample - loss: 0.4372 - accuracy: 0.7930 - val_loss: 0.4348 - val_accuracy: 0.8026\n",
      "Epoch 4/100\n",
      "7216/7216 [==============================] - 0s 55us/sample - loss: 0.4336 - accuracy: 0.7953 - val_loss: 0.4412 - val_accuracy: 0.8058\n",
      "Epoch 5/100\n",
      "7216/7216 [==============================] - 0s 54us/sample - loss: 0.4306 - accuracy: 0.7963 - val_loss: 0.4349 - val_accuracy: 0.7981\n",
      "Epoch 6/100\n",
      "7216/7216 [==============================] - 0s 55us/sample - loss: 0.4209 - accuracy: 0.8039 - val_loss: 0.4454 - val_accuracy: 0.7875\n",
      "Epoch 7/100\n",
      "7216/7216 [==============================] - 0s 54us/sample - loss: 0.4178 - accuracy: 0.8057 - val_loss: 0.4350 - val_accuracy: 0.7965\n",
      "Epoch 8/100\n",
      "7216/7216 [==============================] - 0s 57us/sample - loss: 0.4141 - accuracy: 0.8135 - val_loss: 0.4481 - val_accuracy: 0.7932\n",
      "Epoch 9/100\n",
      "7216/7216 [==============================] - 0s 55us/sample - loss: 0.4067 - accuracy: 0.8101 - val_loss: 0.4701 - val_accuracy: 0.7965\n",
      "Epoch 10/100\n",
      "7216/7216 [==============================] - 0s 56us/sample - loss: 0.4019 - accuracy: 0.8113 - val_loss: 0.4482 - val_accuracy: 0.7968\n",
      "Epoch 11/100\n",
      "7216/7216 [==============================] - 0s 53us/sample - loss: 0.3985 - accuracy: 0.8129 - val_loss: 0.4486 - val_accuracy: 0.7997\n",
      "Epoch 12/100\n",
      "7216/7216 [==============================] - 0s 52us/sample - loss: 0.3967 - accuracy: 0.8204 - val_loss: 0.4362 - val_accuracy: 0.7965\n",
      "Epoch 13/100\n",
      "7216/7216 [==============================] - 0s 54us/sample - loss: 0.3876 - accuracy: 0.8241 - val_loss: 0.4668 - val_accuracy: 0.7920\n",
      "Epoch 14/100\n",
      "7216/7216 [==============================] - 0s 55us/sample - loss: 0.3830 - accuracy: 0.8239 - val_loss: 0.4658 - val_accuracy: 0.7862\n",
      "Epoch 15/100\n",
      "7216/7216 [==============================] - 0s 57us/sample - loss: 0.3809 - accuracy: 0.8230 - val_loss: 0.4598 - val_accuracy: 0.7823\n",
      "Epoch 16/100\n",
      "7216/7216 [==============================] - 0s 54us/sample - loss: 0.3795 - accuracy: 0.8277 - val_loss: 0.4663 - val_accuracy: 0.7823\n",
      "Epoch 17/100\n",
      "7216/7216 [==============================] - 0s 52us/sample - loss: 0.3723 - accuracy: 0.8283 - val_loss: 0.4583 - val_accuracy: 0.7868\n",
      "Epoch 18/100\n",
      "7216/7216 [==============================] - 0s 54us/sample - loss: 0.3722 - accuracy: 0.8298 - val_loss: 0.4659 - val_accuracy: 0.7862\n",
      "Epoch 19/100\n",
      "7216/7216 [==============================] - 0s 54us/sample - loss: 0.3687 - accuracy: 0.8329 - val_loss: 0.4648 - val_accuracy: 0.7871\n",
      "Epoch 20/100\n",
      "7216/7216 [==============================] - 0s 52us/sample - loss: 0.3601 - accuracy: 0.8343 - val_loss: 0.4875 - val_accuracy: 0.7797\n",
      "Epoch 21/100\n",
      "7216/7216 [==============================] - 0s 55us/sample - loss: 0.3587 - accuracy: 0.8343 - val_loss: 0.4774 - val_accuracy: 0.7830\n",
      "Epoch 22/100\n",
      "7216/7216 [==============================] - 0s 54us/sample - loss: 0.3519 - accuracy: 0.8388 - val_loss: 0.4853 - val_accuracy: 0.7743\n",
      "Epoch 23/100\n",
      "7216/7216 [==============================] - 0s 55us/sample - loss: 0.3507 - accuracy: 0.8391 - val_loss: 0.4848 - val_accuracy: 0.7842\n",
      "Epoch 24/100\n",
      "7216/7216 [==============================] - 0s 55us/sample - loss: 0.3465 - accuracy: 0.8426 - val_loss: 0.4915 - val_accuracy: 0.7746\n",
      "Epoch 25/100\n",
      "7216/7216 [==============================] - 0s 50us/sample - loss: 0.3441 - accuracy: 0.8458 - val_loss: 0.4947 - val_accuracy: 0.7762\n",
      "Epoch 26/100\n",
      "7216/7216 [==============================] - 0s 53us/sample - loss: 0.3389 - accuracy: 0.8455 - val_loss: 0.5002 - val_accuracy: 0.7884\n",
      "Epoch 27/100\n",
      "7216/7216 [==============================] - 0s 52us/sample - loss: 0.3376 - accuracy: 0.8463 - val_loss: 0.5009 - val_accuracy: 0.7868\n",
      "Epoch 28/100\n",
      "7216/7216 [==============================] - 0s 54us/sample - loss: 0.3320 - accuracy: 0.8524 - val_loss: 0.5097 - val_accuracy: 0.7826\n",
      "Epoch 29/100\n",
      "7216/7216 [==============================] - 0s 55us/sample - loss: 0.3339 - accuracy: 0.8488 - val_loss: 0.5082 - val_accuracy: 0.7871\n",
      "Epoch 30/100\n",
      "7216/7216 [==============================] - 0s 54us/sample - loss: 0.3273 - accuracy: 0.8509 - val_loss: 0.5359 - val_accuracy: 0.7797\n",
      "Epoch 31/100\n",
      "7216/7216 [==============================] - 0s 51us/sample - loss: 0.3240 - accuracy: 0.8530 - val_loss: 0.5511 - val_accuracy: 0.7765\n",
      "Epoch 32/100\n",
      "7216/7216 [==============================] - 0s 53us/sample - loss: 0.3237 - accuracy: 0.8544 - val_loss: 0.5437 - val_accuracy: 0.7846\n",
      "Epoch 33/100\n",
      "7216/7216 [==============================] - 0s 55us/sample - loss: 0.3205 - accuracy: 0.8562 - val_loss: 0.5456 - val_accuracy: 0.7839\n",
      "Epoch 34/100\n",
      "7216/7216 [==============================] - 0s 53us/sample - loss: 0.3141 - accuracy: 0.8584 - val_loss: 0.5595 - val_accuracy: 0.7707\n",
      "Epoch 35/100\n",
      "7216/7216 [==============================] - 0s 53us/sample - loss: 0.3138 - accuracy: 0.8586 - val_loss: 0.5499 - val_accuracy: 0.7723\n",
      "Epoch 36/100\n",
      "7216/7216 [==============================] - 0s 54us/sample - loss: 0.3084 - accuracy: 0.8603 - val_loss: 0.5581 - val_accuracy: 0.7685\n",
      "Epoch 37/100\n",
      "7216/7216 [==============================] - 0s 54us/sample - loss: 0.3078 - accuracy: 0.8588 - val_loss: 0.6224 - val_accuracy: 0.7579\n",
      "Epoch 38/100\n",
      "7216/7216 [==============================] - 0s 56us/sample - loss: 0.3083 - accuracy: 0.8609 - val_loss: 0.5667 - val_accuracy: 0.7823\n",
      "Epoch 39/100\n",
      "7216/7216 [==============================] - 0s 53us/sample - loss: 0.3031 - accuracy: 0.8629 - val_loss: 0.5807 - val_accuracy: 0.7653\n",
      "Epoch 40/100\n",
      "7216/7216 [==============================] - 0s 57us/sample - loss: 0.3044 - accuracy: 0.8639 - val_loss: 0.5976 - val_accuracy: 0.7740\n",
      "Epoch 41/100\n",
      "7216/7216 [==============================] - 0s 55us/sample - loss: 0.3053 - accuracy: 0.8631 - val_loss: 0.5773 - val_accuracy: 0.7859\n",
      "Epoch 42/100\n",
      "7216/7216 [==============================] - 0s 54us/sample - loss: 0.2981 - accuracy: 0.8629 - val_loss: 0.6104 - val_accuracy: 0.7762\n",
      "Epoch 43/100\n",
      "7216/7216 [==============================] - 0s 57us/sample - loss: 0.2897 - accuracy: 0.8724 - val_loss: 0.6609 - val_accuracy: 0.7740\n",
      "Epoch 44/100\n",
      "7216/7216 [==============================] - 0s 53us/sample - loss: 0.2893 - accuracy: 0.8706 - val_loss: 0.6332 - val_accuracy: 0.7749\n",
      "Epoch 45/100\n",
      "7216/7216 [==============================] - 0s 53us/sample - loss: 0.2947 - accuracy: 0.8682 - val_loss: 0.6272 - val_accuracy: 0.7682\n",
      "Epoch 46/100\n",
      "7216/7216 [==============================] - 0s 55us/sample - loss: 0.2904 - accuracy: 0.8674 - val_loss: 0.6423 - val_accuracy: 0.7656\n",
      "Epoch 47/100\n",
      "7216/7216 [==============================] - 0s 56us/sample - loss: 0.2887 - accuracy: 0.8733 - val_loss: 0.6534 - val_accuracy: 0.7743\n",
      "Epoch 48/100\n",
      "7216/7216 [==============================] - 0s 55us/sample - loss: 0.2827 - accuracy: 0.8718 - val_loss: 0.6473 - val_accuracy: 0.7778\n",
      "Epoch 49/100\n",
      "7216/7216 [==============================] - 0s 55us/sample - loss: 0.2791 - accuracy: 0.8762 - val_loss: 0.7101 - val_accuracy: 0.7659\n",
      "Epoch 50/100\n",
      "7216/7216 [==============================] - 0s 59us/sample - loss: 0.2849 - accuracy: 0.8681 - val_loss: 0.7076 - val_accuracy: 0.7643\n",
      "Epoch 51/100\n",
      "7216/7216 [==============================] - 0s 55us/sample - loss: 0.2831 - accuracy: 0.8731 - val_loss: 0.6670 - val_accuracy: 0.7685\n",
      "Epoch 52/100\n",
      "7216/7216 [==============================] - 0s 53us/sample - loss: 0.2761 - accuracy: 0.8782 - val_loss: 0.6756 - val_accuracy: 0.7720\n",
      "Epoch 53/100\n",
      "7216/7216 [==============================] - 0s 51us/sample - loss: 0.2748 - accuracy: 0.8728 - val_loss: 0.6804 - val_accuracy: 0.7624\n",
      "Epoch 54/100\n",
      "7216/7216 [==============================] - 0s 55us/sample - loss: 0.2764 - accuracy: 0.8758 - val_loss: 0.6544 - val_accuracy: 0.7746\n",
      "Epoch 55/100\n",
      "7216/7216 [==============================] - 0s 54us/sample - loss: 0.2736 - accuracy: 0.8775 - val_loss: 0.6880 - val_accuracy: 0.7685\n",
      "Epoch 56/100\n",
      "7216/7216 [==============================] - 0s 53us/sample - loss: 0.2718 - accuracy: 0.8787 - val_loss: 0.6852 - val_accuracy: 0.7608\n",
      "Epoch 57/100\n",
      "7216/7216 [==============================] - 0s 55us/sample - loss: 0.2678 - accuracy: 0.8769 - val_loss: 0.7311 - val_accuracy: 0.7572\n",
      "Epoch 58/100\n",
      "7216/7216 [==============================] - 0s 53us/sample - loss: 0.2708 - accuracy: 0.8794 - val_loss: 0.7177 - val_accuracy: 0.7727\n",
      "Epoch 59/100\n",
      "7216/7216 [==============================] - 0s 53us/sample - loss: 0.2634 - accuracy: 0.8832 - val_loss: 0.6886 - val_accuracy: 0.7695\n",
      "Epoch 60/100\n",
      "7216/7216 [==============================] - 0s 54us/sample - loss: 0.2617 - accuracy: 0.8847 - val_loss: 0.7151 - val_accuracy: 0.7733\n",
      "Epoch 61/100\n",
      "7216/7216 [==============================] - 0s 53us/sample - loss: 0.2675 - accuracy: 0.8817 - val_loss: 0.7173 - val_accuracy: 0.7614\n",
      "Epoch 62/100\n",
      "7216/7216 [==============================] - 0s 54us/sample - loss: 0.2718 - accuracy: 0.8761 - val_loss: 0.7235 - val_accuracy: 0.7653\n",
      "Epoch 63/100\n",
      "7216/7216 [==============================] - 0s 55us/sample - loss: 0.2605 - accuracy: 0.8865 - val_loss: 0.7353 - val_accuracy: 0.7640\n",
      "Epoch 64/100\n",
      "7216/7216 [==============================] - 0s 54us/sample - loss: 0.2717 - accuracy: 0.8794 - val_loss: 0.7617 - val_accuracy: 0.7518\n",
      "Epoch 65/100\n",
      "7216/7216 [==============================] - 0s 49us/sample - loss: 0.2660 - accuracy: 0.8803 - val_loss: 0.7442 - val_accuracy: 0.7717\n",
      "Epoch 66/100\n",
      "7216/7216 [==============================] - 0s 54us/sample - loss: 0.2583 - accuracy: 0.8875 - val_loss: 0.7495 - val_accuracy: 0.7637\n",
      "Epoch 67/100\n",
      "7216/7216 [==============================] - 0s 56us/sample - loss: 0.2566 - accuracy: 0.8855 - val_loss: 0.7742 - val_accuracy: 0.7637\n",
      "Epoch 68/100\n",
      "7216/7216 [==============================] - 0s 58us/sample - loss: 0.2558 - accuracy: 0.8877 - val_loss: 0.7709 - val_accuracy: 0.7714\n",
      "Epoch 69/100\n",
      "7216/7216 [==============================] - 0s 53us/sample - loss: 0.2549 - accuracy: 0.8862 - val_loss: 0.7635 - val_accuracy: 0.7672\n",
      "Epoch 70/100\n",
      "7216/7216 [==============================] - 0s 56us/sample - loss: 0.2546 - accuracy: 0.8876 - val_loss: 0.8569 - val_accuracy: 0.7576\n",
      "Epoch 71/100\n",
      "7216/7216 [==============================] - 0s 57us/sample - loss: 0.2515 - accuracy: 0.8858 - val_loss: 0.8019 - val_accuracy: 0.7752\n",
      "Epoch 72/100\n",
      "7216/7216 [==============================] - 0s 54us/sample - loss: 0.2641 - accuracy: 0.8854 - val_loss: 0.7655 - val_accuracy: 0.7675\n",
      "Epoch 73/100\n",
      "7216/7216 [==============================] - 0s 56us/sample - loss: 0.2535 - accuracy: 0.8864 - val_loss: 0.7731 - val_accuracy: 0.7678\n",
      "Epoch 74/100\n",
      "7216/7216 [==============================] - 0s 57us/sample - loss: 0.2497 - accuracy: 0.8884 - val_loss: 0.8268 - val_accuracy: 0.7650\n",
      "Epoch 75/100\n",
      "7216/7216 [==============================] - 0s 54us/sample - loss: 0.2514 - accuracy: 0.8904 - val_loss: 0.7861 - val_accuracy: 0.7675\n",
      "Epoch 76/100\n",
      "7216/7216 [==============================] - 0s 56us/sample - loss: 0.2542 - accuracy: 0.8879 - val_loss: 0.7661 - val_accuracy: 0.7701\n",
      "Epoch 77/100\n",
      "7216/7216 [==============================] - 0s 55us/sample - loss: 0.2461 - accuracy: 0.8919 - val_loss: 0.9318 - val_accuracy: 0.7617\n",
      "Epoch 78/100\n",
      "7216/7216 [==============================] - 0s 50us/sample - loss: 0.2528 - accuracy: 0.8880 - val_loss: 0.8342 - val_accuracy: 0.7624\n",
      "Epoch 79/100\n",
      "7216/7216 [==============================] - 0s 54us/sample - loss: 0.2438 - accuracy: 0.8919 - val_loss: 0.8461 - val_accuracy: 0.7630\n",
      "Epoch 80/100\n",
      "7216/7216 [==============================] - 0s 55us/sample - loss: 0.2494 - accuracy: 0.8915 - val_loss: 0.8407 - val_accuracy: 0.7585\n",
      "Epoch 81/100\n",
      "7216/7216 [==============================] - 0s 55us/sample - loss: 0.2533 - accuracy: 0.8887 - val_loss: 0.7951 - val_accuracy: 0.7730\n",
      "Epoch 82/100\n",
      "7216/7216 [==============================] - 0s 54us/sample - loss: 0.2392 - accuracy: 0.8923 - val_loss: 0.7948 - val_accuracy: 0.7646\n",
      "Epoch 83/100\n",
      "7216/7216 [==============================] - 0s 55us/sample - loss: 0.2340 - accuracy: 0.8963 - val_loss: 0.8968 - val_accuracy: 0.7637\n",
      "Epoch 84/100\n",
      "7216/7216 [==============================] - 0s 52us/sample - loss: 0.2466 - accuracy: 0.8922 - val_loss: 0.8281 - val_accuracy: 0.7688\n",
      "Epoch 85/100\n",
      "7216/7216 [==============================] - 0s 53us/sample - loss: 0.2439 - accuracy: 0.8947 - val_loss: 0.9477 - val_accuracy: 0.7550\n",
      "Epoch 86/100\n",
      "7216/7216 [==============================] - 0s 56us/sample - loss: 0.2403 - accuracy: 0.8959 - val_loss: 0.8969 - val_accuracy: 0.7627\n",
      "Epoch 87/100\n",
      "7216/7216 [==============================] - 0s 55us/sample - loss: 0.2401 - accuracy: 0.8963 - val_loss: 0.8383 - val_accuracy: 0.7730\n",
      "Epoch 88/100\n",
      "7216/7216 [==============================] - 0s 53us/sample - loss: 0.2393 - accuracy: 0.8929 - val_loss: 0.8491 - val_accuracy: 0.7659\n",
      "Epoch 89/100\n",
      "7216/7216 [==============================] - 0s 57us/sample - loss: 0.2362 - accuracy: 0.8962 - val_loss: 0.8520 - val_accuracy: 0.7730\n",
      "Epoch 90/100\n",
      "7216/7216 [==============================] - 0s 54us/sample - loss: 0.2389 - accuracy: 0.8969 - val_loss: 0.9023 - val_accuracy: 0.7582\n",
      "Epoch 91/100\n",
      "7216/7216 [==============================] - 0s 56us/sample - loss: 0.2313 - accuracy: 0.8972 - val_loss: 0.9147 - val_accuracy: 0.7611\n",
      "Epoch 92/100\n",
      "7216/7216 [==============================] - 0s 54us/sample - loss: 0.2425 - accuracy: 0.8930 - val_loss: 0.8345 - val_accuracy: 0.7707\n",
      "Epoch 93/100\n",
      "7216/7216 [==============================] - 0s 53us/sample - loss: 0.2476 - accuracy: 0.8930 - val_loss: 0.8431 - val_accuracy: 0.7653\n",
      "Epoch 94/100\n",
      "7216/7216 [==============================] - 0s 56us/sample - loss: 0.2380 - accuracy: 0.8952 - val_loss: 0.8827 - val_accuracy: 0.7605\n",
      "Epoch 95/100\n",
      "7216/7216 [==============================] - 0s 54us/sample - loss: 0.2352 - accuracy: 0.8976 - val_loss: 0.9083 - val_accuracy: 0.7614\n",
      "Epoch 96/100\n",
      "7216/7216 [==============================] - 0s 58us/sample - loss: 0.2325 - accuracy: 0.8983 - val_loss: 0.8783 - val_accuracy: 0.7633\n",
      "Epoch 97/100\n",
      "7216/7216 [==============================] - 0s 56us/sample - loss: 0.2342 - accuracy: 0.8959 - val_loss: 0.8569 - val_accuracy: 0.7627\n",
      "Epoch 98/100\n",
      "7216/7216 [==============================] - 0s 50us/sample - loss: 0.2373 - accuracy: 0.8943 - val_loss: 0.8973 - val_accuracy: 0.7669\n",
      "Epoch 99/100\n",
      "7216/7216 [==============================] - 0s 57us/sample - loss: 0.2311 - accuracy: 0.8966 - val_loss: 0.8887 - val_accuracy: 0.7582\n",
      "Epoch 100/100\n",
      "7216/7216 [==============================] - 0s 54us/sample - loss: 0.2349 - accuracy: 0.8966 - val_loss: 0.9228 - val_accuracy: 0.7598\n",
      "WARNING:tensorflow:Falling back from v2 loop because of error: Failed to find data adapter that can handle input: <class 'pandas.core.frame.DataFrame'>, <class 'NoneType'>\n",
      "Test loss: 0.9228344053700805\n",
      "Test accuracy: 0.75980705\n"
     ]
    }
   ],
   "source": [
    "# Start Training Our Classifier \n",
    "\n",
    "# batch_size = 64\n",
    "# epochs = 25\n",
    "epochs = 100\n",
    "history = model.fit(X_train_smote,\n",
    "                    y_train_smote,\n",
    "#                     batch_size = batch_size,\n",
    "                    epochs = epochs,\n",
    "                    verbose = 1,\n",
    "                    validation_data = (X_test_smote, y_test_smote))\n",
    "\n",
    "score = model.evaluate(X_test_smote, y_test_smote, verbose=0)\n",
    "print('Test loss:', score[0])\n",
    "print('Test accuracy:', score[1])"
   ]
  },
  {
   "cell_type": "code",
   "execution_count": 57,
   "metadata": {},
   "outputs": [
    {
     "name": "stdout",
     "output_type": "stream",
     "text": [
      "WARNING:tensorflow:Falling back from v2 loop because of error: Failed to find data adapter that can handle input: <class 'pandas.core.frame.DataFrame'>, <class 'NoneType'>\n",
      "[[1208  347]\n",
      " [ 400 1155]]\n",
      "              precision    recall  f1-score   support\n",
      "\n",
      "           0       0.75      0.78      0.76      1555\n",
      "           1       0.77      0.74      0.76      1555\n",
      "\n",
      "    accuracy                           0.76      3110\n",
      "   macro avg       0.76      0.76      0.76      3110\n",
      "weighted avg       0.76      0.76      0.76      3110\n",
      "\n"
     ]
    }
   ],
   "source": [
    "predictions = model.predict(X_test_smote)\n",
    "predictions = (predictions > 0.5)\n",
    "\n",
    "print(confusion_matrix(y_test_smote, predictions))\n",
    "print(classification_report(y_test_smote, predictions))"
   ]
  },
  {
   "cell_type": "code",
   "execution_count": 58,
   "metadata": {},
   "outputs": [
    {
     "data": {
      "text/plain": [
       "<matplotlib.legend.Legend at 0x7f695c4e51d0>"
      ]
     },
     "execution_count": 58,
     "metadata": {},
     "output_type": "execute_result"
    },
    {
     "data": {
      "image/png": "[encoded data removed]",
      "text/plain": [
       "<Figure size 432x288 with 1 Axes>"
      ]
     },
     "metadata": {},
     "output_type": "display_data"
    }
   ],
   "source": [
    "# Plot history\n",
    "plt.plot(history.history['loss'], label='loss')\n",
    "plt.plot(history.history['val_loss'], label='val_loss')\n",
    "plt.legend()"
   ]
  },
  {
   "cell_type": "markdown",
   "metadata": {},
   "source": [
    "### Go Deeper with Checkpoints and Early Stopping"
   ]
  },
  {
   "cell_type": "code",
   "execution_count": 59,
   "metadata": {},
   "outputs": [
    {
     "name": "stdout",
     "output_type": "stream",
     "text": [
      "Model: \"sequential_1\"\n",
      "_________________________________________________________________\n",
      "Layer (type)                 Output Shape              Param #   \n",
      "=================================================================\n",
      "dense_3 (Dense)              (None, 2000)              50000     \n",
      "_________________________________________________________________\n",
      "dropout (Dropout)            (None, 2000)              0         \n",
      "_________________________________________________________________\n",
      "dense_4 (Dense)              (None, 1000)              2001000   \n",
      "_________________________________________________________________\n",
      "dropout_1 (Dropout)          (None, 1000)              0         \n",
      "_________________________________________________________________\n",
      "dense_5 (Dense)              (None, 500)               500500    \n",
      "_________________________________________________________________\n",
      "dropout_2 (Dropout)          (None, 500)               0         \n",
      "_________________________________________________________________\n",
      "dense_6 (Dense)              (None, 1)                 501       \n",
      "=================================================================\n",
      "Total params: 2,552,001\n",
      "Trainable params: 2,552,001\n",
      "Non-trainable params: 0\n",
      "_________________________________________________________________\n"
     ]
    }
   ],
   "source": [
    "from tensorflow.keras.regularizers import l2\n",
    "from tensorflow.keras.layers import Dropout\n",
    "from tensorflow.keras.callbacks import ModelCheckpoint\n",
    "\n",
    "model2 = Sequential()\n",
    "model2.add(Dense(2000, activation='relu', input_dim=inputs, kernel_regularizer=l2(0.01)))\n",
    "model2.add(Dropout(0.3, noise_shape=None, seed=None))\n",
    "model2.add(Dense(1000, activation='relu', input_dim=18, kernel_regularizer=l2(0.01)))\n",
    "model2.add(Dropout(0.3, noise_shape=None, seed=None))\n",
    "model2.add(Dense(500, activation = 'relu', kernel_regularizer=l2(0.01)))\n",
    "model2.add(Dropout(0.3, noise_shape=None, seed=None))\n",
    "model2.add(Dense(1, activation='sigmoid'))\n",
    "model2.summary()\n",
    "\n",
    "# Create checkpoint\n",
    "checkpoint = ModelCheckpoint('deep_model_checkpoint.h5',\n",
    "                             monitor='val_loss',\n",
    "                             mode='min',\n",
    "                             save_best_only = True,\n",
    "                             verbose=1)"
   ]
  },
  {
   "cell_type": "code",
   "execution_count": 60,
   "metadata": {},
   "outputs": [],
   "source": [
    "opt = tf.keras.optimizers.Adam(0.01)\n",
    "model2.compile(optimizer=opt,\n",
    "             loss='binary_crossentropy',\n",
    "             metrics=['accuracy'])"
   ]
  },
  {
   "cell_type": "code",
   "execution_count": 61,
   "metadata": {},
   "outputs": [],
   "source": [
    "# Define earling stoppping criteria\n",
    "from tensorflow.keras.callbacks import EarlyStopping \n",
    "\n",
    "earlystop = EarlyStopping(monitor = 'val_loss', \n",
    "                          min_delta = 0, \n",
    "                          patience = 5,  \n",
    "                          verbose = 1,\n",
    "                          restore_best_weights = True)\n",
    "\n",
    "# Define callback list\n",
    "callbacks = [earlystop, checkpoint]"
   ]
  },
  {
   "cell_type": "code",
   "execution_count": null,
   "metadata": {},
   "outputs": [
    {
     "name": "stdout",
     "output_type": "stream",
     "text": [
      "WARNING:tensorflow:Falling back from v2 loop because of error: Failed to find data adapter that can handle input: <class 'pandas.core.frame.DataFrame'>, <class 'NoneType'>\n",
      "Train on 7216 samples, validate on 3110 samples\n",
      "Epoch 1/25\n",
      "2112/7216 [=======>......................] - ETA: 3s - loss: 3.2204 - accuracy: 0.7386"
     ]
    }
   ],
   "source": [
    "batch_size = 64\n",
    "epochs = 25\n",
    "\n",
    "history = model2.fit(X_train_smote,\n",
    "                    y_train_smote,\n",
    "                    batch_size = batch_size,\n",
    "                    epochs = epochs,\n",
    "                    verbose = 1,\n",
    "                    callbacks = callbacks,\n",
    "                    validation_data = (X_test_smote, y_test_smote))\n",
    "\n",
    "score = model2.evaluate(X_test_smote, y_test_smote, verbose=0)\n",
    "print('Test loss:', score[0])\n",
    "print('Test accuracy:', score[1])"
   ]
  }
 ],
 "metadata": {
  "kernelspec": {
   "display_name": "Python 3",
   "language": "python",
   "name": "python3"
  },
  "language_info": {
   "codemirror_mode": {
    "name": "ipython",
    "version": 3
   },
   "file_extension": ".py",
   "mimetype": "text/x-python",
   "name": "python",
   "nbconvert_exporter": "python",
   "pygments_lexer": "ipython3",
   "version": "3.6.7"
  }
 },
 "nbformat": 4,
 "nbformat_minor": 4
}
