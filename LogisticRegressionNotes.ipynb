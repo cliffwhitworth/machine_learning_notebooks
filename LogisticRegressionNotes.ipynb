{
 "cells": [
  {
   "cell_type": "code",
   "execution_count": 1,
   "metadata": {},
   "outputs": [],
   "source": [
    "import pandas as pd\n",
    "import numpy as np\n",
    "\n",
    "from sklearn.datasets import make_classification\n",
    "from sklearn.linear_model import LogisticRegression, LinearRegression\n",
    "from sklearn.metrics import accuracy_score, confusion_matrix, classification_report, roc_auc_score, roc_curve\n",
    "\n",
    "import matplotlib.pyplot as plt"
   ]
  },
  {
   "cell_type": "code",
   "execution_count": 2,
   "metadata": {},
   "outputs": [
    {
     "name": "stdout",
     "output_type": "stream",
     "text": [
      "Dataframe Head\n",
      "    Feature  Class\n",
      "0  0.264172      1\n",
      "1  0.687049      1\n",
      "2 -0.245641      0\n",
      "3 -1.238884      0\n",
      "4  1.018866      1\n",
      "\n"
     ]
    }
   ],
   "source": [
    "# Generate a random n-class classification problem\n",
    "n = 1000\n",
    "X, y = make_classification(n_samples=n, n_features=1,  \n",
    "                                             n_informative=1, n_redundant=0, n_clusters_per_class=1)\n",
    "\n",
    "# Create a dataframe of the feature and class\n",
    "df = pd.DataFrame({'Feature': X.flatten(), 'Class': y.flatten()})\n",
    "print('Dataframe Head')\n",
    "print(df.head())\n",
    "print()"
   ]
  },
  {
   "cell_type": "code",
   "execution_count": 3,
   "metadata": {},
   "outputs": [
    {
     "name": "stdout",
     "output_type": "stream",
     "text": [
      "Model Summary\n",
      "Optimization terminated successfully.\n",
      "         Current function value: 0.140716\n",
      "         Iterations 9\n",
      "                        Results: Logit\n",
      "===============================================================\n",
      "Model:              Logit            Pseudo R-squared: 0.797   \n",
      "Dependent Variable: Class            AIC:              283.4315\n",
      "Date:               2018-11-05 19:50 BIC:              288.3393\n",
      "No. Observations:   1000             Log-Likelihood:   -140.72 \n",
      "Df Model:           0                LL-Null:          -693.14 \n",
      "Df Residuals:       999              LLR p-value:      nan     \n",
      "Converged:          1.0000           Scale:            1.0000  \n",
      "No. Iterations:     9.0000                                     \n",
      "-----------------------------------------------------------------\n",
      "           Coef.    Std.Err.      z      P>|z|    [0.025   0.975]\n",
      "-----------------------------------------------------------------\n",
      "Feature    4.6812     0.3426   13.6643   0.0000   4.0097   5.3527\n",
      "===============================================================\n",
      "\n"
     ]
    }
   ],
   "source": [
    "print('Model Summary')\n",
    "import statsmodels.api as sm\n",
    "logit=sm.Logit(df['Class'], df['Feature'])\n",
    "result=logit.fit()\n",
    "print(result.summary2())"
   ]
  },
  {
   "cell_type": "code",
   "execution_count": 4,
   "metadata": {},
   "outputs": [
    {
     "name": "stdout",
     "output_type": "stream",
     "text": [
      "Iterations:  [11]\n",
      "Intercept:  [ 0.43325615]\n",
      "Coefficient:  [[ 4.83953473]]\n",
      "\n",
      "Accuracy Score\n",
      "0.962\n",
      "\n",
      "Confustion matrix\n",
      "[[484  18]\n",
      " [ 20 478]]\n",
      "tn: 484 fp: 18 fn: 20 tp: 478\n",
      "\n",
      "Classification Report\n",
      "             precision    recall  f1-score   support\n",
      "\n",
      "          0       0.96      0.96      0.96       502\n",
      "          1       0.96      0.96      0.96       498\n",
      "\n",
      "avg / total       0.96      0.96      0.96      1000\n",
      "\n",
      "\n",
      "Misclassified count and location\n",
      "38 [ 17  43  56  68  77 127 140 166 205 221 277 309 361 378 382 408 409 441\n",
      " 470 475 505 524 559 568 601 626 634 638 648 713 716 891 908 942 944 965\n",
      " 975 990]\n",
      "\n",
      "      Feature  Class\n",
      "17  -0.469784      1\n",
      "43  -0.060179      0\n",
      "56  -0.513795      1\n",
      "68  -0.142280      1\n",
      "77  -0.856250      1\n",
      "127  0.328579      0\n",
      "140 -0.333230      1\n",
      "166 -0.124978      1\n",
      "205  0.056249      0\n",
      "221 -0.036837      0\n",
      "277 -0.302953      1\n",
      "309 -0.016942      0\n",
      "361  0.041838      0\n",
      "378 -0.513820      1\n",
      "382  0.039817      0\n",
      "408 -1.003039      1\n",
      "409  0.136266      0\n",
      "441 -0.277706      1\n",
      "470  0.329690      0\n",
      "475 -2.724432      1\n",
      "505  0.024610      0\n",
      "524 -0.531346      1\n",
      "559  0.218650      0\n",
      "568  2.091418      0\n",
      "601 -0.435105      1\n",
      "626 -0.121924      1\n",
      "634 -0.016205      0\n",
      "638 -0.260637      1\n",
      "648 -0.283617      1\n",
      "713 -0.988980      1\n",
      "716 -0.111749      1\n",
      "891  0.713639      0\n",
      "908 -0.248887      1\n",
      "942 -0.510072      1\n",
      "944 -0.042351      0\n",
      "965  1.244482      0\n",
      "975  0.211879      0\n",
      "990 -0.048507      0\n"
     ]
    }
   ],
   "source": [
    "nX = df['Feature'].values.reshape(-1,1)\n",
    "ny = df['Class'].values\n",
    "model = LogisticRegression(C=1e9, solver='lbfgs')\n",
    "model.fit(nX, ny)\n",
    "predictions = model.predict(nX)\n",
    "\n",
    "print('Iterations: ', model.n_iter_)\n",
    "print('Intercept: ', model.intercept_)\n",
    "print('Coefficient: ', model.coef_)\n",
    "print()\n",
    "\n",
    "print('Accuracy Score')\n",
    "print(accuracy_score(ny, predictions))\n",
    "print()\n",
    "\n",
    "print('Confustion matrix')\n",
    "print(confusion_matrix(ny,predictions))\n",
    "tn, fp, fn, tp = confusion_matrix(ny,predictions).ravel()\n",
    "print('tn: {} fp: {} fn: {} tp: {}'.format(tn, fp, fn, tp))\n",
    "print()\n",
    "\n",
    "print('Classification Report')\n",
    "print(classification_report(ny,predictions))\n",
    "print()\n",
    "\n",
    "print('Misclassified count and location')\n",
    "misclassified = np.flatnonzero(ny != predictions)\n",
    "print(len(misclassified), misclassified)\n",
    "print()\n",
    "print(df.loc[misclassified,:])"
   ]
  },
  {
   "cell_type": "code",
   "execution_count": 5,
   "metadata": {},
   "outputs": [
    {
     "name": "stdout",
     "output_type": "stream",
     "text": [
      "Sklearn coef_:  4.83953473044\n",
      "\n",
      "Optimization terminated successfully.\n",
      "         Current function value: 0.140716\n",
      "         Iterations 9\n",
      "Feature    4.681199\n",
      "dtype: float64\n"
     ]
    }
   ],
   "source": [
    "# https://stats.stackexchange.com/questions/203740/logistic-regression-scikit-learn-vs-statsmodels\n",
    "# sklearn\n",
    "mdl = LogisticRegression(C=1e9, solver='lbfgs')\n",
    "sklearn = mdl.fit(nX, ny)\n",
    "print('Sklearn coef_: ', sklearn.coef_.flatten()[0])\n",
    "print()\n",
    "\n",
    "# sm\n",
    "statsmodel = sm.Logit(df['Class'], df['Feature'])\n",
    "print(statsmodel.fit().params)"
   ]
  },
  {
   "cell_type": "code",
   "execution_count": 6,
   "metadata": {},
   "outputs": [
    {
     "data": {
      "image/png": "[encoded data removed]",
      "text/plain": [
       "<Figure size 432x288 with 1 Axes>"
      ]
     },
     "metadata": {},
     "output_type": "display_data"
    }
   ],
   "source": [
    "# https://towardsdatascience.com/building-a-logistic-regression-in-python-step-by-step-becd4d56c9c8\n",
    "logit_roc_auc = roc_auc_score(ny, model.predict(nX))\n",
    "fpr, tpr, thresholds = roc_curve(ny, model.predict_proba(nX)[:,1])\n",
    "plt.figure()\n",
    "plt.plot(fpr, tpr, label='Logistic Regression (area = %0.2f)' % logit_roc_auc)\n",
    "plt.plot([0, 1], [0, 1],'r--')\n",
    "plt.xlim([0.0, 1.0])\n",
    "plt.ylim([0.0, 1.05])\n",
    "plt.xlabel('False Positive Rate')\n",
    "plt.ylabel('True Positive Rate')\n",
    "plt.title('Receiver operating characteristic')\n",
    "plt.legend(loc=\"lower right\")\n",
    "plt.show()"
   ]
  },
  {
   "cell_type": "code",
   "execution_count": 7,
   "metadata": {},
   "outputs": [
    {
     "data": {
      "image/png": "[encoded data removed]",
      "text/plain": [
       "<Figure size 864x288 with 1 Axes>"
      ]
     },
     "metadata": {},
     "output_type": "display_data"
    }
   ],
   "source": [
    "# Code source: Gael Varoquaux\n",
    "# License: BSD 3 clause\n",
    "\n",
    "# Plot the logistic and linear models\n",
    "plt.figure(figsize=(12, 4))\n",
    "plt.clf()\n",
    "plt.scatter(df['Feature'], df['Class'], color='black', s=2)\n",
    "X_line = np.linspace(-3, 3, 100)\n",
    "\n",
    "def model_func(x):\n",
    "    return 1 / (1 + np.exp(-x))\n",
    "\n",
    "loss = model_func(X_line * model.coef_ + model.intercept_).ravel()\n",
    "plt.plot(X_line, loss, color='red', linewidth=1)\n",
    "\n",
    "ols = LinearRegression()\n",
    "ols.fit(nX, df['Class'])\n",
    "plt.plot(X_line, ols.coef_ * X_line + ols.intercept_, linewidth=1)\n",
    "plt.axhline(.5, color='.5')\n",
    "\n",
    "plt.ylabel('Class')\n",
    "plt.xlabel('Feature')\n",
    "plt.xticks(range(-3, 3))\n",
    "plt.yticks([0, 0.5, 1])\n",
    "plt.legend(('Logistic Regression Model', 'Linear Regression Model'), loc=\"lower right\")\n",
    "plt.tight_layout()\n",
    "plt.show()"
   ]
  }
 ],
 "metadata": {
  "kernelspec": {
   "display_name": "Python 3",
   "language": "python",
   "name": "python3"
  },
  "language_info": {
   "codemirror_mode": {
    "name": "ipython",
    "version": 3
   },
   "file_extension": ".py",
   "mimetype": "text/x-python",
   "name": "python",
   "nbconvert_exporter": "python",
   "pygments_lexer": "ipython3",
   "version": "3.6.3"
  }
 },
 "nbformat": 4,
 "nbformat_minor": 2
}
