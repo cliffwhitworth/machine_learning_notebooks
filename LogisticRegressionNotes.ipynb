{
 "cells": [
  {
   "cell_type": "code",
   "execution_count": 1,
   "metadata": {},
   "outputs": [],
   "source": [
    "import pandas as pd\n",
    "import numpy as np\n",
    "\n",
    "from sklearn.datasets import make_classification\n",
    "from sklearn.linear_model import LogisticRegression, LinearRegression\n",
    "from sklearn.model_selection import train_test_split\n",
    "from sklearn.metrics import accuracy_score, confusion_matrix, classification_report, roc_auc_score, roc_curve\n",
    "\n",
    "import matplotlib.pyplot as plt"
   ]
  },
  {
   "cell_type": "code",
   "execution_count": 2,
   "metadata": {},
   "outputs": [
    {
     "name": "stdout",
     "output_type": "stream",
     "text": [
      "Dataframe Head\n",
      "    Feature  Class\n",
      "0  0.512322      1\n",
      "1 -0.470636      0\n",
      "2 -0.526712      1\n",
      "3 -1.439258      0\n",
      "4 -0.465080      1\n",
      "\n"
     ]
    }
   ],
   "source": [
    "# Generate a random n-class classification problem\n",
    "n = 10000\n",
    "X, y = make_classification(n_samples=n, n_features=1,  \n",
    "                                             n_informative=1, n_redundant=0, n_clusters_per_class=1)\n",
    "\n",
    "# Create a dataframe of the feature and class\n",
    "df = pd.DataFrame({'Feature': X.flatten(), 'Class': y.flatten()})\n",
    "print('Dataframe Head')\n",
    "print(df.head())\n",
    "print()"
   ]
  },
  {
   "cell_type": "code",
   "execution_count": 3,
   "metadata": {},
   "outputs": [
    {
     "name": "stdout",
     "output_type": "stream",
     "text": [
      "Model Summary\n",
      "Optimization terminated successfully.\n",
      "         Current function value: 0.324145\n",
      "         Iterations 7\n",
      "                         Results: Logit\n",
      "================================================================\n",
      "Model:              Logit            Pseudo R-squared: 0.532    \n",
      "Dependent Variable: Class            AIC:              6484.8973\n",
      "Date:               2018-11-06 14:21 BIC:              6492.1077\n",
      "No. Observations:   10000            Log-Likelihood:   -3241.4  \n",
      "Df Model:           0                LL-Null:          -6931.4  \n",
      "Df Residuals:       9999             LLR p-value:      nan      \n",
      "Converged:          1.0000           Scale:            1.0000   \n",
      "No. Iterations:     7.0000                                      \n",
      "------------------------------------------------------------------\n",
      "            Coef.    Std.Err.      z      P>|z|    [0.025   0.975]\n",
      "------------------------------------------------------------------\n",
      "Feature     2.2992     0.0446   51.5473   0.0000   2.2118   2.3866\n",
      "================================================================\n",
      "\n"
     ]
    }
   ],
   "source": [
    "# http://blog.yhat.com/posts/logistic-regression-and-python.html\n",
    "print('Model Summary')\n",
    "import statsmodels.api as sm\n",
    "logit=sm.Logit(df['Class'], df['Feature'])\n",
    "result=logit.fit()\n",
    "print(result.summary2())"
   ]
  },
  {
   "cell_type": "code",
   "execution_count": 4,
   "metadata": {},
   "outputs": [],
   "source": [
    "# Can we compare sklearn logistic regression with statsmodel logit?\n",
    "# https://stats.stackexchange.com/questions/203740/logistic-regression-scikit-learn-vs-statsmodels\n",
    "\n",
    "# sm\n",
    "# statsmodel = sm.Logit(df['Class'], df['Feature'])\n",
    "# print(statsmodel.fit().params)\n",
    "# print()\n",
    "\n",
    "# sklearn\n",
    "# nX = df['Feature'].values.reshape(-1,1)\n",
    "# ny = df['Class'].values\n",
    "# mdl = LogisticRegression(C=1e9, solver='lbfgs')\n",
    "# sklearn = mdl.fit(nX, ny)\n",
    "# print('Iterations: ', sklearn.n_iter_)\n",
    "# print('Intercept: ', sklearn.intercept_)\n",
    "# print('Coefficient: ', sklearn.coef_)\n",
    "# print()"
   ]
  },
  {
   "cell_type": "code",
   "execution_count": 5,
   "metadata": {},
   "outputs": [
    {
     "name": "stdout",
     "output_type": "stream",
     "text": [
      "Test size\n",
      "2000\n",
      "\n",
      "Accuracy Score\n",
      "0.8665\n",
      "\n",
      "Confustion matrix\n",
      "[[862 141]\n",
      " [126 871]]\n",
      "tn: 862 fp: 141 fn: 126 tp: 871\n",
      "\n",
      "Classification Report\n",
      "             precision    recall  f1-score   support\n",
      "\n",
      "          0       0.87      0.86      0.87      1003\n",
      "          1       0.86      0.87      0.87       997\n",
      "\n",
      "avg / total       0.87      0.87      0.87      2000\n",
      "\n",
      "\n"
     ]
    }
   ],
   "source": [
    "# Intercept? http://scikit-learn.org/stable/modules/generated/sklearn.linear_model.LogisticRegression.html\n",
    "X = df.drop('Class', axis=1)\n",
    "y = df['Class']\n",
    "\n",
    "X_train, X_test, y_train, y_test = train_test_split(X, y, test_size=0.20)\n",
    "\n",
    "model = LogisticRegression()\n",
    "model.fit(X_train,y_train)\n",
    "predictions = model.predict(X_test)\n",
    "\n",
    "print('Test size')\n",
    "print(len(predictions))\n",
    "print()\n",
    "\n",
    "print('Accuracy Score')\n",
    "print(accuracy_score(y_test, predictions))\n",
    "print()\n",
    "\n",
    "print('Confustion matrix')\n",
    "print(confusion_matrix(y_test,predictions))\n",
    "tn, fp, fn, tp = confusion_matrix(y_test,predictions).ravel()\n",
    "print('tn: {} fp: {} fn: {} tp: {}'.format(tn, fp, fn, tp))\n",
    "print()\n",
    "\n",
    "print('Classification Report')\n",
    "print(classification_report(y_test,predictions))\n",
    "print()"
   ]
  },
  {
   "cell_type": "code",
   "execution_count": 6,
   "metadata": {},
   "outputs": [
    {
     "name": "stdout",
     "output_type": "stream",
     "text": [
      "Misclassified count and location\n",
      "267 [   1    2   11   17   35   39   43   45   54   55   64   69   71   79   84\n",
      "   85   87   93   94  104  117  119  130  135  139  148  152  161  163  171\n",
      "  176  185  189  201  205  207  216  218  228  232  234  242  246  255  257\n",
      "  258  259  270  271  282  322  332  347  354  359  377  381  389  390  393\n",
      "  403  417  437  443  461  462  468  485  493  500  516  524  526  537  544\n",
      "  546  547  559  560  564  576  585  587  591  592  596  600  606  608  617\n",
      "  624  628  632  638  646  648  649  662  663  678  684  695  696  708  724\n",
      "  727  739  756  761  775  785  818  823  825  846  860  871  873  875  893\n",
      "  894  904  919  923  926  937  968  976  982  985  986  990  993  996 1003\n",
      " 1010 1021 1024 1026 1033 1034 1039 1043 1059 1070 1075 1078 1081 1092 1093\n",
      " 1100 1108 1114 1122 1123 1127 1131 1132 1153 1176 1179 1180 1182 1193 1195\n",
      " 1199 1211 1213 1219 1227 1232 1238 1247 1249 1254 1263 1274 1275 1280 1296\n",
      " 1301 1306 1311 1318 1320 1330 1340 1341 1360 1364 1368 1376 1378 1388 1400\n",
      " 1411 1416 1427 1428 1430 1435 1443 1446 1453 1462 1486 1490 1491 1503 1505\n",
      " 1509 1510 1521 1525 1539 1545 1553 1554 1555 1560 1574 1578 1606 1609 1616\n",
      " 1617 1619 1625 1665 1673 1678 1681 1685 1695 1699 1716 1723 1730 1732 1734\n",
      " 1741 1742 1759 1768 1776 1790 1797 1828 1837 1843 1845 1848 1857 1858 1886\n",
      " 1889 1905 1907 1913 1923 1932 1935 1943 1945 1965 1969 1997]\n",
      "\n",
      "     Feature  Class\n",
      "1  -0.470636      0\n",
      "2  -0.526712      1\n",
      "11 -0.742460      1\n",
      "17 -0.665819      0\n",
      "35 -0.871004      0\n"
     ]
    }
   ],
   "source": [
    "print('Misclassified count and location')\n",
    "misclassified = np.flatnonzero(y_test != predictions)\n",
    "print(len(misclassified), misclassified)\n",
    "print()\n",
    "print(df.loc[misclassified,:].head())"
   ]
  },
  {
   "cell_type": "code",
   "execution_count": 7,
   "metadata": {},
   "outputs": [
    {
     "data": {
      "image/png": "[encoded data removed]",
      "text/plain": [
       "<Figure size 432x288 with 1 Axes>"
      ]
     },
     "metadata": {},
     "output_type": "display_data"
    }
   ],
   "source": [
    "# https://towardsdatascience.com/building-a-logistic-regression-in-python-step-by-step-becd4d56c9c8\n",
    "logit_roc_auc = roc_auc_score(y_test, predictions)\n",
    "fpr, tpr, thresholds = roc_curve(y_test, model.predict_proba(X_test)[:,1])\n",
    "plt.figure()\n",
    "plt.plot(fpr, tpr, label='Logistic Regression (area = %0.2f)' % logit_roc_auc)\n",
    "plt.plot([0, 1], [0, 1],'r--')\n",
    "plt.xlim([0.0, 1.0])\n",
    "plt.ylim([0.0, 1.05])\n",
    "plt.xlabel('False Positive Rate')\n",
    "plt.ylabel('True Positive Rate')\n",
    "plt.title('Receiver operating characteristic')\n",
    "plt.legend(loc=\"lower right\")\n",
    "plt.show()"
   ]
  },
  {
   "cell_type": "code",
   "execution_count": 8,
   "metadata": {},
   "outputs": [
    {
     "data": {
      "image/png": "[encoded data removed]",
      "text/plain": [
       "<Figure size 864x288 with 1 Axes>"
      ]
     },
     "metadata": {},
     "output_type": "display_data"
    }
   ],
   "source": [
    "# http://scikit-learn.org/stable/auto_examples/linear_model/plot_logistic.html#sphx-glr-auto-examples-linear-model-plot-logistic-py\n",
    "# Code source: Gael Varoquaux\n",
    "# License: BSD 3 clause\n",
    "\n",
    "# Plot the logistic and linear models\n",
    "plt.figure(figsize=(12, 4))\n",
    "plt.clf()\n",
    "plt.scatter(df['Feature'], df['Class'], color='black', s=2)\n",
    "X_line = np.linspace(-3, 3, 100)\n",
    "\n",
    "def model_func(x):\n",
    "    return 1 / (1 + np.exp(-x))\n",
    "\n",
    "loss = model_func(X_line * model.coef_ + model.intercept_).ravel()\n",
    "plt.plot(X_line, loss, color='red', linewidth=1)\n",
    "\n",
    "ols = LinearRegression()\n",
    "ols.fit(X_train,y_train)\n",
    "plt.plot(X_line, ols.coef_ * X_line + ols.intercept_, linewidth=1)\n",
    "plt.axhline(.5, color='.5')\n",
    "\n",
    "plt.ylabel('Class')\n",
    "plt.xlabel('Feature')\n",
    "plt.xticks(range(-3, 3))\n",
    "plt.yticks([0, 0.5, 1])\n",
    "plt.legend(('Logistic Regression Model', 'Linear Regression Model'), loc=\"lower right\")\n",
    "plt.tight_layout()\n",
    "plt.show()"
   ]
  }
 ],
 "metadata": {
  "kernelspec": {
   "display_name": "Python 3",
   "language": "python",
   "name": "python3"
  },
  "language_info": {
   "codemirror_mode": {
    "name": "ipython",
    "version": 3
   },
   "file_extension": ".py",
   "mimetype": "text/x-python",
   "name": "python",
   "nbconvert_exporter": "python",
   "pygments_lexer": "ipython3",
   "version": "3.6.3"
  }
 },
 "nbformat": 4,
 "nbformat_minor": 2
}
